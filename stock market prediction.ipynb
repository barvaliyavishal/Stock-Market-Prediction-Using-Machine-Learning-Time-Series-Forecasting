{
 "cells": [
  {
   "cell_type": "markdown",
   "id": "049e5f00",
   "metadata": {},
   "source": [
    "A proper literature review for the above-mentioned topic of stock price prediction using recurrent neural networks (RNNs) would typically include the following sections:\n",
    "\n",
    "Introduction:\n",
    "In this section, the importance and relevance of the topic should be highlighted. It should provide background information on the stock market, RNNs, and stock price prediction. The research question should be clearly stated, and the scope and limitations of the study should be outlined.\n",
    "\n",
    "Theory and Concepts:\n",
    "This section should provide a detailed overview of the theoretical concepts and techniques used in the study. It should provide information on RNNs, including how they work and how they can be used for stock price prediction. It should also provide information on the different types of RNNs, including Long Short-Term Memory (LSTM) and Gated Recurrent Units (GRUs), and how they differ from each other.\n",
    "\n",
    "Previous Studies:\n",
    "This section should include a critical analysis of previous studies on stock price prediction using RNNs. It should cover a range of studies from different sources and analyze their findings, methodologies, and limitations. The studies should be categorized based on their approach and the results obtained.\n",
    "\n",
    "Methodology:\n",
    "This section should provide a detailed description of the methodology used in the study. It should include information on the dataset used, the preprocessing techniques, and the model architecture. The section should also include information on the hyperparameters used, such as learning rate and dropout rate.\n",
    "\n",
    "Results and Discussion:\n",
    "This section should present the results of the study and provide a detailed analysis of the findings. It should include graphs and charts to visualize the results and should compare the predicted stock prices with the actual stock prices. The section should also provide a critical evaluation of the methodology used and discuss the limitations of the study.\n",
    "\n",
    "Conclusion:\n",
    "This section should provide a summary of the findings and draw conclusions based on the results obtained. It should highlight the strengths and weaknesses of the study and provide recommendations for future research. It should also reiterate the importance of the topic and its potential impact on the stock market.\n",
    "\n",
    "References:\n",
    "This section should provide a list of all the references used in the study. It should be organized alphabetically and should follow the citation style guidelines of the academic institution or publisher.\n",
    "\n",
    "\n",
    "\n"
   ]
  },
  {
   "cell_type": "code",
   "execution_count": 15,
   "id": "84ef769b",
   "metadata": {},
   "outputs": [],
   "source": [
    "#Data collection and dataframe creation\n",
    "import pandas as pd"
   ]
  },
  {
   "cell_type": "code",
   "execution_count": 16,
   "id": "5f4915dd",
   "metadata": {},
   "outputs": [],
   "source": [
    "def selection_of_company(name):\n",
    "    return pd.read_csv(name)"
   ]
  },
  {
   "cell_type": "code",
   "execution_count": 17,
   "id": "d2b8d08b",
   "metadata": {},
   "outputs": [
    {
     "name": "stdout",
     "output_type": "stream",
     "text": [
      "enter the name of the company for which you want to predict closing stock price Amazon\n"
     ]
    }
   ],
   "source": [
    "company_name=input('enter the name of the company for which you want to predict closing stock price ')\n",
    "temp_name=None\n",
    "if company_name=='Apple':\n",
    "    temp_name='AAPL.csv'\n",
    "elif company_name=='Amazon':\n",
    "    temp_name='AMZN.csv'\n",
    "elif company_name=='Facebook':\n",
    "    temp_name='FB.csv'\n",
    "elif company_name=='Google':\n",
    "    temp_name='GOOGL.csv'\n",
    "elif company_name=='IBM':\n",
    "    temp_name='IBM.csv'\n",
    "elif company_name=='JP Morgan Chase':\n",
    "    temp_name='JPM.csv'\n",
    "elif company_name=='Tesla':\n",
    "    temp_name='TSLA.csv'\n",
    "elif company_name=='Microsoft':\n",
    "    temp_name='MSFT.csv'\n",
    "elif company_name=='General Electric':\n",
    "    temp_name='GE.csv'\n",
    "elif company_name=='GS':\n",
    "    temp_name='GS.csv'\n",
    "else:\n",
    "    print('Please provide correct name of the company')\n",
    "\n",
    "df=selection_of_company(temp_name)"
   ]
  },
  {
   "cell_type": "code",
   "execution_count": 18,
   "id": "3f92fb20",
   "metadata": {},
   "outputs": [
    {
     "data": {
      "text/html": [
       "<div>\n",
       "<style scoped>\n",
       "    .dataframe tbody tr th:only-of-type {\n",
       "        vertical-align: middle;\n",
       "    }\n",
       "\n",
       "    .dataframe tbody tr th {\n",
       "        vertical-align: top;\n",
       "    }\n",
       "\n",
       "    .dataframe thead th {\n",
       "        text-align: right;\n",
       "    }\n",
       "</style>\n",
       "<table border=\"1\" class=\"dataframe\">\n",
       "  <thead>\n",
       "    <tr style=\"text-align: right;\">\n",
       "      <th></th>\n",
       "      <th>Date</th>\n",
       "      <th>Open</th>\n",
       "      <th>High</th>\n",
       "      <th>Low</th>\n",
       "      <th>Close(t)</th>\n",
       "      <th>Volume</th>\n",
       "      <th>SD20</th>\n",
       "      <th>Upper_Band</th>\n",
       "      <th>Lower_Band</th>\n",
       "      <th>S_Close(t-1)</th>\n",
       "      <th>...</th>\n",
       "      <th>QQQ_MA10</th>\n",
       "      <th>QQQ_MA20</th>\n",
       "      <th>QQQ_MA50</th>\n",
       "      <th>SnP_Close</th>\n",
       "      <th>SnP(t-1))</th>\n",
       "      <th>SnP(t-5)</th>\n",
       "      <th>DJIA_Close</th>\n",
       "      <th>DJIA(t-1))</th>\n",
       "      <th>DJIA(t-5)</th>\n",
       "      <th>Close_forcast</th>\n",
       "    </tr>\n",
       "  </thead>\n",
       "  <tbody>\n",
       "    <tr>\n",
       "      <th>0</th>\n",
       "      <td>2010-10-18</td>\n",
       "      <td>165.00</td>\n",
       "      <td>165.19</td>\n",
       "      <td>161.82</td>\n",
       "      <td>163.56</td>\n",
       "      <td>6331300</td>\n",
       "      <td>3.770297</td>\n",
       "      <td>164.383594</td>\n",
       "      <td>149.302406</td>\n",
       "      <td>164.64</td>\n",
       "      <td>...</td>\n",
       "      <td>45.335</td>\n",
       "      <td>44.8280</td>\n",
       "      <td>42.6302</td>\n",
       "      <td>1184.71</td>\n",
       "      <td>1176.19</td>\n",
       "      <td>1165.32</td>\n",
       "      <td>11143.69</td>\n",
       "      <td>11062.78</td>\n",
       "      <td>11010.34</td>\n",
       "      <td>158.67</td>\n",
       "    </tr>\n",
       "    <tr>\n",
       "      <th>1</th>\n",
       "      <td>2010-10-19</td>\n",
       "      <td>160.68</td>\n",
       "      <td>162.80</td>\n",
       "      <td>157.00</td>\n",
       "      <td>158.67</td>\n",
       "      <td>7525000</td>\n",
       "      <td>3.501162</td>\n",
       "      <td>164.242324</td>\n",
       "      <td>150.237676</td>\n",
       "      <td>163.56</td>\n",
       "      <td>...</td>\n",
       "      <td>45.440</td>\n",
       "      <td>44.9185</td>\n",
       "      <td>42.6998</td>\n",
       "      <td>1165.90</td>\n",
       "      <td>1184.71</td>\n",
       "      <td>1169.77</td>\n",
       "      <td>10978.62</td>\n",
       "      <td>11143.69</td>\n",
       "      <td>11020.40</td>\n",
       "      <td>158.67</td>\n",
       "    </tr>\n",
       "    <tr>\n",
       "      <th>2</th>\n",
       "      <td>2010-10-20</td>\n",
       "      <td>158.78</td>\n",
       "      <td>159.87</td>\n",
       "      <td>156.57</td>\n",
       "      <td>158.67</td>\n",
       "      <td>5790400</td>\n",
       "      <td>3.271424</td>\n",
       "      <td>164.124849</td>\n",
       "      <td>151.039151</td>\n",
       "      <td>158.67</td>\n",
       "      <td>...</td>\n",
       "      <td>45.617</td>\n",
       "      <td>45.0315</td>\n",
       "      <td>42.7834</td>\n",
       "      <td>1178.17</td>\n",
       "      <td>1165.90</td>\n",
       "      <td>1178.10</td>\n",
       "      <td>11107.97</td>\n",
       "      <td>10978.62</td>\n",
       "      <td>11096.08</td>\n",
       "      <td>164.97</td>\n",
       "    </tr>\n",
       "    <tr>\n",
       "      <th>3</th>\n",
       "      <td>2010-10-21</td>\n",
       "      <td>162.67</td>\n",
       "      <td>166.13</td>\n",
       "      <td>161.29</td>\n",
       "      <td>164.97</td>\n",
       "      <td>13482500</td>\n",
       "      <td>3.465530</td>\n",
       "      <td>165.119061</td>\n",
       "      <td>151.256939</td>\n",
       "      <td>158.67</td>\n",
       "      <td>...</td>\n",
       "      <td>45.787</td>\n",
       "      <td>45.1500</td>\n",
       "      <td>42.8918</td>\n",
       "      <td>1180.26</td>\n",
       "      <td>1178.17</td>\n",
       "      <td>1173.81</td>\n",
       "      <td>11146.57</td>\n",
       "      <td>11107.97</td>\n",
       "      <td>11094.57</td>\n",
       "      <td>169.13</td>\n",
       "    </tr>\n",
       "    <tr>\n",
       "      <th>4</th>\n",
       "      <td>2010-10-22</td>\n",
       "      <td>162.45</td>\n",
       "      <td>170.17</td>\n",
       "      <td>162.27</td>\n",
       "      <td>169.13</td>\n",
       "      <td>16318400</td>\n",
       "      <td>4.217293</td>\n",
       "      <td>167.042587</td>\n",
       "      <td>150.173413</td>\n",
       "      <td>164.97</td>\n",
       "      <td>...</td>\n",
       "      <td>45.958</td>\n",
       "      <td>45.2395</td>\n",
       "      <td>43.0130</td>\n",
       "      <td>1183.08</td>\n",
       "      <td>1180.26</td>\n",
       "      <td>1176.19</td>\n",
       "      <td>11132.56</td>\n",
       "      <td>11146.57</td>\n",
       "      <td>11062.78</td>\n",
       "      <td>169.00</td>\n",
       "    </tr>\n",
       "  </tbody>\n",
       "</table>\n",
       "<p>5 rows × 64 columns</p>\n",
       "</div>"
      ],
      "text/plain": [
       "         Date    Open    High     Low  Close(t)    Volume      SD20  \\\n",
       "0  2010-10-18  165.00  165.19  161.82    163.56   6331300  3.770297   \n",
       "1  2010-10-19  160.68  162.80  157.00    158.67   7525000  3.501162   \n",
       "2  2010-10-20  158.78  159.87  156.57    158.67   5790400  3.271424   \n",
       "3  2010-10-21  162.67  166.13  161.29    164.97  13482500  3.465530   \n",
       "4  2010-10-22  162.45  170.17  162.27    169.13  16318400  4.217293   \n",
       "\n",
       "   Upper_Band  Lower_Band  S_Close(t-1)  ...  QQQ_MA10  QQQ_MA20  QQQ_MA50  \\\n",
       "0  164.383594  149.302406        164.64  ...    45.335   44.8280   42.6302   \n",
       "1  164.242324  150.237676        163.56  ...    45.440   44.9185   42.6998   \n",
       "2  164.124849  151.039151        158.67  ...    45.617   45.0315   42.7834   \n",
       "3  165.119061  151.256939        158.67  ...    45.787   45.1500   42.8918   \n",
       "4  167.042587  150.173413        164.97  ...    45.958   45.2395   43.0130   \n",
       "\n",
       "   SnP_Close  SnP(t-1))  SnP(t-5)  DJIA_Close  DJIA(t-1))  DJIA(t-5)  \\\n",
       "0    1184.71    1176.19   1165.32    11143.69    11062.78   11010.34   \n",
       "1    1165.90    1184.71   1169.77    10978.62    11143.69   11020.40   \n",
       "2    1178.17    1165.90   1178.10    11107.97    10978.62   11096.08   \n",
       "3    1180.26    1178.17   1173.81    11146.57    11107.97   11094.57   \n",
       "4    1183.08    1180.26   1176.19    11132.56    11146.57   11062.78   \n",
       "\n",
       "   Close_forcast  \n",
       "0         158.67  \n",
       "1         158.67  \n",
       "2         164.97  \n",
       "3         169.13  \n",
       "4         169.00  \n",
       "\n",
       "[5 rows x 64 columns]"
      ]
     },
     "execution_count": 18,
     "metadata": {},
     "output_type": "execute_result"
    }
   ],
   "source": [
    "df.head()"
   ]
  },
  {
   "cell_type": "code",
   "execution_count": 19,
   "id": "429ffcde",
   "metadata": {},
   "outputs": [
    {
     "data": {
      "text/html": [
       "<div>\n",
       "<style scoped>\n",
       "    .dataframe tbody tr th:only-of-type {\n",
       "        vertical-align: middle;\n",
       "    }\n",
       "\n",
       "    .dataframe tbody tr th {\n",
       "        vertical-align: top;\n",
       "    }\n",
       "\n",
       "    .dataframe thead th {\n",
       "        text-align: right;\n",
       "    }\n",
       "</style>\n",
       "<table border=\"1\" class=\"dataframe\">\n",
       "  <thead>\n",
       "    <tr style=\"text-align: right;\">\n",
       "      <th></th>\n",
       "      <th>Date</th>\n",
       "      <th>Open</th>\n",
       "      <th>High</th>\n",
       "      <th>Low</th>\n",
       "      <th>Close(t)</th>\n",
       "      <th>Volume</th>\n",
       "      <th>SD20</th>\n",
       "      <th>Upper_Band</th>\n",
       "      <th>Lower_Band</th>\n",
       "      <th>S_Close(t-1)</th>\n",
       "      <th>...</th>\n",
       "      <th>QQQ_MA10</th>\n",
       "      <th>QQQ_MA20</th>\n",
       "      <th>QQQ_MA50</th>\n",
       "      <th>SnP_Close</th>\n",
       "      <th>SnP(t-1))</th>\n",
       "      <th>SnP(t-5)</th>\n",
       "      <th>DJIA_Close</th>\n",
       "      <th>DJIA(t-1))</th>\n",
       "      <th>DJIA(t-5)</th>\n",
       "      <th>Close_forcast</th>\n",
       "    </tr>\n",
       "  </thead>\n",
       "  <tbody>\n",
       "    <tr>\n",
       "      <th>2468</th>\n",
       "      <td>2020-08-07</td>\n",
       "      <td>3224.01</td>\n",
       "      <td>3240.81</td>\n",
       "      <td>3140.67</td>\n",
       "      <td>3167.46</td>\n",
       "      <td>3929600</td>\n",
       "      <td>80.156041</td>\n",
       "      <td>3247.466081</td>\n",
       "      <td>2926.841919</td>\n",
       "      <td>3225.00</td>\n",
       "      <td>...</td>\n",
       "      <td>266.054</td>\n",
       "      <td>263.4085</td>\n",
       "      <td>252.2098</td>\n",
       "      <td>3351.28</td>\n",
       "      <td>3349.16</td>\n",
       "      <td>3271.12</td>\n",
       "      <td>27433.48</td>\n",
       "      <td>27386.98</td>\n",
       "      <td>26428.32</td>\n",
       "      <td>3148.16</td>\n",
       "    </tr>\n",
       "    <tr>\n",
       "      <th>2469</th>\n",
       "      <td>2020-08-10</td>\n",
       "      <td>3170.31</td>\n",
       "      <td>3172.51</td>\n",
       "      <td>3101.52</td>\n",
       "      <td>3148.16</td>\n",
       "      <td>3167300</td>\n",
       "      <td>81.245329</td>\n",
       "      <td>3251.852657</td>\n",
       "      <td>2926.871343</td>\n",
       "      <td>3167.46</td>\n",
       "      <td>...</td>\n",
       "      <td>267.073</td>\n",
       "      <td>263.9970</td>\n",
       "      <td>252.9570</td>\n",
       "      <td>3360.47</td>\n",
       "      <td>3351.28</td>\n",
       "      <td>3294.61</td>\n",
       "      <td>27791.44</td>\n",
       "      <td>27433.48</td>\n",
       "      <td>26664.40</td>\n",
       "      <td>3080.67</td>\n",
       "    </tr>\n",
       "    <tr>\n",
       "      <th>2470</th>\n",
       "      <td>2020-08-11</td>\n",
       "      <td>3113.20</td>\n",
       "      <td>3159.22</td>\n",
       "      <td>3073.00</td>\n",
       "      <td>3080.67</td>\n",
       "      <td>3718100</td>\n",
       "      <td>81.260306</td>\n",
       "      <td>3251.716113</td>\n",
       "      <td>2926.674887</td>\n",
       "      <td>3148.16</td>\n",
       "      <td>...</td>\n",
       "      <td>267.911</td>\n",
       "      <td>264.2380</td>\n",
       "      <td>253.5878</td>\n",
       "      <td>3333.69</td>\n",
       "      <td>3360.47</td>\n",
       "      <td>3306.51</td>\n",
       "      <td>27686.91</td>\n",
       "      <td>27791.44</td>\n",
       "      <td>26828.47</td>\n",
       "      <td>3162.24</td>\n",
       "    </tr>\n",
       "    <tr>\n",
       "      <th>2471</th>\n",
       "      <td>2020-08-12</td>\n",
       "      <td>3108.00</td>\n",
       "      <td>3174.39</td>\n",
       "      <td>3101.42</td>\n",
       "      <td>3162.24</td>\n",
       "      <td>3527200</td>\n",
       "      <td>80.514368</td>\n",
       "      <td>3257.892736</td>\n",
       "      <td>2935.835264</td>\n",
       "      <td>3080.67</td>\n",
       "      <td>...</td>\n",
       "      <td>269.120</td>\n",
       "      <td>264.7860</td>\n",
       "      <td>254.3206</td>\n",
       "      <td>3380.35</td>\n",
       "      <td>3333.69</td>\n",
       "      <td>3327.77</td>\n",
       "      <td>27976.84</td>\n",
       "      <td>27686.91</td>\n",
       "      <td>27201.52</td>\n",
       "      <td>3161.02</td>\n",
       "    </tr>\n",
       "    <tr>\n",
       "      <th>2472</th>\n",
       "      <td>2020-08-13</td>\n",
       "      <td>3182.99</td>\n",
       "      <td>3217.52</td>\n",
       "      <td>3155.00</td>\n",
       "      <td>3161.02</td>\n",
       "      <td>3149000</td>\n",
       "      <td>78.332859</td>\n",
       "      <td>3261.585717</td>\n",
       "      <td>2948.254283</td>\n",
       "      <td>3162.24</td>\n",
       "      <td>...</td>\n",
       "      <td>270.255</td>\n",
       "      <td>265.4540</td>\n",
       "      <td>255.0446</td>\n",
       "      <td>3373.43</td>\n",
       "      <td>3380.35</td>\n",
       "      <td>3349.16</td>\n",
       "      <td>27896.72</td>\n",
       "      <td>27976.84</td>\n",
       "      <td>27386.98</td>\n",
       "      <td>3148.02</td>\n",
       "    </tr>\n",
       "  </tbody>\n",
       "</table>\n",
       "<p>5 rows × 64 columns</p>\n",
       "</div>"
      ],
      "text/plain": [
       "            Date     Open     High      Low  Close(t)   Volume       SD20  \\\n",
       "2468  2020-08-07  3224.01  3240.81  3140.67   3167.46  3929600  80.156041   \n",
       "2469  2020-08-10  3170.31  3172.51  3101.52   3148.16  3167300  81.245329   \n",
       "2470  2020-08-11  3113.20  3159.22  3073.00   3080.67  3718100  81.260306   \n",
       "2471  2020-08-12  3108.00  3174.39  3101.42   3162.24  3527200  80.514368   \n",
       "2472  2020-08-13  3182.99  3217.52  3155.00   3161.02  3149000  78.332859   \n",
       "\n",
       "       Upper_Band   Lower_Band  S_Close(t-1)  ...  QQQ_MA10  QQQ_MA20  \\\n",
       "2468  3247.466081  2926.841919       3225.00  ...   266.054  263.4085   \n",
       "2469  3251.852657  2926.871343       3167.46  ...   267.073  263.9970   \n",
       "2470  3251.716113  2926.674887       3148.16  ...   267.911  264.2380   \n",
       "2471  3257.892736  2935.835264       3080.67  ...   269.120  264.7860   \n",
       "2472  3261.585717  2948.254283       3162.24  ...   270.255  265.4540   \n",
       "\n",
       "      QQQ_MA50  SnP_Close  SnP(t-1))  SnP(t-5)  DJIA_Close  DJIA(t-1))  \\\n",
       "2468  252.2098    3351.28    3349.16   3271.12    27433.48    27386.98   \n",
       "2469  252.9570    3360.47    3351.28   3294.61    27791.44    27433.48   \n",
       "2470  253.5878    3333.69    3360.47   3306.51    27686.91    27791.44   \n",
       "2471  254.3206    3380.35    3333.69   3327.77    27976.84    27686.91   \n",
       "2472  255.0446    3373.43    3380.35   3349.16    27896.72    27976.84   \n",
       "\n",
       "      DJIA(t-5)  Close_forcast  \n",
       "2468   26428.32        3148.16  \n",
       "2469   26664.40        3080.67  \n",
       "2470   26828.47        3162.24  \n",
       "2471   27201.52        3161.02  \n",
       "2472   27386.98        3148.02  \n",
       "\n",
       "[5 rows x 64 columns]"
      ]
     },
     "execution_count": 19,
     "metadata": {},
     "output_type": "execute_result"
    }
   ],
   "source": [
    "df.tail()"
   ]
  },
  {
   "cell_type": "code",
   "execution_count": 20,
   "id": "be88c1e3",
   "metadata": {},
   "outputs": [],
   "source": [
    "df=df.reset_index()"
   ]
  },
  {
   "cell_type": "code",
   "execution_count": 21,
   "id": "00aba795",
   "metadata": {},
   "outputs": [
    {
     "data": {
      "text/plain": [
       "index            0\n",
       "Date             0\n",
       "Open             0\n",
       "High             0\n",
       "Low              0\n",
       "                ..\n",
       "SnP(t-5)         0\n",
       "DJIA_Close       0\n",
       "DJIA(t-1))       0\n",
       "DJIA(t-5)        0\n",
       "Close_forcast    0\n",
       "Length: 65, dtype: int64"
      ]
     },
     "execution_count": 21,
     "metadata": {},
     "output_type": "execute_result"
    }
   ],
   "source": [
    "df.isnull().sum()"
   ]
  },
  {
   "cell_type": "markdown",
   "id": "329696cd",
   "metadata": {},
   "source": [
    "Prediction of closing prices"
   ]
  },
  {
   "cell_type": "code",
   "execution_count": 22,
   "id": "f2cf6d80",
   "metadata": {},
   "outputs": [],
   "source": [
    "df1=df['Close(t)']"
   ]
  },
  {
   "cell_type": "code",
   "execution_count": 23,
   "id": "e2265178",
   "metadata": {},
   "outputs": [
    {
     "data": {
      "text/plain": [
       "0        163.56\n",
       "1        158.67\n",
       "2        158.67\n",
       "3        164.97\n",
       "4        169.13\n",
       "         ...   \n",
       "2468    3167.46\n",
       "2469    3148.16\n",
       "2470    3080.67\n",
       "2471    3162.24\n",
       "2472    3161.02\n",
       "Name: Close(t), Length: 2473, dtype: float64"
      ]
     },
     "execution_count": 23,
     "metadata": {},
     "output_type": "execute_result"
    }
   ],
   "source": [
    "df1"
   ]
  },
  {
   "cell_type": "code",
   "execution_count": 24,
   "id": "341f0018",
   "metadata": {},
   "outputs": [
    {
     "data": {
      "text/plain": [
       "[<matplotlib.lines.Line2D at 0x24b471b10a0>]"
      ]
     },
     "execution_count": 24,
     "metadata": {},
     "output_type": "execute_result"
    },
    {
     "data": {
      "image/png": "[encoded data removed]",
      "text/plain": [
       "<Figure size 432x288 with 1 Axes>"
      ]
     },
     "metadata": {
      "needs_background": "light"
     },
     "output_type": "display_data"
    }
   ],
   "source": [
    "import matplotlib.pyplot as plt\n",
    "plt.plot(df1)"
   ]
  },
  {
   "cell_type": "code",
   "execution_count": 25,
   "id": "e5dda698",
   "metadata": {},
   "outputs": [],
   "source": [
    "### LSTM are sensitive to the scale of the data. so we apply MinMax scaler \n"
   ]
  },
  {
   "cell_type": "code",
   "execution_count": 26,
   "id": "872ad7f7",
   "metadata": {},
   "outputs": [],
   "source": [
    "import numpy as np\n"
   ]
  },
  {
   "cell_type": "code",
   "execution_count": 27,
   "id": "2b8c03d3",
   "metadata": {},
   "outputs": [
    {
     "data": {
      "text/plain": [
       "0        163.56\n",
       "1        158.67\n",
       "2        158.67\n",
       "3        164.97\n",
       "4        169.13\n",
       "         ...   \n",
       "2468    3167.46\n",
       "2469    3148.16\n",
       "2470    3080.67\n",
       "2471    3162.24\n",
       "2472    3161.02\n",
       "Name: Close(t), Length: 2473, dtype: float64"
      ]
     },
     "execution_count": 27,
     "metadata": {},
     "output_type": "execute_result"
    }
   ],
   "source": [
    "df1\n"
   ]
  },
  {
   "cell_type": "code",
   "execution_count": 28,
   "id": "4892fc7d",
   "metadata": {},
   "outputs": [
    {
     "data": {
      "text/plain": [
       "array([[0, '2010-10-18', 165.0, ..., 11062.78, 11010.34, 158.67],\n",
       "       [1, '2010-10-19', 160.68, ..., 11143.69, 11020.4, 158.67],\n",
       "       [2, '2010-10-20', 158.78, ..., 10978.62, 11096.08, 164.97],\n",
       "       ...,\n",
       "       [2470, '2020-08-11', 3113.2, ..., 27791.44, 26828.47, 3162.24],\n",
       "       [2471, '2020-08-12', 3108.0, ..., 27686.91, 27201.52, 3161.02],\n",
       "       [2472, '2020-08-13', 3182.99, ..., 27976.84, 27386.98, 3148.02]],\n",
       "      dtype=object)"
      ]
     },
     "execution_count": 28,
     "metadata": {},
     "output_type": "execute_result"
    }
   ],
   "source": [
    "np.array(df)"
   ]
  },
  {
   "cell_type": "code",
   "execution_count": 33,
   "id": "f59c17c3",
   "metadata": {},
   "outputs": [
    {
     "ename": "ModuleNotFoundError",
     "evalue": "No module named 'sklearn.preprocessing'",
     "output_type": "error",
     "traceback": [
      "\u001b[1;31m---------------------------------------------------------------------------\u001b[0m",
      "\u001b[1;31mModuleNotFoundError\u001b[0m                       Traceback (most recent call last)",
      "\u001b[1;32m~\\AppData\\Local\\Temp/ipykernel_14752/3083382152.py\u001b[0m in \u001b[0;36m<module>\u001b[1;34m\u001b[0m\n\u001b[1;32m----> 1\u001b[1;33m \u001b[1;32mimport\u001b[0m \u001b[0msklearn\u001b[0m\u001b[1;33m.\u001b[0m\u001b[0mpreprocessing\u001b[0m\u001b[1;33m\u001b[0m\u001b[1;33m\u001b[0m\u001b[0m\n\u001b[0m",
      "\u001b[1;31mModuleNotFoundError\u001b[0m: No module named 'sklearn.preprocessing'"
     ]
    }
   ],
   "source": [
    "import sklearn."
   ]
  },
  {
   "cell_type": "code",
   "execution_count": 32,
   "id": "e947a614",
   "metadata": {},
   "outputs": [
    {
     "ename": "ModuleNotFoundError",
     "evalue": "No module named 'sklearn.preprocessing'",
     "output_type": "error",
     "traceback": [
      "\u001b[1;31m---------------------------------------------------------------------------\u001b[0m",
      "\u001b[1;31mModuleNotFoundError\u001b[0m                       Traceback (most recent call last)",
      "\u001b[1;32m~\\AppData\\Local\\Temp/ipykernel_14752/2333652226.py\u001b[0m in \u001b[0;36m<module>\u001b[1;34m\u001b[0m\n\u001b[1;32m----> 1\u001b[1;33m \u001b[1;32mfrom\u001b[0m \u001b[0msklearn\u001b[0m\u001b[1;33m.\u001b[0m\u001b[0mpreprocessing\u001b[0m \u001b[1;32mimport\u001b[0m \u001b[0mMinMaxScaler\u001b[0m\u001b[1;33m\u001b[0m\u001b[1;33m\u001b[0m\u001b[0m\n\u001b[0m\u001b[0;32m      2\u001b[0m \u001b[0mscaler\u001b[0m\u001b[1;33m=\u001b[0m\u001b[0mMinMaxScaler\u001b[0m\u001b[1;33m(\u001b[0m\u001b[0mfeature_range\u001b[0m\u001b[1;33m=\u001b[0m\u001b[1;33m(\u001b[0m\u001b[1;36m0\u001b[0m\u001b[1;33m,\u001b[0m\u001b[1;36m1\u001b[0m\u001b[1;33m)\u001b[0m\u001b[1;33m)\u001b[0m\u001b[1;33m\u001b[0m\u001b[1;33m\u001b[0m\u001b[0m\n\u001b[0;32m      3\u001b[0m \u001b[0mdf1\u001b[0m\u001b[1;33m=\u001b[0m\u001b[0mscaler\u001b[0m\u001b[1;33m.\u001b[0m\u001b[0mfit_transform\u001b[0m\u001b[1;33m(\u001b[0m\u001b[0mnp\u001b[0m\u001b[1;33m.\u001b[0m\u001b[0marray\u001b[0m\u001b[1;33m(\u001b[0m\u001b[0mdf1\u001b[0m\u001b[1;33m)\u001b[0m\u001b[1;33m.\u001b[0m\u001b[0mreshape\u001b[0m\u001b[1;33m(\u001b[0m\u001b[1;33m-\u001b[0m\u001b[1;36m1\u001b[0m\u001b[1;33m,\u001b[0m\u001b[1;36m1\u001b[0m\u001b[1;33m)\u001b[0m\u001b[1;33m)\u001b[0m\u001b[1;33m\u001b[0m\u001b[1;33m\u001b[0m\u001b[0m\n",
      "\u001b[1;31mModuleNotFoundError\u001b[0m: No module named 'sklearn.preprocessing'"
     ]
    }
   ],
   "source": [
    "from sklearn.preprocessing import MinMaxScaler\n",
    "scaler=MinMaxScaler(feature_range=(0,1))\n",
    "df1=scaler.fit_transform(np.array(df1).reshape(-1,1))"
   ]
  },
  {
   "cell_type": "code",
   "execution_count": 30,
   "id": "3bf71859",
   "metadata": {},
   "outputs": [
    {
     "name": "stdout",
     "output_type": "stream",
     "text": [
      "0        163.56\n",
      "1        158.67\n",
      "2        158.67\n",
      "3        164.97\n",
      "4        169.13\n",
      "         ...   \n",
      "2468    3167.46\n",
      "2469    3148.16\n",
      "2470    3080.67\n",
      "2471    3162.24\n",
      "2472    3161.02\n",
      "Name: Close(t), Length: 2473, dtype: float64\n"
     ]
    }
   ],
   "source": [
    "print(df1)\n"
   ]
  },
  {
   "cell_type": "code",
   "execution_count": 17,
   "id": "411c699b",
   "metadata": {},
   "outputs": [
    {
     "data": {
      "text/plain": [
       "(2473, 1)"
      ]
     },
     "execution_count": 17,
     "metadata": {},
     "output_type": "execute_result"
    }
   ],
   "source": [
    "df1.shape"
   ]
  },
  {
   "cell_type": "code",
   "execution_count": 18,
   "id": "669b15ee",
   "metadata": {},
   "outputs": [],
   "source": [
    "##splitting dataset into train and test split\n",
    "training_size=int(len(df1)*0.65)\n",
    "test_size=len(df1)-training_size\n",
    "train_data,test_data=df1[0:training_size,:],df1[training_size:len(df1),:1]"
   ]
  },
  {
   "cell_type": "code",
   "execution_count": 19,
   "id": "10fea41a",
   "metadata": {},
   "outputs": [
    {
     "data": {
      "text/plain": [
       "(1607, 866)"
      ]
     },
     "execution_count": 19,
     "metadata": {},
     "output_type": "execute_result"
    }
   ],
   "source": [
    "training_size,test_size\n"
   ]
  },
  {
   "cell_type": "code",
   "execution_count": 20,
   "id": "eac518d9",
   "metadata": {},
   "outputs": [
    {
     "data": {
      "text/plain": [
       "array([[0.00188444],\n",
       "       [0.00029017],\n",
       "       [0.00029017],\n",
       "       ...,\n",
       "       [0.22564407],\n",
       "       [0.22457796],\n",
       "       [0.2243856 ]])"
      ]
     },
     "execution_count": 20,
     "metadata": {},
     "output_type": "execute_result"
    }
   ],
   "source": [
    "train_data\n"
   ]
  },
  {
   "cell_type": "code",
   "execution_count": 21,
   "id": "9b283a98",
   "metadata": {},
   "outputs": [
    {
     "data": {
      "text/plain": [
       "1607"
      ]
     },
     "execution_count": 21,
     "metadata": {},
     "output_type": "execute_result"
    }
   ],
   "source": [
    "len(train_data)"
   ]
  },
  {
   "cell_type": "code",
   "execution_count": 22,
   "id": "0c7877e6",
   "metadata": {},
   "outputs": [
    {
     "data": {
      "text/plain": [
       "array([0.00188444, 0.00029017, 0.00029017, 0.00234414, 0.00370042,\n",
       "       0.00365804, 0.00396776, 0.00317225, 0.00295381, 0.00242891,\n",
       "       0.00156494, 0.00222677, 0.00348524, 0.00363521, 0.00423511,\n",
       "       0.00463286, 0.00407209, 0.00506974, 0.00410469, 0.00257562,\n",
       "       0.00036515, 0.        , 0.00018584, 0.00208332, 0.00229524,\n",
       "       0.00411121, 0.00339721, 0.00634777, 0.00633147, 0.00707807,\n",
       "       0.00574462, 0.00611955, 0.00611303, 0.0058359 , 0.00660859,\n",
       "       0.00619127, 0.00603478, 0.0055653 , 0.00581634, 0.00536968,\n",
       "       0.00526861, 0.00580004, 0.00660533, 0.00645536, 0.00831698,\n",
       "       0.00879298, 0.00879624, 0.00808876, 0.00794205, 0.00759972,\n",
       "       0.00834306, 0.00814092, 0.00724435, 0.00862018, 0.00887775,\n",
       "       0.00966347, 0.00915487, 0.00903424, 0.00877016, 0.00865931,\n",
       "       0.00857454, 0.00904728, 0.01009709, 0.01091216, 0.00948416,\n",
       "       0.00788336, 0.00640319, 0.00621736, 0.00616845, 0.00574136,\n",
       "       0.00869517, 0.00435574, 0.00386669, 0.00467198, 0.00513494,\n",
       "       0.00519363, 0.00591741, 0.00608042, 0.00824199, 0.00897229,\n",
       "       0.00926898, 0.01026011, 0.01064156, 0.01018838, 0.00940265,\n",
       "       0.00977432, 0.00936353, 0.00738128, 0.00616193, 0.00651078,\n",
       "       0.00634451, 0.0050567 , 0.00380149, 0.00464264, 0.00489368,\n",
       "       0.00452853, 0.00368412, 0.00297012, 0.00367434, 0.0027256 ])"
      ]
     },
     "execution_count": 22,
     "metadata": {},
     "output_type": "execute_result"
    }
   ],
   "source": [
    "train_data[0:100,0]"
   ]
  },
  {
   "cell_type": "code",
   "execution_count": 23,
   "id": "5ff61a9a",
   "metadata": {},
   "outputs": [],
   "source": [
    "import numpy\n",
    "# convert an array of values into a dataset matrix\n",
    "def create_dataset(dataset, time_step=1):\n",
    "    dataX, dataY = [], []\n",
    "    for i in range(len(dataset)-time_step-1):\n",
    "        a = dataset[i:(i+time_step), 0]   ###i=0, 0,1,2,3-----99   100 \n",
    "        dataX.append(a)\n",
    "        dataY.append(dataset[i + time_step, 0])\n",
    "    return numpy.array(dataX), numpy.array(dataY)"
   ]
  },
  {
   "cell_type": "code",
   "execution_count": 24,
   "id": "1f6ff827",
   "metadata": {},
   "outputs": [],
   "source": [
    "# reshape into X=t,t+1,t+2,t+3 and Y=t+4\n",
    "time_step = 100\n",
    "X_train, y_train = create_dataset(train_data, time_step)\n",
    "X_test, ytest = create_dataset(test_data, time_step)"
   ]
  },
  {
   "cell_type": "code",
   "execution_count": 25,
   "id": "5d3c8582",
   "metadata": {},
   "outputs": [
    {
     "data": {
      "text/plain": [
       "array([[0.00188444, 0.00029017, 0.00029017, ..., 0.00297012, 0.00367434,\n",
       "        0.0027256 ],\n",
       "       [0.00029017, 0.00029017, 0.00234414, ..., 0.00367434, 0.0027256 ,\n",
       "        0.00335483],\n",
       "       [0.00029017, 0.00234414, 0.00370042, ..., 0.0027256 , 0.00335483,\n",
       "        0.00291795],\n",
       "       ...,\n",
       "       [0.22296412, 0.22223707, 0.22298042, ..., 0.22523979, 0.22406609,\n",
       "        0.22668736],\n",
       "       [0.22223707, 0.22298042, 0.21948866, ..., 0.22406609, 0.22668736,\n",
       "        0.22532782],\n",
       "       [0.22298042, 0.21948866, 0.22049608, ..., 0.22668736, 0.22532782,\n",
       "        0.22564407]])"
      ]
     },
     "execution_count": 25,
     "metadata": {},
     "output_type": "execute_result"
    }
   ],
   "source": [
    "X_train"
   ]
  },
  {
   "cell_type": "code",
   "execution_count": 26,
   "id": "08c76335",
   "metadata": {
    "scrolled": true
   },
   "outputs": [
    {
     "name": "stdout",
     "output_type": "stream",
     "text": [
      "(1506, 100)\n",
      "(1506,)\n"
     ]
    },
    {
     "data": {
      "text/plain": [
       "(None, None)"
      ]
     },
     "execution_count": 26,
     "metadata": {},
     "output_type": "execute_result"
    }
   ],
   "source": [
    "print(X_train.shape), print(y_train.shape)\n"
   ]
  },
  {
   "cell_type": "code",
   "execution_count": 27,
   "id": "0f166197",
   "metadata": {},
   "outputs": [
    {
     "data": {
      "text/plain": [
       "1506"
      ]
     },
     "execution_count": 27,
     "metadata": {},
     "output_type": "execute_result"
    }
   ],
   "source": [
    "X_train.shape[0]"
   ]
  },
  {
   "cell_type": "code",
   "execution_count": 28,
   "id": "6a07184a",
   "metadata": {},
   "outputs": [
    {
     "name": "stdout",
     "output_type": "stream",
     "text": [
      "(765, 100)\n",
      "(765,)\n"
     ]
    },
    {
     "data": {
      "text/plain": [
       "(None, None)"
      ]
     },
     "execution_count": 28,
     "metadata": {},
     "output_type": "execute_result"
    }
   ],
   "source": [
    "print(X_test.shape), print(ytest.shape)"
   ]
  },
  {
   "cell_type": "code",
   "execution_count": 29,
   "id": "0c0d7a85",
   "metadata": {},
   "outputs": [],
   "source": [
    "# reshape input to be [samples, time steps, features] which is required for LSTM\n",
    "X_train =X_train.reshape(X_train.shape[0],X_train.shape[1] , 1)\n",
    "X_test = X_test.reshape(X_test.shape[0],X_test.shape[1] , 1)"
   ]
  },
  {
   "cell_type": "code",
   "execution_count": 30,
   "id": "193d022d",
   "metadata": {},
   "outputs": [],
   "source": [
    "### Create the Stacked LSTM model\n",
    "\n",
    "from tensorflow.keras.models import Sequential\n",
    "from tensorflow.keras.layers import Dense\n",
    "from tensorflow.keras.layers import LSTM"
   ]
  },
  {
   "cell_type": "code",
   "execution_count": 31,
   "id": "5388c25d",
   "metadata": {},
   "outputs": [],
   "source": [
    "model=Sequential()\n",
    "model.add(LSTM(50,return_sequences=True,input_shape=(100,1)))\n",
    "model.add(LSTM(50,return_sequences=True))\n",
    "model.add(LSTM(50))\n",
    "model.add(Dense(1))\n",
    "model.compile(loss='mean_squared_error',optimizer='adam')"
   ]
  },
  {
   "cell_type": "code",
   "execution_count": 32,
   "id": "f9dc77df",
   "metadata": {},
   "outputs": [
    {
     "name": "stdout",
     "output_type": "stream",
     "text": [
      "Epoch 1/100\n",
      "24/24 [==============================] - 13s 241ms/step - loss: 0.0015 - val_loss: 0.0028\n",
      "Epoch 2/100\n",
      "24/24 [==============================] - 5s 224ms/step - loss: 9.3650e-05 - val_loss: 0.0022\n",
      "Epoch 3/100\n",
      "24/24 [==============================] - 5s 217ms/step - loss: 5.5168e-05 - val_loss: 0.0012\n",
      "Epoch 4/100\n",
      "24/24 [==============================] - 5s 197ms/step - loss: 5.4751e-05 - val_loss: 0.0013\n",
      "Epoch 5/100\n",
      "24/24 [==============================] - 5s 201ms/step - loss: 5.0446e-05 - val_loss: 0.0012\n",
      "Epoch 6/100\n",
      "24/24 [==============================] - 4s 188ms/step - loss: 4.5651e-05 - val_loss: 0.0014\n",
      "Epoch 7/100\n",
      "24/24 [==============================] - 4s 185ms/step - loss: 4.7109e-05 - val_loss: 0.0013\n",
      "Epoch 8/100\n",
      "24/24 [==============================] - 4s 182ms/step - loss: 4.4444e-05 - val_loss: 0.0012\n",
      "Epoch 9/100\n",
      "24/24 [==============================] - 5s 196ms/step - loss: 4.6516e-05 - val_loss: 0.0016\n",
      "Epoch 10/100\n",
      "24/24 [==============================] - 5s 197ms/step - loss: 4.0341e-05 - val_loss: 0.0019\n",
      "Epoch 11/100\n",
      "24/24 [==============================] - 4s 182ms/step - loss: 4.0434e-05 - val_loss: 0.0014\n",
      "Epoch 12/100\n",
      "24/24 [==============================] - 4s 183ms/step - loss: 4.0040e-05 - val_loss: 0.0020\n",
      "Epoch 13/100\n",
      "24/24 [==============================] - 5s 192ms/step - loss: 3.7911e-05 - val_loss: 0.0016\n",
      "Epoch 14/100\n",
      "24/24 [==============================] - 5s 204ms/step - loss: 3.7693e-05 - val_loss: 0.0015\n",
      "Epoch 15/100\n",
      "24/24 [==============================] - 4s 183ms/step - loss: 4.2099e-05 - val_loss: 0.0015\n",
      "Epoch 16/100\n",
      "24/24 [==============================] - 4s 168ms/step - loss: 4.0777e-05 - val_loss: 0.0019\n",
      "Epoch 17/100\n",
      "24/24 [==============================] - 4s 166ms/step - loss: 3.5037e-05 - val_loss: 0.0022\n",
      "Epoch 18/100\n",
      "24/24 [==============================] - 4s 172ms/step - loss: 3.6498e-05 - val_loss: 0.0015\n",
      "Epoch 19/100\n",
      "24/24 [==============================] - 4s 175ms/step - loss: 3.2273e-05 - val_loss: 0.0013\n",
      "Epoch 20/100\n",
      "24/24 [==============================] - 5s 198ms/step - loss: 3.3975e-05 - val_loss: 0.0015\n",
      "Epoch 21/100\n",
      "24/24 [==============================] - 5s 194ms/step - loss: 2.9933e-05 - val_loss: 0.0024\n",
      "Epoch 22/100\n",
      "24/24 [==============================] - 5s 189ms/step - loss: 3.2267e-05 - val_loss: 0.0014\n",
      "Epoch 23/100\n",
      "24/24 [==============================] - 4s 174ms/step - loss: 3.5808e-05 - val_loss: 0.0012\n",
      "Epoch 24/100\n",
      "24/24 [==============================] - 5s 205ms/step - loss: 3.5009e-05 - val_loss: 0.0014\n",
      "Epoch 25/100\n",
      "24/24 [==============================] - 5s 190ms/step - loss: 2.9566e-05 - val_loss: 0.0020\n",
      "Epoch 26/100\n",
      "24/24 [==============================] - 5s 204ms/step - loss: 3.2145e-05 - val_loss: 0.0014\n",
      "Epoch 27/100\n",
      "24/24 [==============================] - 5s 190ms/step - loss: 3.5280e-05 - val_loss: 0.0010\n",
      "Epoch 28/100\n",
      "24/24 [==============================] - 4s 180ms/step - loss: 2.8770e-05 - val_loss: 0.0022\n",
      "Epoch 29/100\n",
      "24/24 [==============================] - 4s 183ms/step - loss: 2.7233e-05 - val_loss: 0.0011\n",
      "Epoch 30/100\n",
      "24/24 [==============================] - 5s 193ms/step - loss: 2.6725e-05 - val_loss: 0.0013\n",
      "Epoch 31/100\n",
      "24/24 [==============================] - 4s 181ms/step - loss: 2.7970e-05 - val_loss: 0.0017\n",
      "Epoch 32/100\n",
      "24/24 [==============================] - 4s 172ms/step - loss: 2.9595e-05 - val_loss: 0.0014\n",
      "Epoch 33/100\n",
      "24/24 [==============================] - 4s 175ms/step - loss: 2.7051e-05 - val_loss: 0.0016\n",
      "Epoch 34/100\n",
      "24/24 [==============================] - 4s 174ms/step - loss: 2.6764e-05 - val_loss: 9.9291e-04\n",
      "Epoch 35/100\n",
      "24/24 [==============================] - 4s 168ms/step - loss: 2.8022e-05 - val_loss: 7.6648e-04\n",
      "Epoch 36/100\n",
      "24/24 [==============================] - 4s 173ms/step - loss: 3.1706e-05 - val_loss: 8.8333e-04\n",
      "Epoch 37/100\n",
      "24/24 [==============================] - 4s 186ms/step - loss: 3.0391e-05 - val_loss: 0.0010\n",
      "Epoch 38/100\n",
      "24/24 [==============================] - 4s 174ms/step - loss: 2.4365e-05 - val_loss: 0.0012\n",
      "Epoch 39/100\n",
      "24/24 [==============================] - 4s 169ms/step - loss: 2.6680e-05 - val_loss: 9.1442e-04\n",
      "Epoch 40/100\n",
      "24/24 [==============================] - 4s 174ms/step - loss: 2.5093e-05 - val_loss: 0.0014\n",
      "Epoch 41/100\n",
      "24/24 [==============================] - 4s 171ms/step - loss: 2.2030e-05 - val_loss: 0.0014\n",
      "Epoch 42/100\n",
      "24/24 [==============================] - 4s 163ms/step - loss: 2.5570e-05 - val_loss: 0.0013\n",
      "Epoch 43/100\n",
      "24/24 [==============================] - 4s 165ms/step - loss: 2.7237e-05 - val_loss: 7.7726e-04\n",
      "Epoch 44/100\n",
      "24/24 [==============================] - 4s 174ms/step - loss: 2.4847e-05 - val_loss: 8.1412e-04\n",
      "Epoch 45/100\n",
      "24/24 [==============================] - 4s 186ms/step - loss: 2.1660e-05 - val_loss: 0.0016\n",
      "Epoch 46/100\n",
      "24/24 [==============================] - 4s 168ms/step - loss: 2.3210e-05 - val_loss: 0.0013\n",
      "Epoch 47/100\n",
      "24/24 [==============================] - 5s 194ms/step - loss: 2.2574e-05 - val_loss: 6.0174e-04\n",
      "Epoch 48/100\n",
      "24/24 [==============================] - 5s 204ms/step - loss: 2.0493e-05 - val_loss: 7.7064e-04\n",
      "Epoch 49/100\n",
      "24/24 [==============================] - 5s 188ms/step - loss: 2.2243e-05 - val_loss: 6.2104e-04\n",
      "Epoch 50/100\n",
      "24/24 [==============================] - 5s 219ms/step - loss: 2.0711e-05 - val_loss: 8.0754e-04\n",
      "Epoch 51/100\n",
      "24/24 [==============================] - 5s 211ms/step - loss: 2.0028e-05 - val_loss: 7.1231e-04\n",
      "Epoch 52/100\n",
      "24/24 [==============================] - 5s 208ms/step - loss: 1.8784e-05 - val_loss: 8.9606e-04\n",
      "Epoch 53/100\n",
      "24/24 [==============================] - 5s 198ms/step - loss: 1.9683e-05 - val_loss: 5.3779e-04\n",
      "Epoch 54/100\n",
      "24/24 [==============================] - 5s 201ms/step - loss: 1.8827e-05 - val_loss: 6.0579e-04\n",
      "Epoch 55/100\n",
      "24/24 [==============================] - 5s 219ms/step - loss: 1.9751e-05 - val_loss: 0.0016\n",
      "Epoch 56/100\n",
      "24/24 [==============================] - 5s 192ms/step - loss: 1.9890e-05 - val_loss: 0.0010\n",
      "Epoch 57/100\n",
      "24/24 [==============================] - 4s 183ms/step - loss: 2.7619e-05 - val_loss: 6.6901e-04\n",
      "Epoch 58/100\n",
      "24/24 [==============================] - 5s 223ms/step - loss: 1.9122e-05 - val_loss: 0.0010\n",
      "Epoch 59/100\n",
      "24/24 [==============================] - 5s 218ms/step - loss: 2.1106e-05 - val_loss: 5.6730e-04\n",
      "Epoch 60/100\n",
      "24/24 [==============================] - 5s 193ms/step - loss: 1.8099e-05 - val_loss: 6.5304e-04\n",
      "Epoch 61/100\n",
      "24/24 [==============================] - 5s 195ms/step - loss: 1.7711e-05 - val_loss: 8.6213e-04\n",
      "Epoch 62/100\n",
      "24/24 [==============================] - 6s 256ms/step - loss: 1.6740e-05 - val_loss: 9.8090e-04\n",
      "Epoch 63/100\n",
      "24/24 [==============================] - 4s 184ms/step - loss: 1.7497e-05 - val_loss: 9.7057e-04\n",
      "Epoch 64/100\n",
      "24/24 [==============================] - 5s 194ms/step - loss: 1.9283e-05 - val_loss: 5.9295e-04\n",
      "Epoch 65/100\n",
      "24/24 [==============================] - 5s 218ms/step - loss: 1.6302e-05 - val_loss: 8.6881e-04\n",
      "Epoch 66/100\n",
      "24/24 [==============================] - 5s 198ms/step - loss: 1.6044e-05 - val_loss: 4.7571e-04\n",
      "Epoch 67/100\n",
      "24/24 [==============================] - 5s 208ms/step - loss: 1.9689e-05 - val_loss: 7.6332e-04\n",
      "Epoch 68/100\n",
      "24/24 [==============================] - 5s 198ms/step - loss: 1.7072e-05 - val_loss: 4.2254e-04\n",
      "Epoch 69/100\n",
      "24/24 [==============================] - 4s 178ms/step - loss: 1.6982e-05 - val_loss: 6.4841e-04\n",
      "Epoch 70/100\n",
      "24/24 [==============================] - 5s 192ms/step - loss: 1.6788e-05 - val_loss: 8.1023e-04\n",
      "Epoch 71/100\n",
      "24/24 [==============================] - 4s 168ms/step - loss: 1.9203e-05 - val_loss: 0.0014\n",
      "Epoch 72/100\n",
      "24/24 [==============================] - 4s 177ms/step - loss: 1.7745e-05 - val_loss: 4.8638e-04\n",
      "Epoch 73/100\n",
      "24/24 [==============================] - 4s 172ms/step - loss: 1.5802e-05 - val_loss: 6.2831e-04\n",
      "Epoch 74/100\n",
      "24/24 [==============================] - 4s 186ms/step - loss: 1.8095e-05 - val_loss: 0.0012\n",
      "Epoch 75/100\n",
      "24/24 [==============================] - 4s 172ms/step - loss: 1.9416e-05 - val_loss: 8.1879e-04\n",
      "Epoch 76/100\n",
      "24/24 [==============================] - 5s 196ms/step - loss: 1.7049e-05 - val_loss: 6.4827e-04\n",
      "Epoch 77/100\n",
      "24/24 [==============================] - 4s 179ms/step - loss: 1.5247e-05 - val_loss: 6.2772e-04\n",
      "Epoch 78/100\n",
      "24/24 [==============================] - 5s 200ms/step - loss: 1.5020e-05 - val_loss: 3.2236e-04\n",
      "Epoch 79/100\n",
      "24/24 [==============================] - 5s 219ms/step - loss: 1.6363e-05 - val_loss: 5.8494e-04\n",
      "Epoch 80/100\n",
      "24/24 [==============================] - 5s 189ms/step - loss: 1.5226e-05 - val_loss: 7.8617e-04\n",
      "Epoch 81/100\n",
      "24/24 [==============================] - 5s 192ms/step - loss: 1.4077e-05 - val_loss: 8.4770e-04\n",
      "Epoch 82/100\n",
      "24/24 [==============================] - 5s 212ms/step - loss: 1.4076e-05 - val_loss: 4.5344e-04\n",
      "Epoch 83/100\n",
      "24/24 [==============================] - 4s 185ms/step - loss: 1.5653e-05 - val_loss: 7.6908e-04\n",
      "Epoch 84/100\n",
      "24/24 [==============================] - 5s 199ms/step - loss: 1.4078e-05 - val_loss: 5.3463e-04\n",
      "Epoch 85/100\n",
      "24/24 [==============================] - 4s 176ms/step - loss: 1.5628e-05 - val_loss: 5.0363e-04\n",
      "Epoch 86/100\n",
      "24/24 [==============================] - 5s 193ms/step - loss: 1.4298e-05 - val_loss: 5.2062e-04\n",
      "Epoch 87/100\n",
      "24/24 [==============================] - 4s 170ms/step - loss: 1.3816e-05 - val_loss: 5.0948e-04\n",
      "Epoch 88/100\n",
      "24/24 [==============================] - 4s 174ms/step - loss: 1.3407e-05 - val_loss: 5.9993e-04\n",
      "Epoch 89/100\n",
      "24/24 [==============================] - 5s 191ms/step - loss: 1.4283e-05 - val_loss: 5.7092e-04\n",
      "Epoch 90/100\n",
      "24/24 [==============================] - 4s 179ms/step - loss: 1.4924e-05 - val_loss: 2.6915e-04\n",
      "Epoch 91/100\n",
      "24/24 [==============================] - 5s 207ms/step - loss: 1.4017e-05 - val_loss: 6.7013e-04\n",
      "Epoch 92/100\n",
      "24/24 [==============================] - 5s 204ms/step - loss: 1.3856e-05 - val_loss: 4.3308e-04\n",
      "Epoch 93/100\n",
      "24/24 [==============================] - 5s 224ms/step - loss: 1.3413e-05 - val_loss: 4.8142e-04\n",
      "Epoch 94/100\n",
      "24/24 [==============================] - 5s 222ms/step - loss: 1.3273e-05 - val_loss: 4.6118e-04\n",
      "Epoch 95/100\n",
      "24/24 [==============================] - 5s 200ms/step - loss: 1.3157e-05 - val_loss: 9.6838e-04\n",
      "Epoch 96/100\n",
      "24/24 [==============================] - 5s 224ms/step - loss: 1.6609e-05 - val_loss: 4.8451e-04\n",
      "Epoch 97/100\n",
      "24/24 [==============================] - 5s 194ms/step - loss: 1.3855e-05 - val_loss: 4.4244e-04\n",
      "Epoch 98/100\n",
      "24/24 [==============================] - 5s 189ms/step - loss: 1.7147e-05 - val_loss: 9.7443e-04\n",
      "Epoch 99/100\n",
      "24/24 [==============================] - 6s 241ms/step - loss: 1.3836e-05 - val_loss: 5.5457e-04\n",
      "Epoch 100/100\n",
      "24/24 [==============================] - 5s 209ms/step - loss: 1.2144e-05 - val_loss: 0.0011\n"
     ]
    },
    {
     "data": {
      "text/plain": [
       "<keras.callbacks.History at 0x2a0a35a2940>"
      ]
     },
     "execution_count": 32,
     "metadata": {},
     "output_type": "execute_result"
    }
   ],
   "source": [
    "model.fit(X_train,y_train,validation_data=(X_test,ytest),epochs=100,batch_size=64,verbose=1)\n"
   ]
  },
  {
   "cell_type": "code",
   "execution_count": 33,
   "id": "1fb84dfa",
   "metadata": {},
   "outputs": [],
   "source": [
    "import tensorflow as tf"
   ]
  },
  {
   "cell_type": "code",
   "execution_count": 34,
   "id": "35cf4548",
   "metadata": {},
   "outputs": [
    {
     "data": {
      "text/plain": [
       "'2.11.0'"
      ]
     },
     "execution_count": 34,
     "metadata": {},
     "output_type": "execute_result"
    }
   ],
   "source": [
    "tf.__version__\n"
   ]
  },
  {
   "cell_type": "code",
   "execution_count": 35,
   "id": "530d4b8c",
   "metadata": {},
   "outputs": [
    {
     "name": "stdout",
     "output_type": "stream",
     "text": [
      "48/48 [==============================] - 3s 39ms/step\n",
      "24/24 [==============================] - 1s 42ms/step\n"
     ]
    }
   ],
   "source": [
    "### Lets Do the prediction and check performance metrics\n",
    "train_predict=model.predict(X_train)\n",
    "test_predict=model.predict(X_test)"
   ]
  },
  {
   "cell_type": "code",
   "execution_count": 36,
   "id": "3910e82b",
   "metadata": {},
   "outputs": [],
   "source": [
    "##Transformback to original form\n",
    "train_predict=scaler.inverse_transform(train_predict)\n",
    "test_predict=scaler.inverse_transform(test_predict)"
   ]
  },
  {
   "cell_type": "code",
   "execution_count": 37,
   "id": "f17fc941",
   "metadata": {},
   "outputs": [
    {
     "data": {
      "text/plain": [
       "435.00793598095424"
      ]
     },
     "execution_count": 37,
     "metadata": {},
     "output_type": "execute_result"
    }
   ],
   "source": [
    "### Calculate RMSE performance metrics\n",
    "import math\n",
    "from sklearn.metrics import mean_squared_error\n",
    "math.sqrt(mean_squared_error(y_train,train_predict))"
   ]
  },
  {
   "cell_type": "code",
   "execution_count": 38,
   "id": "836761a1",
   "metadata": {},
   "outputs": [
    {
     "data": {
      "text/plain": [
       "1721.8641014791556"
      ]
     },
     "execution_count": 38,
     "metadata": {},
     "output_type": "execute_result"
    }
   ],
   "source": [
    "### Test Data RMSE\n",
    "math.sqrt(mean_squared_error(ytest,test_predict))"
   ]
  },
  {
   "cell_type": "code",
   "execution_count": 39,
   "id": "d5399746",
   "metadata": {},
   "outputs": [
    {
     "data": {
      "image/png": "[encoded data removed]",
      "text/plain": [
       "<Figure size 432x288 with 1 Axes>"
      ]
     },
     "metadata": {
      "needs_background": "light"
     },
     "output_type": "display_data"
    }
   ],
   "source": [
    "### Plotting \n",
    "# shift train predictions for plotting\n",
    "look_back=100\n",
    "trainPredictPlot = numpy.empty_like(df1)\n",
    "trainPredictPlot[:, :] = np.nan\n",
    "trainPredictPlot[look_back:len(train_predict)+look_back, :] = train_predict\n",
    "# shift test predictions for plotting\n",
    "testPredictPlot = numpy.empty_like(df1)\n",
    "testPredictPlot[:, :] = numpy.nan\n",
    "testPredictPlot[len(train_predict)+(look_back*2)+1:len(df1)-1, :] = test_predict\n",
    "# plot baseline and predictions\n",
    "plt.plot(scaler.inverse_transform(df1))\n",
    "plt.plot(trainPredictPlot)\n",
    "plt.plot(testPredictPlot)\n",
    "plt.show()"
   ]
  },
  {
   "cell_type": "code",
   "execution_count": 14,
   "id": "09a269c7",
   "metadata": {},
   "outputs": [
    {
     "ename": "NameError",
     "evalue": "name 'model' is not defined",
     "output_type": "error",
     "traceback": [
      "\u001b[1;31m---------------------------------------------------------------------------\u001b[0m",
      "\u001b[1;31mNameError\u001b[0m                                 Traceback (most recent call last)",
      "\u001b[1;32m~\\AppData\\Local\\Temp/ipykernel_14752/2514781606.py\u001b[0m in \u001b[0;36m<module>\u001b[1;34m\u001b[0m\n\u001b[0;32m     15\u001b[0m \u001b[1;33m\u001b[0m\u001b[0m\n\u001b[0;32m     16\u001b[0m \u001b[1;31m# Create KerasRegressor model\u001b[0m\u001b[1;33m\u001b[0m\u001b[1;33m\u001b[0m\u001b[0m\n\u001b[1;32m---> 17\u001b[1;33m \u001b[0mmodel_tobeoptimized\u001b[0m \u001b[1;33m=\u001b[0m \u001b[0mKerasRegressor\u001b[0m\u001b[1;33m(\u001b[0m\u001b[0mbuild_fn\u001b[0m\u001b[1;33m=\u001b[0m\u001b[0mmodel\u001b[0m\u001b[1;33m,\u001b[0m \u001b[0mepochs\u001b[0m\u001b[1;33m=\u001b[0m\u001b[1;36m50\u001b[0m\u001b[1;33m,\u001b[0m \u001b[0mbatch_size\u001b[0m\u001b[1;33m=\u001b[0m\u001b[1;36m32\u001b[0m\u001b[1;33m)\u001b[0m\u001b[1;33m\u001b[0m\u001b[1;33m\u001b[0m\u001b[0m\n\u001b[0m\u001b[0;32m     18\u001b[0m \u001b[0mmodel_tobeoptimized\u001b[0m \u001b[1;33m=\u001b[0m \u001b[0mKerasRegressor\u001b[0m\u001b[1;33m(\u001b[0m\u001b[0mmodel\u001b[0m\u001b[1;33m,\u001b[0m \u001b[0mepochs\u001b[0m\u001b[1;33m=\u001b[0m\u001b[1;36m50\u001b[0m\u001b[1;33m,\u001b[0m \u001b[0mbatch_size\u001b[0m\u001b[1;33m=\u001b[0m\u001b[1;36m32\u001b[0m\u001b[1;33m)\u001b[0m\u001b[1;33m\u001b[0m\u001b[1;33m\u001b[0m\u001b[0m\n\u001b[0;32m     19\u001b[0m \u001b[1;33m\u001b[0m\u001b[0m\n",
      "\u001b[1;31mNameError\u001b[0m: name 'model' is not defined"
     ]
    }
   ],
   "source": [
    "import numpy as np\n",
    "import pandas as pd\n",
    "from keras.models import Sequential\n",
    "from keras.layers import LSTM, Dropout, Dense\n",
    "\n",
    "from keras.wrappers.scikit_learn import KerasRegressor\n",
    "\n",
    "\n",
    "\n",
    "\n",
    "# Define parameter grid for GridSearchCV\n",
    "param_grid = {'units': [50, 100, 150],\n",
    "              'dropout': [0.2, 0.3, 0.4]}\n",
    "time_step=100\n",
    "\n",
    "# Create KerasRegressor model\n",
    "model_tobeoptimized = KerasRegressor(build_fn=model, epochs=50, batch_size=32)\n",
    "model_tobeoptimized = KerasRegressor(model, epochs=50, batch_size=32)\n",
    "\n",
    "# Perform GridSearchCV\n",
    "grid = GridSearchCV(estimator=model_tobeoptimized, param_grid=param_grid)\n",
    "grid_result = grid.fit(X_train, y_train)\n",
    "\n",
    "# Print best parameters and score\n",
    "print(\"Best parameters: \", grid_result.best_params_)\n",
    "print(\"Best score: \", grid_result.best_score_)\n",
    "\n",
    "# Make predictions on test data using best model\n",
    "best_model = grid.best_estimator_.model\n",
    "y_pred = best_model.predict(X_test)\n",
    "\n",
    "# Inverse transform predictions\n",
    "y_pred = scaler.inverse_transform(y_pred)\n",
    "\n",
    "# Plot predictions and actual values\n",
    "plt.plot(df['Close(t)'].values[len(training_size)+time_step:], label='Actual Price')\n",
    "plt.plot(y_pred, label='Predicted Price')\n",
    "plt.legend()\n",
    "plt.show()\n"
   ]
  },
  {
   "cell_type": "code",
   "execution_count": 40,
   "id": "b46a889a",
   "metadata": {},
   "outputs": [
    {
     "data": {
      "text/plain": [
       "866"
      ]
     },
     "execution_count": 40,
     "metadata": {},
     "output_type": "execute_result"
    }
   ],
   "source": [
    "len(test_data)\n"
   ]
  },
  {
   "cell_type": "code",
   "execution_count": null,
   "id": "173ba9f2",
   "metadata": {},
   "outputs": [],
   "source": []
  },
  {
   "cell_type": "code",
   "execution_count": 49,
   "id": "bef8e5ee",
   "metadata": {},
   "outputs": [
    {
     "data": {
      "text/plain": [
       "(1, 100)"
      ]
     },
     "execution_count": 49,
     "metadata": {},
     "output_type": "execute_result"
    }
   ],
   "source": [
    "x_input=test_data[766:].reshape(1,-1)\n",
    "x_input.shape"
   ]
  },
  {
   "cell_type": "code",
   "execution_count": 50,
   "id": "7671f54b",
   "metadata": {},
   "outputs": [
    {
     "data": {
      "text/plain": [
       "array([[0.58108646, 0.56339617, 0.58610403, 0.56804533, 0.58886223,\n",
       "        0.58422285, 0.57052314, 0.57415184, 0.57016125, 0.59982981,\n",
       "        0.60439747, 0.61463475, 0.6145565 , 0.65567191, 0.69298583,\n",
       "        0.70092788, 0.73369696, 0.72287609, 0.72894347, 0.70759189,\n",
       "        0.71912351, 0.73084748, 0.7343588 , 0.72320212, 0.70301446,\n",
       "        0.72212949, 0.75515287, 0.69387263, 0.70363717, 0.70422728,\n",
       "        0.71513618, 0.72046674, 0.72437908, 0.73396105, 0.71699128,\n",
       "        0.72056781, 0.72739158, 0.73421535, 0.73958829, 0.74710976,\n",
       "        0.76295799, 0.74626535, 0.74305071, 0.73815377, 0.73441423,\n",
       "        0.73138542, 0.7448406 , 0.75418783, 0.75463449, 0.7565874 ,\n",
       "        0.7507841 , 0.75808713, 0.77147384, 0.7965128 , 0.81170245,\n",
       "        0.7825262 , 0.77830739, 0.78732533, 0.80121087, 0.80959305,\n",
       "        0.81383142, 0.82068779, 0.83334094, 0.8498347 , 0.8400506 ,\n",
       "        0.84662985, 0.82651065, 0.82243856, 0.84801221, 0.88709646,\n",
       "        0.89087838, 0.94524032, 0.92668279, 0.95308781, 0.98618619,\n",
       "        0.9918493 , 0.9605506 , 0.95403003, 0.92953554, 0.92661107,\n",
       "        0.91424482, 0.99081905, 0.9717301 , 0.95921714, 0.92225859,\n",
       "        0.92954858, 0.94464368, 0.92675126, 0.93757539, 0.94355801,\n",
       "        0.98033398, 0.96312296, 0.97190616, 0.99348922, 1.        ,\n",
       "        0.98124034, 0.974948  , 0.95294436, 0.97953847, 0.97914072]])"
      ]
     },
     "execution_count": 50,
     "metadata": {},
     "output_type": "execute_result"
    }
   ],
   "source": [
    "x_input"
   ]
  },
  {
   "cell_type": "code",
   "execution_count": 51,
   "id": "e192f83f",
   "metadata": {},
   "outputs": [],
   "source": [
    "temp_input=list(x_input)\n",
    "temp_input=temp_input[0].tolist()"
   ]
  },
  {
   "cell_type": "code",
   "execution_count": 52,
   "id": "90883c39",
   "metadata": {},
   "outputs": [
    {
     "data": {
      "text/plain": [
       "[0.5810864561394358,\n",
       " 0.5633961698215322,\n",
       " 0.586104029055627,\n",
       " 0.5680453309511545,\n",
       " 0.5888622270329484,\n",
       " 0.5842228467472174,\n",
       " 0.570523144736928,\n",
       " 0.5741518378205672,\n",
       " 0.5701612535129531,\n",
       " 0.5998298133162929,\n",
       " 0.6043974674134884,\n",
       " 0.6146347506862893,\n",
       " 0.6145565039351596,\n",
       " 0.6556719113725132,\n",
       " 0.6929858308174831,\n",
       " 0.7009278760571462,\n",
       " 0.733696963374,\n",
       " 0.7228760897490236,\n",
       " 0.7289434732428715,\n",
       " 0.707591891028358,\n",
       " 0.7191235059760956,\n",
       " 0.7308474775203605,\n",
       " 0.7343588004773052,\n",
       " 0.7232021178787307,\n",
       " 0.7030144560872712,\n",
       " 0.7221294853319945,\n",
       " 0.7551528745900197,\n",
       " 0.6938726273302861,\n",
       " 0.7036371698150117,\n",
       " 0.7042272807297815,\n",
       " 0.7151361819497788,\n",
       " 0.7204667418704886,\n",
       " 0.7243790794269731,\n",
       " 0.7339610461590627,\n",
       " 0.7169912820078116,\n",
       " 0.7205678105906979,\n",
       " 0.7273915793454659,\n",
       " 0.7342153481002343,\n",
       " 0.7395882916778062,\n",
       " 0.7471097606301472,\n",
       " 0.7629579880152061,\n",
       " 0.746265347774206,\n",
       " 0.7430507104152947,\n",
       " 0.7381537679070951,\n",
       " 0.7344142252593554,\n",
       " 0.7313854239343771,\n",
       " 0.7448406048473862,\n",
       " 0.7541878313260869,\n",
       " 0.7546344898637855,\n",
       " 0.7565873983607306,\n",
       " 0.7507840976519454,\n",
       " 0.758087127757383,\n",
       " 0.7714738427631537,\n",
       " 0.7965128031246537,\n",
       " 0.8117024536877042,\n",
       " 0.782526196360222,\n",
       " 0.778307392361813,\n",
       " 0.7873253304295095,\n",
       " 0.801210868473732,\n",
       " 0.8095930516884998,\n",
       " 0.8138314173746912,\n",
       " 0.8206877889424301,\n",
       " 0.83334094065636,\n",
       " 0.8498347037382386,\n",
       " 0.8400505995657307,\n",
       " 0.8466298472232184,\n",
       " 0.8265106513389976,\n",
       " 0.8224385599989569,\n",
       " 0.8480122064931763,\n",
       " 0.8870964586824551,\n",
       " 0.8908783849870568,\n",
       " 0.9452403153344071,\n",
       " 0.9266827941914829,\n",
       " 0.9530878124164553,\n",
       " 0.9861861881443131,\n",
       " 0.9918492967573244,\n",
       " 0.9605505963054494,\n",
       " 0.9540300337113087,\n",
       " 0.9295355403264194,\n",
       " 0.9266110680029475,\n",
       " 0.9142448210431596,\n",
       " 0.9908190478674502,\n",
       " 0.9717301008731035,\n",
       " 0.9592171412549476,\n",
       " 0.9222585924713586,\n",
       " 0.9295485814516077,\n",
       " 0.9446436838570433,\n",
       " 0.9267512600987213,\n",
       " 0.9375753940049949,\n",
       " 0.9435580101851189,\n",
       " 0.9803339832160719,\n",
       " 0.9631229582488378,\n",
       " 0.9719061560631451,\n",
       " 0.9934892182497507,\n",
       " 1.0000000000000002,\n",
       " 0.9812403414166576,\n",
       " 0.9749479985133117,\n",
       " 0.9529443600393842,\n",
       " 0.9795384745795866,\n",
       " 0.9791407202613441]"
      ]
     },
     "execution_count": 52,
     "metadata": {},
     "output_type": "execute_result"
    }
   ],
   "source": [
    "temp_input\n"
   ]
  },
  {
   "cell_type": "code",
   "execution_count": 53,
   "id": "ff035233",
   "metadata": {},
   "outputs": [
    {
     "name": "stdout",
     "output_type": "stream",
     "text": [
      "[0.89257467]\n",
      "101\n",
      "1 day input [0.56339617 0.58610403 0.56804533 0.58886223 0.58422285 0.57052314\n",
      " 0.57415184 0.57016125 0.59982981 0.60439747 0.61463475 0.6145565\n",
      " 0.65567191 0.69298583 0.70092788 0.73369696 0.72287609 0.72894347\n",
      " 0.70759189 0.71912351 0.73084748 0.7343588  0.72320212 0.70301446\n",
      " 0.72212949 0.75515287 0.69387263 0.70363717 0.70422728 0.71513618\n",
      " 0.72046674 0.72437908 0.73396105 0.71699128 0.72056781 0.72739158\n",
      " 0.73421535 0.73958829 0.74710976 0.76295799 0.74626535 0.74305071\n",
      " 0.73815377 0.73441423 0.73138542 0.7448406  0.75418783 0.75463449\n",
      " 0.7565874  0.7507841  0.75808713 0.77147384 0.7965128  0.81170245\n",
      " 0.7825262  0.77830739 0.78732533 0.80121087 0.80959305 0.81383142\n",
      " 0.82068779 0.83334094 0.8498347  0.8400506  0.84662985 0.82651065\n",
      " 0.82243856 0.84801221 0.88709646 0.89087838 0.94524032 0.92668279\n",
      " 0.95308781 0.98618619 0.9918493  0.9605506  0.95403003 0.92953554\n",
      " 0.92661107 0.91424482 0.99081905 0.9717301  0.95921714 0.92225859\n",
      " 0.92954858 0.94464368 0.92675126 0.93757539 0.94355801 0.98033398\n",
      " 0.96312296 0.97190616 0.99348922 1.         0.98124034 0.974948\n",
      " 0.95294436 0.97953847 0.97914072 0.89257467]\n",
      "1 day output [[0.8696898]]\n",
      "2 day input [0.58610403 0.56804533 0.58886223 0.58422285 0.57052314 0.57415184\n",
      " 0.57016125 0.59982981 0.60439747 0.61463475 0.6145565  0.65567191\n",
      " 0.69298583 0.70092788 0.73369696 0.72287609 0.72894347 0.70759189\n",
      " 0.71912351 0.73084748 0.7343588  0.72320212 0.70301446 0.72212949\n",
      " 0.75515287 0.69387263 0.70363717 0.70422728 0.71513618 0.72046674\n",
      " 0.72437908 0.73396105 0.71699128 0.72056781 0.72739158 0.73421535\n",
      " 0.73958829 0.74710976 0.76295799 0.74626535 0.74305071 0.73815377\n",
      " 0.73441423 0.73138542 0.7448406  0.75418783 0.75463449 0.7565874\n",
      " 0.7507841  0.75808713 0.77147384 0.7965128  0.81170245 0.7825262\n",
      " 0.77830739 0.78732533 0.80121087 0.80959305 0.81383142 0.82068779\n",
      " 0.83334094 0.8498347  0.8400506  0.84662985 0.82651065 0.82243856\n",
      " 0.84801221 0.88709646 0.89087838 0.94524032 0.92668279 0.95308781\n",
      " 0.98618619 0.9918493  0.9605506  0.95403003 0.92953554 0.92661107\n",
      " 0.91424482 0.99081905 0.9717301  0.95921714 0.92225859 0.92954858\n",
      " 0.94464368 0.92675126 0.93757539 0.94355801 0.98033398 0.96312296\n",
      " 0.97190616 0.99348922 1.         0.98124034 0.974948   0.95294436\n",
      " 0.97953847 0.97914072 0.89257467 0.86968982]\n",
      "2 day output [[0.8372315]]\n",
      "3 day input [0.56804533 0.58886223 0.58422285 0.57052314 0.57415184 0.57016125\n",
      " 0.59982981 0.60439747 0.61463475 0.6145565  0.65567191 0.69298583\n",
      " 0.70092788 0.73369696 0.72287609 0.72894347 0.70759189 0.71912351\n",
      " 0.73084748 0.7343588  0.72320212 0.70301446 0.72212949 0.75515287\n",
      " 0.69387263 0.70363717 0.70422728 0.71513618 0.72046674 0.72437908\n",
      " 0.73396105 0.71699128 0.72056781 0.72739158 0.73421535 0.73958829\n",
      " 0.74710976 0.76295799 0.74626535 0.74305071 0.73815377 0.73441423\n",
      " 0.73138542 0.7448406  0.75418783 0.75463449 0.7565874  0.7507841\n",
      " 0.75808713 0.77147384 0.7965128  0.81170245 0.7825262  0.77830739\n",
      " 0.78732533 0.80121087 0.80959305 0.81383142 0.82068779 0.83334094\n",
      " 0.8498347  0.8400506  0.84662985 0.82651065 0.82243856 0.84801221\n",
      " 0.88709646 0.89087838 0.94524032 0.92668279 0.95308781 0.98618619\n",
      " 0.9918493  0.9605506  0.95403003 0.92953554 0.92661107 0.91424482\n",
      " 0.99081905 0.9717301  0.95921714 0.92225859 0.92954858 0.94464368\n",
      " 0.92675126 0.93757539 0.94355801 0.98033398 0.96312296 0.97190616\n",
      " 0.99348922 1.         0.98124034 0.974948   0.95294436 0.97953847\n",
      " 0.97914072 0.89257467 0.86968982 0.83723152]\n",
      "3 day output [[0.8032178]]\n",
      "4 day input [0.58886223 0.58422285 0.57052314 0.57415184 0.57016125 0.59982981\n",
      " 0.60439747 0.61463475 0.6145565  0.65567191 0.69298583 0.70092788\n",
      " 0.73369696 0.72287609 0.72894347 0.70759189 0.71912351 0.73084748\n",
      " 0.7343588  0.72320212 0.70301446 0.72212949 0.75515287 0.69387263\n",
      " 0.70363717 0.70422728 0.71513618 0.72046674 0.72437908 0.73396105\n",
      " 0.71699128 0.72056781 0.72739158 0.73421535 0.73958829 0.74710976\n",
      " 0.76295799 0.74626535 0.74305071 0.73815377 0.73441423 0.73138542\n",
      " 0.7448406  0.75418783 0.75463449 0.7565874  0.7507841  0.75808713\n",
      " 0.77147384 0.7965128  0.81170245 0.7825262  0.77830739 0.78732533\n",
      " 0.80121087 0.80959305 0.81383142 0.82068779 0.83334094 0.8498347\n",
      " 0.8400506  0.84662985 0.82651065 0.82243856 0.84801221 0.88709646\n",
      " 0.89087838 0.94524032 0.92668279 0.95308781 0.98618619 0.9918493\n",
      " 0.9605506  0.95403003 0.92953554 0.92661107 0.91424482 0.99081905\n",
      " 0.9717301  0.95921714 0.92225859 0.92954858 0.94464368 0.92675126\n",
      " 0.93757539 0.94355801 0.98033398 0.96312296 0.97190616 0.99348922\n",
      " 1.         0.98124034 0.974948   0.95294436 0.97953847 0.97914072\n",
      " 0.89257467 0.86968982 0.83723152 0.80321783]\n",
      "4 day output [[0.77025956]]\n",
      "5 day input [0.58422285 0.57052314 0.57415184 0.57016125 0.59982981 0.60439747\n",
      " 0.61463475 0.6145565  0.65567191 0.69298583 0.70092788 0.73369696\n",
      " 0.72287609 0.72894347 0.70759189 0.71912351 0.73084748 0.7343588\n",
      " 0.72320212 0.70301446 0.72212949 0.75515287 0.69387263 0.70363717\n",
      " 0.70422728 0.71513618 0.72046674 0.72437908 0.73396105 0.71699128\n",
      " 0.72056781 0.72739158 0.73421535 0.73958829 0.74710976 0.76295799\n",
      " 0.74626535 0.74305071 0.73815377 0.73441423 0.73138542 0.7448406\n",
      " 0.75418783 0.75463449 0.7565874  0.7507841  0.75808713 0.77147384\n",
      " 0.7965128  0.81170245 0.7825262  0.77830739 0.78732533 0.80121087\n",
      " 0.80959305 0.81383142 0.82068779 0.83334094 0.8498347  0.8400506\n",
      " 0.84662985 0.82651065 0.82243856 0.84801221 0.88709646 0.89087838\n",
      " 0.94524032 0.92668279 0.95308781 0.98618619 0.9918493  0.9605506\n",
      " 0.95403003 0.92953554 0.92661107 0.91424482 0.99081905 0.9717301\n",
      " 0.95921714 0.92225859 0.92954858 0.94464368 0.92675126 0.93757539\n",
      " 0.94355801 0.98033398 0.96312296 0.97190616 0.99348922 1.\n",
      " 0.98124034 0.974948   0.95294436 0.97953847 0.97914072 0.89257467\n",
      " 0.86968982 0.83723152 0.80321783 0.77025956]\n",
      "5 day output [[0.73908204]]\n",
      "6 day input [0.57052314 0.57415184 0.57016125 0.59982981 0.60439747 0.61463475\n",
      " 0.6145565  0.65567191 0.69298583 0.70092788 0.73369696 0.72287609\n",
      " 0.72894347 0.70759189 0.71912351 0.73084748 0.7343588  0.72320212\n",
      " 0.70301446 0.72212949 0.75515287 0.69387263 0.70363717 0.70422728\n",
      " 0.71513618 0.72046674 0.72437908 0.73396105 0.71699128 0.72056781\n",
      " 0.72739158 0.73421535 0.73958829 0.74710976 0.76295799 0.74626535\n",
      " 0.74305071 0.73815377 0.73441423 0.73138542 0.7448406  0.75418783\n",
      " 0.75463449 0.7565874  0.7507841  0.75808713 0.77147384 0.7965128\n",
      " 0.81170245 0.7825262  0.77830739 0.78732533 0.80121087 0.80959305\n",
      " 0.81383142 0.82068779 0.83334094 0.8498347  0.8400506  0.84662985\n",
      " 0.82651065 0.82243856 0.84801221 0.88709646 0.89087838 0.94524032\n",
      " 0.92668279 0.95308781 0.98618619 0.9918493  0.9605506  0.95403003\n",
      " 0.92953554 0.92661107 0.91424482 0.99081905 0.9717301  0.95921714\n",
      " 0.92225859 0.92954858 0.94464368 0.92675126 0.93757539 0.94355801\n",
      " 0.98033398 0.96312296 0.97190616 0.99348922 1.         0.98124034\n",
      " 0.974948   0.95294436 0.97953847 0.97914072 0.89257467 0.86968982\n",
      " 0.83723152 0.80321783 0.77025956 0.73908204]\n",
      "6 day output [[0.7098326]]\n",
      "7 day input [0.57415184 0.57016125 0.59982981 0.60439747 0.61463475 0.6145565\n",
      " 0.65567191 0.69298583 0.70092788 0.73369696 0.72287609 0.72894347\n",
      " 0.70759189 0.71912351 0.73084748 0.7343588  0.72320212 0.70301446\n",
      " 0.72212949 0.75515287 0.69387263 0.70363717 0.70422728 0.71513618\n",
      " 0.72046674 0.72437908 0.73396105 0.71699128 0.72056781 0.72739158\n",
      " 0.73421535 0.73958829 0.74710976 0.76295799 0.74626535 0.74305071\n",
      " 0.73815377 0.73441423 0.73138542 0.7448406  0.75418783 0.75463449\n",
      " 0.7565874  0.7507841  0.75808713 0.77147384 0.7965128  0.81170245\n",
      " 0.7825262  0.77830739 0.78732533 0.80121087 0.80959305 0.81383142\n",
      " 0.82068779 0.83334094 0.8498347  0.8400506  0.84662985 0.82651065\n",
      " 0.82243856 0.84801221 0.88709646 0.89087838 0.94524032 0.92668279\n",
      " 0.95308781 0.98618619 0.9918493  0.9605506  0.95403003 0.92953554\n",
      " 0.92661107 0.91424482 0.99081905 0.9717301  0.95921714 0.92225859\n",
      " 0.92954858 0.94464368 0.92675126 0.93757539 0.94355801 0.98033398\n",
      " 0.96312296 0.97190616 0.99348922 1.         0.98124034 0.974948\n",
      " 0.95294436 0.97953847 0.97914072 0.89257467 0.86968982 0.83723152\n",
      " 0.80321783 0.77025956 0.73908204 0.70983261]\n",
      "7 day output [[0.6824246]]\n",
      "8 day input [0.57016125 0.59982981 0.60439747 0.61463475 0.6145565  0.65567191\n",
      " 0.69298583 0.70092788 0.73369696 0.72287609 0.72894347 0.70759189\n",
      " 0.71912351 0.73084748 0.7343588  0.72320212 0.70301446 0.72212949\n",
      " 0.75515287 0.69387263 0.70363717 0.70422728 0.71513618 0.72046674\n",
      " 0.72437908 0.73396105 0.71699128 0.72056781 0.72739158 0.73421535\n",
      " 0.73958829 0.74710976 0.76295799 0.74626535 0.74305071 0.73815377\n",
      " 0.73441423 0.73138542 0.7448406  0.75418783 0.75463449 0.7565874\n",
      " 0.7507841  0.75808713 0.77147384 0.7965128  0.81170245 0.7825262\n",
      " 0.77830739 0.78732533 0.80121087 0.80959305 0.81383142 0.82068779\n",
      " 0.83334094 0.8498347  0.8400506  0.84662985 0.82651065 0.82243856\n",
      " 0.84801221 0.88709646 0.89087838 0.94524032 0.92668279 0.95308781\n",
      " 0.98618619 0.9918493  0.9605506  0.95403003 0.92953554 0.92661107\n",
      " 0.91424482 0.99081905 0.9717301  0.95921714 0.92225859 0.92954858\n",
      " 0.94464368 0.92675126 0.93757539 0.94355801 0.98033398 0.96312296\n",
      " 0.97190616 0.99348922 1.         0.98124034 0.974948   0.95294436\n",
      " 0.97953847 0.97914072 0.89257467 0.86968982 0.83723152 0.80321783\n",
      " 0.77025956 0.73908204 0.70983261 0.6824246 ]\n",
      "8 day output [[0.6566376]]\n",
      "9 day input [0.59982981 0.60439747 0.61463475 0.6145565  0.65567191 0.69298583\n",
      " 0.70092788 0.73369696 0.72287609 0.72894347 0.70759189 0.71912351\n",
      " 0.73084748 0.7343588  0.72320212 0.70301446 0.72212949 0.75515287\n",
      " 0.69387263 0.70363717 0.70422728 0.71513618 0.72046674 0.72437908\n",
      " 0.73396105 0.71699128 0.72056781 0.72739158 0.73421535 0.73958829\n",
      " 0.74710976 0.76295799 0.74626535 0.74305071 0.73815377 0.73441423\n",
      " 0.73138542 0.7448406  0.75418783 0.75463449 0.7565874  0.7507841\n",
      " 0.75808713 0.77147384 0.7965128  0.81170245 0.7825262  0.77830739\n",
      " 0.78732533 0.80121087 0.80959305 0.81383142 0.82068779 0.83334094\n",
      " 0.8498347  0.8400506  0.84662985 0.82651065 0.82243856 0.84801221\n",
      " 0.88709646 0.89087838 0.94524032 0.92668279 0.95308781 0.98618619\n",
      " 0.9918493  0.9605506  0.95403003 0.92953554 0.92661107 0.91424482\n",
      " 0.99081905 0.9717301  0.95921714 0.92225859 0.92954858 0.94464368\n",
      " 0.92675126 0.93757539 0.94355801 0.98033398 0.96312296 0.97190616\n",
      " 0.99348922 1.         0.98124034 0.974948   0.95294436 0.97953847\n",
      " 0.97914072 0.89257467 0.86968982 0.83723152 0.80321783 0.77025956\n",
      " 0.73908204 0.70983261 0.6824246  0.65663761]\n",
      "9 day output [[0.6321788]]\n",
      "10 day input [0.60439747 0.61463475 0.6145565  0.65567191 0.69298583 0.70092788\n",
      " 0.73369696 0.72287609 0.72894347 0.70759189 0.71912351 0.73084748\n",
      " 0.7343588  0.72320212 0.70301446 0.72212949 0.75515287 0.69387263\n",
      " 0.70363717 0.70422728 0.71513618 0.72046674 0.72437908 0.73396105\n",
      " 0.71699128 0.72056781 0.72739158 0.73421535 0.73958829 0.74710976\n",
      " 0.76295799 0.74626535 0.74305071 0.73815377 0.73441423 0.73138542\n",
      " 0.7448406  0.75418783 0.75463449 0.7565874  0.7507841  0.75808713\n",
      " 0.77147384 0.7965128  0.81170245 0.7825262  0.77830739 0.78732533\n",
      " 0.80121087 0.80959305 0.81383142 0.82068779 0.83334094 0.8498347\n",
      " 0.8400506  0.84662985 0.82651065 0.82243856 0.84801221 0.88709646\n",
      " 0.89087838 0.94524032 0.92668279 0.95308781 0.98618619 0.9918493\n",
      " 0.9605506  0.95403003 0.92953554 0.92661107 0.91424482 0.99081905\n",
      " 0.9717301  0.95921714 0.92225859 0.92954858 0.94464368 0.92675126\n",
      " 0.93757539 0.94355801 0.98033398 0.96312296 0.97190616 0.99348922\n",
      " 1.         0.98124034 0.974948   0.95294436 0.97953847 0.97914072\n",
      " 0.89257467 0.86968982 0.83723152 0.80321783 0.77025956 0.73908204\n",
      " 0.70983261 0.6824246  0.65663761 0.63217878]\n",
      "10 day output [[0.6087362]]\n",
      "11 day input [0.61463475 0.6145565  0.65567191 0.69298583 0.70092788 0.73369696\n",
      " 0.72287609 0.72894347 0.70759189 0.71912351 0.73084748 0.7343588\n",
      " 0.72320212 0.70301446 0.72212949 0.75515287 0.69387263 0.70363717\n",
      " 0.70422728 0.71513618 0.72046674 0.72437908 0.73396105 0.71699128\n",
      " 0.72056781 0.72739158 0.73421535 0.73958829 0.74710976 0.76295799\n",
      " 0.74626535 0.74305071 0.73815377 0.73441423 0.73138542 0.7448406\n",
      " 0.75418783 0.75463449 0.7565874  0.7507841  0.75808713 0.77147384\n",
      " 0.7965128  0.81170245 0.7825262  0.77830739 0.78732533 0.80121087\n",
      " 0.80959305 0.81383142 0.82068779 0.83334094 0.8498347  0.8400506\n",
      " 0.84662985 0.82651065 0.82243856 0.84801221 0.88709646 0.89087838\n",
      " 0.94524032 0.92668279 0.95308781 0.98618619 0.9918493  0.9605506\n",
      " 0.95403003 0.92953554 0.92661107 0.91424482 0.99081905 0.9717301\n",
      " 0.95921714 0.92225859 0.92954858 0.94464368 0.92675126 0.93757539\n",
      " 0.94355801 0.98033398 0.96312296 0.97190616 0.99348922 1.\n",
      " 0.98124034 0.974948   0.95294436 0.97953847 0.97914072 0.89257467\n",
      " 0.86968982 0.83723152 0.80321783 0.77025956 0.73908204 0.70983261\n",
      " 0.6824246  0.65663761 0.63217878 0.60873622]\n",
      "11 day output [[0.5860249]]\n",
      "12 day input [0.6145565  0.65567191 0.69298583 0.70092788 0.73369696 0.72287609\n",
      " 0.72894347 0.70759189 0.71912351 0.73084748 0.7343588  0.72320212\n",
      " 0.70301446 0.72212949 0.75515287 0.69387263 0.70363717 0.70422728\n",
      " 0.71513618 0.72046674 0.72437908 0.73396105 0.71699128 0.72056781\n",
      " 0.72739158 0.73421535 0.73958829 0.74710976 0.76295799 0.74626535\n",
      " 0.74305071 0.73815377 0.73441423 0.73138542 0.7448406  0.75418783\n",
      " 0.75463449 0.7565874  0.7507841  0.75808713 0.77147384 0.7965128\n",
      " 0.81170245 0.7825262  0.77830739 0.78732533 0.80121087 0.80959305\n",
      " 0.81383142 0.82068779 0.83334094 0.8498347  0.8400506  0.84662985\n",
      " 0.82651065 0.82243856 0.84801221 0.88709646 0.89087838 0.94524032\n",
      " 0.92668279 0.95308781 0.98618619 0.9918493  0.9605506  0.95403003\n",
      " 0.92953554 0.92661107 0.91424482 0.99081905 0.9717301  0.95921714\n",
      " 0.92225859 0.92954858 0.94464368 0.92675126 0.93757539 0.94355801\n",
      " 0.98033398 0.96312296 0.97190616 0.99348922 1.         0.98124034\n",
      " 0.974948   0.95294436 0.97953847 0.97914072 0.89257467 0.86968982\n",
      " 0.83723152 0.80321783 0.77025956 0.73908204 0.70983261 0.6824246\n",
      " 0.65663761 0.63217878 0.60873622 0.58602488]\n",
      "12 day output [[0.5638154]]\n",
      "13 day input [0.65567191 0.69298583 0.70092788 0.73369696 0.72287609 0.72894347\n",
      " 0.70759189 0.71912351 0.73084748 0.7343588  0.72320212 0.70301446\n",
      " 0.72212949 0.75515287 0.69387263 0.70363717 0.70422728 0.71513618\n",
      " 0.72046674 0.72437908 0.73396105 0.71699128 0.72056781 0.72739158\n",
      " 0.73421535 0.73958829 0.74710976 0.76295799 0.74626535 0.74305071\n",
      " 0.73815377 0.73441423 0.73138542 0.7448406  0.75418783 0.75463449\n",
      " 0.7565874  0.7507841  0.75808713 0.77147384 0.7965128  0.81170245\n",
      " 0.7825262  0.77830739 0.78732533 0.80121087 0.80959305 0.81383142\n",
      " 0.82068779 0.83334094 0.8498347  0.8400506  0.84662985 0.82651065\n",
      " 0.82243856 0.84801221 0.88709646 0.89087838 0.94524032 0.92668279\n",
      " 0.95308781 0.98618619 0.9918493  0.9605506  0.95403003 0.92953554\n",
      " 0.92661107 0.91424482 0.99081905 0.9717301  0.95921714 0.92225859\n",
      " 0.92954858 0.94464368 0.92675126 0.93757539 0.94355801 0.98033398\n",
      " 0.96312296 0.97190616 0.99348922 1.         0.98124034 0.974948\n",
      " 0.95294436 0.97953847 0.97914072 0.89257467 0.86968982 0.83723152\n",
      " 0.80321783 0.77025956 0.73908204 0.70983261 0.6824246  0.65663761\n",
      " 0.63217878 0.60873622 0.58602488 0.56381541]\n",
      "13 day output [[0.54195255]]\n",
      "14 day input [0.69298583 0.70092788 0.73369696 0.72287609 0.72894347 0.70759189\n",
      " 0.71912351 0.73084748 0.7343588  0.72320212 0.70301446 0.72212949\n",
      " 0.75515287 0.69387263 0.70363717 0.70422728 0.71513618 0.72046674\n",
      " 0.72437908 0.73396105 0.71699128 0.72056781 0.72739158 0.73421535\n",
      " 0.73958829 0.74710976 0.76295799 0.74626535 0.74305071 0.73815377\n",
      " 0.73441423 0.73138542 0.7448406  0.75418783 0.75463449 0.7565874\n",
      " 0.7507841  0.75808713 0.77147384 0.7965128  0.81170245 0.7825262\n",
      " 0.77830739 0.78732533 0.80121087 0.80959305 0.81383142 0.82068779\n",
      " 0.83334094 0.8498347  0.8400506  0.84662985 0.82651065 0.82243856\n",
      " 0.84801221 0.88709646 0.89087838 0.94524032 0.92668279 0.95308781\n",
      " 0.98618619 0.9918493  0.9605506  0.95403003 0.92953554 0.92661107\n",
      " 0.91424482 0.99081905 0.9717301  0.95921714 0.92225859 0.92954858\n",
      " 0.94464368 0.92675126 0.93757539 0.94355801 0.98033398 0.96312296\n",
      " 0.97190616 0.99348922 1.         0.98124034 0.974948   0.95294436\n",
      " 0.97953847 0.97914072 0.89257467 0.86968982 0.83723152 0.80321783\n",
      " 0.77025956 0.73908204 0.70983261 0.6824246  0.65663761 0.63217878\n",
      " 0.60873622 0.58602488 0.56381541 0.54195255]\n",
      "14 day output [[0.5203592]]\n",
      "15 day input [0.70092788 0.73369696 0.72287609 0.72894347 0.70759189 0.71912351\n",
      " 0.73084748 0.7343588  0.72320212 0.70301446 0.72212949 0.75515287\n",
      " 0.69387263 0.70363717 0.70422728 0.71513618 0.72046674 0.72437908\n",
      " 0.73396105 0.71699128 0.72056781 0.72739158 0.73421535 0.73958829\n",
      " 0.74710976 0.76295799 0.74626535 0.74305071 0.73815377 0.73441423\n",
      " 0.73138542 0.7448406  0.75418783 0.75463449 0.7565874  0.7507841\n",
      " 0.75808713 0.77147384 0.7965128  0.81170245 0.7825262  0.77830739\n",
      " 0.78732533 0.80121087 0.80959305 0.81383142 0.82068779 0.83334094\n",
      " 0.8498347  0.8400506  0.84662985 0.82651065 0.82243856 0.84801221\n",
      " 0.88709646 0.89087838 0.94524032 0.92668279 0.95308781 0.98618619\n",
      " 0.9918493  0.9605506  0.95403003 0.92953554 0.92661107 0.91424482\n",
      " 0.99081905 0.9717301  0.95921714 0.92225859 0.92954858 0.94464368\n",
      " 0.92675126 0.93757539 0.94355801 0.98033398 0.96312296 0.97190616\n",
      " 0.99348922 1.         0.98124034 0.974948   0.95294436 0.97953847\n",
      " 0.97914072 0.89257467 0.86968982 0.83723152 0.80321783 0.77025956\n",
      " 0.73908204 0.70983261 0.6824246  0.65663761 0.63217878 0.60873622\n",
      " 0.58602488 0.56381541 0.54195255 0.52035922]\n",
      "15 day output [[0.49903142]]\n",
      "16 day input [0.73369696 0.72287609 0.72894347 0.70759189 0.71912351 0.73084748\n",
      " 0.7343588  0.72320212 0.70301446 0.72212949 0.75515287 0.69387263\n",
      " 0.70363717 0.70422728 0.71513618 0.72046674 0.72437908 0.73396105\n",
      " 0.71699128 0.72056781 0.72739158 0.73421535 0.73958829 0.74710976\n",
      " 0.76295799 0.74626535 0.74305071 0.73815377 0.73441423 0.73138542\n",
      " 0.7448406  0.75418783 0.75463449 0.7565874  0.7507841  0.75808713\n",
      " 0.77147384 0.7965128  0.81170245 0.7825262  0.77830739 0.78732533\n",
      " 0.80121087 0.80959305 0.81383142 0.82068779 0.83334094 0.8498347\n",
      " 0.8400506  0.84662985 0.82651065 0.82243856 0.84801221 0.88709646\n",
      " 0.89087838 0.94524032 0.92668279 0.95308781 0.98618619 0.9918493\n",
      " 0.9605506  0.95403003 0.92953554 0.92661107 0.91424482 0.99081905\n",
      " 0.9717301  0.95921714 0.92225859 0.92954858 0.94464368 0.92675126\n",
      " 0.93757539 0.94355801 0.98033398 0.96312296 0.97190616 0.99348922\n",
      " 1.         0.98124034 0.974948   0.95294436 0.97953847 0.97914072\n",
      " 0.89257467 0.86968982 0.83723152 0.80321783 0.77025956 0.73908204\n",
      " 0.70983261 0.6824246  0.65663761 0.63217878 0.60873622 0.58602488\n",
      " 0.56381541 0.54195255 0.52035922 0.49903142]\n",
      "16 day output [[0.47802678]]\n",
      "17 day input [0.72287609 0.72894347 0.70759189 0.71912351 0.73084748 0.7343588\n",
      " 0.72320212 0.70301446 0.72212949 0.75515287 0.69387263 0.70363717\n",
      " 0.70422728 0.71513618 0.72046674 0.72437908 0.73396105 0.71699128\n",
      " 0.72056781 0.72739158 0.73421535 0.73958829 0.74710976 0.76295799\n",
      " 0.74626535 0.74305071 0.73815377 0.73441423 0.73138542 0.7448406\n",
      " 0.75418783 0.75463449 0.7565874  0.7507841  0.75808713 0.77147384\n",
      " 0.7965128  0.81170245 0.7825262  0.77830739 0.78732533 0.80121087\n",
      " 0.80959305 0.81383142 0.82068779 0.83334094 0.8498347  0.8400506\n",
      " 0.84662985 0.82651065 0.82243856 0.84801221 0.88709646 0.89087838\n",
      " 0.94524032 0.92668279 0.95308781 0.98618619 0.9918493  0.9605506\n",
      " 0.95403003 0.92953554 0.92661107 0.91424482 0.99081905 0.9717301\n",
      " 0.95921714 0.92225859 0.92954858 0.94464368 0.92675126 0.93757539\n",
      " 0.94355801 0.98033398 0.96312296 0.97190616 0.99348922 1.\n",
      " 0.98124034 0.974948   0.95294436 0.97953847 0.97914072 0.89257467\n",
      " 0.86968982 0.83723152 0.80321783 0.77025956 0.73908204 0.70983261\n",
      " 0.6824246  0.65663761 0.63217878 0.60873622 0.58602488 0.56381541\n",
      " 0.54195255 0.52035922 0.49903142 0.47802678]\n",
      "17 day output [[0.457449]]\n",
      "18 day input [0.72894347 0.70759189 0.71912351 0.73084748 0.7343588  0.72320212\n",
      " 0.70301446 0.72212949 0.75515287 0.69387263 0.70363717 0.70422728\n",
      " 0.71513618 0.72046674 0.72437908 0.73396105 0.71699128 0.72056781\n",
      " 0.72739158 0.73421535 0.73958829 0.74710976 0.76295799 0.74626535\n",
      " 0.74305071 0.73815377 0.73441423 0.73138542 0.7448406  0.75418783\n",
      " 0.75463449 0.7565874  0.7507841  0.75808713 0.77147384 0.7965128\n",
      " 0.81170245 0.7825262  0.77830739 0.78732533 0.80121087 0.80959305\n",
      " 0.81383142 0.82068779 0.83334094 0.8498347  0.8400506  0.84662985\n",
      " 0.82651065 0.82243856 0.84801221 0.88709646 0.89087838 0.94524032\n",
      " 0.92668279 0.95308781 0.98618619 0.9918493  0.9605506  0.95403003\n",
      " 0.92953554 0.92661107 0.91424482 0.99081905 0.9717301  0.95921714\n",
      " 0.92225859 0.92954858 0.94464368 0.92675126 0.93757539 0.94355801\n",
      " 0.98033398 0.96312296 0.97190616 0.99348922 1.         0.98124034\n",
      " 0.974948   0.95294436 0.97953847 0.97914072 0.89257467 0.86968982\n",
      " 0.83723152 0.80321783 0.77025956 0.73908204 0.70983261 0.6824246\n",
      " 0.65663761 0.63217878 0.60873622 0.58602488 0.56381541 0.54195255\n",
      " 0.52035922 0.49903142 0.47802678 0.45744899]\n",
      "18 day output [[0.4374299]]\n",
      "19 day input [0.70759189 0.71912351 0.73084748 0.7343588  0.72320212 0.70301446\n",
      " 0.72212949 0.75515287 0.69387263 0.70363717 0.70422728 0.71513618\n",
      " 0.72046674 0.72437908 0.73396105 0.71699128 0.72056781 0.72739158\n",
      " 0.73421535 0.73958829 0.74710976 0.76295799 0.74626535 0.74305071\n",
      " 0.73815377 0.73441423 0.73138542 0.7448406  0.75418783 0.75463449\n",
      " 0.7565874  0.7507841  0.75808713 0.77147384 0.7965128  0.81170245\n",
      " 0.7825262  0.77830739 0.78732533 0.80121087 0.80959305 0.81383142\n",
      " 0.82068779 0.83334094 0.8498347  0.8400506  0.84662985 0.82651065\n",
      " 0.82243856 0.84801221 0.88709646 0.89087838 0.94524032 0.92668279\n",
      " 0.95308781 0.98618619 0.9918493  0.9605506  0.95403003 0.92953554\n",
      " 0.92661107 0.91424482 0.99081905 0.9717301  0.95921714 0.92225859\n",
      " 0.92954858 0.94464368 0.92675126 0.93757539 0.94355801 0.98033398\n",
      " 0.96312296 0.97190616 0.99348922 1.         0.98124034 0.974948\n",
      " 0.95294436 0.97953847 0.97914072 0.89257467 0.86968982 0.83723152\n",
      " 0.80321783 0.77025956 0.73908204 0.70983261 0.6824246  0.65663761\n",
      " 0.63217878 0.60873622 0.58602488 0.56381541 0.54195255 0.52035922\n",
      " 0.49903142 0.47802678 0.45744899 0.4374299 ]\n",
      "19 day output [[0.41811237]]\n",
      "20 day input [0.71912351 0.73084748 0.7343588  0.72320212 0.70301446 0.72212949\n",
      " 0.75515287 0.69387263 0.70363717 0.70422728 0.71513618 0.72046674\n",
      " 0.72437908 0.73396105 0.71699128 0.72056781 0.72739158 0.73421535\n",
      " 0.73958829 0.74710976 0.76295799 0.74626535 0.74305071 0.73815377\n",
      " 0.73441423 0.73138542 0.7448406  0.75418783 0.75463449 0.7565874\n",
      " 0.7507841  0.75808713 0.77147384 0.7965128  0.81170245 0.7825262\n",
      " 0.77830739 0.78732533 0.80121087 0.80959305 0.81383142 0.82068779\n",
      " 0.83334094 0.8498347  0.8400506  0.84662985 0.82651065 0.82243856\n",
      " 0.84801221 0.88709646 0.89087838 0.94524032 0.92668279 0.95308781\n",
      " 0.98618619 0.9918493  0.9605506  0.95403003 0.92953554 0.92661107\n",
      " 0.91424482 0.99081905 0.9717301  0.95921714 0.92225859 0.92954858\n",
      " 0.94464368 0.92675126 0.93757539 0.94355801 0.98033398 0.96312296\n",
      " 0.97190616 0.99348922 1.         0.98124034 0.974948   0.95294436\n",
      " 0.97953847 0.97914072 0.89257467 0.86968982 0.83723152 0.80321783\n",
      " 0.77025956 0.73908204 0.70983261 0.6824246  0.65663761 0.63217878\n",
      " 0.60873622 0.58602488 0.56381541 0.54195255 0.52035922 0.49903142\n",
      " 0.47802678 0.45744899 0.4374299  0.41811237]\n",
      "20 day output [[0.39963448]]\n",
      "21 day input [0.73084748 0.7343588  0.72320212 0.70301446 0.72212949 0.75515287\n",
      " 0.69387263 0.70363717 0.70422728 0.71513618 0.72046674 0.72437908\n",
      " 0.73396105 0.71699128 0.72056781 0.72739158 0.73421535 0.73958829\n",
      " 0.74710976 0.76295799 0.74626535 0.74305071 0.73815377 0.73441423\n",
      " 0.73138542 0.7448406  0.75418783 0.75463449 0.7565874  0.7507841\n",
      " 0.75808713 0.77147384 0.7965128  0.81170245 0.7825262  0.77830739\n",
      " 0.78732533 0.80121087 0.80959305 0.81383142 0.82068779 0.83334094\n",
      " 0.8498347  0.8400506  0.84662985 0.82651065 0.82243856 0.84801221\n",
      " 0.88709646 0.89087838 0.94524032 0.92668279 0.95308781 0.98618619\n",
      " 0.9918493  0.9605506  0.95403003 0.92953554 0.92661107 0.91424482\n",
      " 0.99081905 0.9717301  0.95921714 0.92225859 0.92954858 0.94464368\n",
      " 0.92675126 0.93757539 0.94355801 0.98033398 0.96312296 0.97190616\n",
      " 0.99348922 1.         0.98124034 0.974948   0.95294436 0.97953847\n",
      " 0.97914072 0.89257467 0.86968982 0.83723152 0.80321783 0.77025956\n",
      " 0.73908204 0.70983261 0.6824246  0.65663761 0.63217878 0.60873622\n",
      " 0.58602488 0.56381541 0.54195255 0.52035922 0.49903142 0.47802678\n",
      " 0.45744899 0.4374299  0.41811237 0.39963448]\n",
      "21 day output [[0.38211668]]\n",
      "22 day input [0.7343588  0.72320212 0.70301446 0.72212949 0.75515287 0.69387263\n",
      " 0.70363717 0.70422728 0.71513618 0.72046674 0.72437908 0.73396105\n",
      " 0.71699128 0.72056781 0.72739158 0.73421535 0.73958829 0.74710976\n",
      " 0.76295799 0.74626535 0.74305071 0.73815377 0.73441423 0.73138542\n",
      " 0.7448406  0.75418783 0.75463449 0.7565874  0.7507841  0.75808713\n",
      " 0.77147384 0.7965128  0.81170245 0.7825262  0.77830739 0.78732533\n",
      " 0.80121087 0.80959305 0.81383142 0.82068779 0.83334094 0.8498347\n",
      " 0.8400506  0.84662985 0.82651065 0.82243856 0.84801221 0.88709646\n",
      " 0.89087838 0.94524032 0.92668279 0.95308781 0.98618619 0.9918493\n",
      " 0.9605506  0.95403003 0.92953554 0.92661107 0.91424482 0.99081905\n",
      " 0.9717301  0.95921714 0.92225859 0.92954858 0.94464368 0.92675126\n",
      " 0.93757539 0.94355801 0.98033398 0.96312296 0.97190616 0.99348922\n",
      " 1.         0.98124034 0.974948   0.95294436 0.97953847 0.97914072\n",
      " 0.89257467 0.86968982 0.83723152 0.80321783 0.77025956 0.73908204\n",
      " 0.70983261 0.6824246  0.65663761 0.63217878 0.60873622 0.58602488\n",
      " 0.56381541 0.54195255 0.52035922 0.49903142 0.47802678 0.45744899\n",
      " 0.4374299  0.41811237 0.39963448 0.38211668]\n",
      "22 day output [[0.36565253]]\n",
      "23 day input [0.72320212 0.70301446 0.72212949 0.75515287 0.69387263 0.70363717\n",
      " 0.70422728 0.71513618 0.72046674 0.72437908 0.73396105 0.71699128\n",
      " 0.72056781 0.72739158 0.73421535 0.73958829 0.74710976 0.76295799\n",
      " 0.74626535 0.74305071 0.73815377 0.73441423 0.73138542 0.7448406\n",
      " 0.75418783 0.75463449 0.7565874  0.7507841  0.75808713 0.77147384\n",
      " 0.7965128  0.81170245 0.7825262  0.77830739 0.78732533 0.80121087\n",
      " 0.80959305 0.81383142 0.82068779 0.83334094 0.8498347  0.8400506\n",
      " 0.84662985 0.82651065 0.82243856 0.84801221 0.88709646 0.89087838\n",
      " 0.94524032 0.92668279 0.95308781 0.98618619 0.9918493  0.9605506\n",
      " 0.95403003 0.92953554 0.92661107 0.91424482 0.99081905 0.9717301\n",
      " 0.95921714 0.92225859 0.92954858 0.94464368 0.92675126 0.93757539\n",
      " 0.94355801 0.98033398 0.96312296 0.97190616 0.99348922 1.\n",
      " 0.98124034 0.974948   0.95294436 0.97953847 0.97914072 0.89257467\n",
      " 0.86968982 0.83723152 0.80321783 0.77025956 0.73908204 0.70983261\n",
      " 0.6824246  0.65663761 0.63217878 0.60873622 0.58602488 0.56381541\n",
      " 0.54195255 0.52035922 0.49903142 0.47802678 0.45744899 0.4374299\n",
      " 0.41811237 0.39963448 0.38211668 0.36565253]\n",
      "23 day output [[0.35030335]]\n",
      "24 day input [0.70301446 0.72212949 0.75515287 0.69387263 0.70363717 0.70422728\n",
      " 0.71513618 0.72046674 0.72437908 0.73396105 0.71699128 0.72056781\n",
      " 0.72739158 0.73421535 0.73958829 0.74710976 0.76295799 0.74626535\n",
      " 0.74305071 0.73815377 0.73441423 0.73138542 0.7448406  0.75418783\n",
      " 0.75463449 0.7565874  0.7507841  0.75808713 0.77147384 0.7965128\n",
      " 0.81170245 0.7825262  0.77830739 0.78732533 0.80121087 0.80959305\n",
      " 0.81383142 0.82068779 0.83334094 0.8498347  0.8400506  0.84662985\n",
      " 0.82651065 0.82243856 0.84801221 0.88709646 0.89087838 0.94524032\n",
      " 0.92668279 0.95308781 0.98618619 0.9918493  0.9605506  0.95403003\n",
      " 0.92953554 0.92661107 0.91424482 0.99081905 0.9717301  0.95921714\n",
      " 0.92225859 0.92954858 0.94464368 0.92675126 0.93757539 0.94355801\n",
      " 0.98033398 0.96312296 0.97190616 0.99348922 1.         0.98124034\n",
      " 0.974948   0.95294436 0.97953847 0.97914072 0.89257467 0.86968982\n",
      " 0.83723152 0.80321783 0.77025956 0.73908204 0.70983261 0.6824246\n",
      " 0.65663761 0.63217878 0.60873622 0.58602488 0.56381541 0.54195255\n",
      " 0.52035922 0.49903142 0.47802678 0.45744899 0.4374299  0.41811237\n",
      " 0.39963448 0.38211668 0.36565253 0.35030335]\n",
      "24 day output [[0.33609682]]\n",
      "25 day input [0.72212949 0.75515287 0.69387263 0.70363717 0.70422728 0.71513618\n",
      " 0.72046674 0.72437908 0.73396105 0.71699128 0.72056781 0.72739158\n",
      " 0.73421535 0.73958829 0.74710976 0.76295799 0.74626535 0.74305071\n",
      " 0.73815377 0.73441423 0.73138542 0.7448406  0.75418783 0.75463449\n",
      " 0.7565874  0.7507841  0.75808713 0.77147384 0.7965128  0.81170245\n",
      " 0.7825262  0.77830739 0.78732533 0.80121087 0.80959305 0.81383142\n",
      " 0.82068779 0.83334094 0.8498347  0.8400506  0.84662985 0.82651065\n",
      " 0.82243856 0.84801221 0.88709646 0.89087838 0.94524032 0.92668279\n",
      " 0.95308781 0.98618619 0.9918493  0.9605506  0.95403003 0.92953554\n",
      " 0.92661107 0.91424482 0.99081905 0.9717301  0.95921714 0.92225859\n",
      " 0.92954858 0.94464368 0.92675126 0.93757539 0.94355801 0.98033398\n",
      " 0.96312296 0.97190616 0.99348922 1.         0.98124034 0.974948\n",
      " 0.95294436 0.97953847 0.97914072 0.89257467 0.86968982 0.83723152\n",
      " 0.80321783 0.77025956 0.73908204 0.70983261 0.6824246  0.65663761\n",
      " 0.63217878 0.60873622 0.58602488 0.56381541 0.54195255 0.52035922\n",
      " 0.49903142 0.47802678 0.45744899 0.4374299  0.41811237 0.39963448\n",
      " 0.38211668 0.36565253 0.35030335 0.33609682]\n",
      "25 day output [[0.32302842]]\n",
      "26 day input [0.75515287 0.69387263 0.70363717 0.70422728 0.71513618 0.72046674\n",
      " 0.72437908 0.73396105 0.71699128 0.72056781 0.72739158 0.73421535\n",
      " 0.73958829 0.74710976 0.76295799 0.74626535 0.74305071 0.73815377\n",
      " 0.73441423 0.73138542 0.7448406  0.75418783 0.75463449 0.7565874\n",
      " 0.7507841  0.75808713 0.77147384 0.7965128  0.81170245 0.7825262\n",
      " 0.77830739 0.78732533 0.80121087 0.80959305 0.81383142 0.82068779\n",
      " 0.83334094 0.8498347  0.8400506  0.84662985 0.82651065 0.82243856\n",
      " 0.84801221 0.88709646 0.89087838 0.94524032 0.92668279 0.95308781\n",
      " 0.98618619 0.9918493  0.9605506  0.95403003 0.92953554 0.92661107\n",
      " 0.91424482 0.99081905 0.9717301  0.95921714 0.92225859 0.92954858\n",
      " 0.94464368 0.92675126 0.93757539 0.94355801 0.98033398 0.96312296\n",
      " 0.97190616 0.99348922 1.         0.98124034 0.974948   0.95294436\n",
      " 0.97953847 0.97914072 0.89257467 0.86968982 0.83723152 0.80321783\n",
      " 0.77025956 0.73908204 0.70983261 0.6824246  0.65663761 0.63217878\n",
      " 0.60873622 0.58602488 0.56381541 0.54195255 0.52035922 0.49903142\n",
      " 0.47802678 0.45744899 0.4374299  0.41811237 0.39963448 0.38211668\n",
      " 0.36565253 0.35030335 0.33609682 0.32302842]\n",
      "26 day output [[0.31106588]]\n",
      "27 day input [0.69387263 0.70363717 0.70422728 0.71513618 0.72046674 0.72437908\n",
      " 0.73396105 0.71699128 0.72056781 0.72739158 0.73421535 0.73958829\n",
      " 0.74710976 0.76295799 0.74626535 0.74305071 0.73815377 0.73441423\n",
      " 0.73138542 0.7448406  0.75418783 0.75463449 0.7565874  0.7507841\n",
      " 0.75808713 0.77147384 0.7965128  0.81170245 0.7825262  0.77830739\n",
      " 0.78732533 0.80121087 0.80959305 0.81383142 0.82068779 0.83334094\n",
      " 0.8498347  0.8400506  0.84662985 0.82651065 0.82243856 0.84801221\n",
      " 0.88709646 0.89087838 0.94524032 0.92668279 0.95308781 0.98618619\n",
      " 0.9918493  0.9605506  0.95403003 0.92953554 0.92661107 0.91424482\n",
      " 0.99081905 0.9717301  0.95921714 0.92225859 0.92954858 0.94464368\n",
      " 0.92675126 0.93757539 0.94355801 0.98033398 0.96312296 0.97190616\n",
      " 0.99348922 1.         0.98124034 0.974948   0.95294436 0.97953847\n",
      " 0.97914072 0.89257467 0.86968982 0.83723152 0.80321783 0.77025956\n",
      " 0.73908204 0.70983261 0.6824246  0.65663761 0.63217878 0.60873622\n",
      " 0.58602488 0.56381541 0.54195255 0.52035922 0.49903142 0.47802678\n",
      " 0.45744899 0.4374299  0.41811237 0.39963448 0.38211668 0.36565253\n",
      " 0.35030335 0.33609682 0.32302842 0.31106588]\n",
      "27 day output [[0.30015483]]\n",
      "28 day input [0.70363717 0.70422728 0.71513618 0.72046674 0.72437908 0.73396105\n",
      " 0.71699128 0.72056781 0.72739158 0.73421535 0.73958829 0.74710976\n",
      " 0.76295799 0.74626535 0.74305071 0.73815377 0.73441423 0.73138542\n",
      " 0.7448406  0.75418783 0.75463449 0.7565874  0.7507841  0.75808713\n",
      " 0.77147384 0.7965128  0.81170245 0.7825262  0.77830739 0.78732533\n",
      " 0.80121087 0.80959305 0.81383142 0.82068779 0.83334094 0.8498347\n",
      " 0.8400506  0.84662985 0.82651065 0.82243856 0.84801221 0.88709646\n",
      " 0.89087838 0.94524032 0.92668279 0.95308781 0.98618619 0.9918493\n",
      " 0.9605506  0.95403003 0.92953554 0.92661107 0.91424482 0.99081905\n",
      " 0.9717301  0.95921714 0.92225859 0.92954858 0.94464368 0.92675126\n",
      " 0.93757539 0.94355801 0.98033398 0.96312296 0.97190616 0.99348922\n",
      " 1.         0.98124034 0.974948   0.95294436 0.97953847 0.97914072\n",
      " 0.89257467 0.86968982 0.83723152 0.80321783 0.77025956 0.73908204\n",
      " 0.70983261 0.6824246  0.65663761 0.63217878 0.60873622 0.58602488\n",
      " 0.56381541 0.54195255 0.52035922 0.49903142 0.47802678 0.45744899\n",
      " 0.4374299  0.41811237 0.39963448 0.38211668 0.36565253 0.35030335\n",
      " 0.33609682 0.32302842 0.31106588 0.30015483]\n",
      "28 day output [[0.2902254]]\n",
      "29 day input [0.70422728 0.71513618 0.72046674 0.72437908 0.73396105 0.71699128\n",
      " 0.72056781 0.72739158 0.73421535 0.73958829 0.74710976 0.76295799\n",
      " 0.74626535 0.74305071 0.73815377 0.73441423 0.73138542 0.7448406\n",
      " 0.75418783 0.75463449 0.7565874  0.7507841  0.75808713 0.77147384\n",
      " 0.7965128  0.81170245 0.7825262  0.77830739 0.78732533 0.80121087\n",
      " 0.80959305 0.81383142 0.82068779 0.83334094 0.8498347  0.8400506\n",
      " 0.84662985 0.82651065 0.82243856 0.84801221 0.88709646 0.89087838\n",
      " 0.94524032 0.92668279 0.95308781 0.98618619 0.9918493  0.9605506\n",
      " 0.95403003 0.92953554 0.92661107 0.91424482 0.99081905 0.9717301\n",
      " 0.95921714 0.92225859 0.92954858 0.94464368 0.92675126 0.93757539\n",
      " 0.94355801 0.98033398 0.96312296 0.97190616 0.99348922 1.\n",
      " 0.98124034 0.974948   0.95294436 0.97953847 0.97914072 0.89257467\n",
      " 0.86968982 0.83723152 0.80321783 0.77025956 0.73908204 0.70983261\n",
      " 0.6824246  0.65663761 0.63217878 0.60873622 0.58602488 0.56381541\n",
      " 0.54195255 0.52035922 0.49903142 0.47802678 0.45744899 0.4374299\n",
      " 0.41811237 0.39963448 0.38211668 0.36565253 0.35030335 0.33609682\n",
      " 0.32302842 0.31106588 0.30015483 0.29022539]\n",
      "29 day output [[0.28119868]]\n",
      "[[0.892574667930603], [0.8696898221969604], [0.8372315168380737], [0.8032178282737732], [0.7702595591545105], [0.7390820384025574], [0.7098326086997986], [0.6824246048927307], [0.6566376090049744], [0.632178783416748], [0.6087362170219421], [0.5860248804092407], [0.5638154149055481], [0.5419525504112244], [0.520359218120575], [0.4990314245223999], [0.47802677750587463], [0.4574489891529083], [0.43742990493774414], [0.4181123673915863], [0.3996344804763794], [0.3821166753768921], [0.36565253138542175], [0.3503033518791199], [0.3360968232154846], [0.32302841544151306], [0.3110658824443817], [0.30015483498573303], [0.29022538661956787], [0.2811986804008484]]\n"
     ]
    }
   ],
   "source": [
    "# demonstrate prediction for next 10 days\n",
    "from numpy import array\n",
    "\n",
    "lst_output=[]\n",
    "n_steps=100\n",
    "i=0\n",
    "while(i<30):\n",
    "    \n",
    "    if(len(temp_input)>100):\n",
    "        #print(temp_input)\n",
    "        x_input=np.array(temp_input[1:])\n",
    "        print(\"{} day input {}\".format(i,x_input))\n",
    "        x_input=x_input.reshape(1,-1)\n",
    "        x_input = x_input.reshape((1, n_steps, 1))\n",
    "        #print(x_input)\n",
    "        yhat = model.predict(x_input, verbose=0)\n",
    "        print(\"{} day output {}\".format(i,yhat))\n",
    "        temp_input.extend(yhat[0].tolist())\n",
    "        temp_input=temp_input[1:]\n",
    "        #print(temp_input)\n",
    "        lst_output.extend(yhat.tolist())\n",
    "        i=i+1\n",
    "    else:\n",
    "        x_input = x_input.reshape((1, n_steps,1))\n",
    "        yhat = model.predict(x_input, verbose=0)\n",
    "        print(yhat[0])\n",
    "        temp_input.extend(yhat[0].tolist())\n",
    "        print(len(temp_input))\n",
    "        lst_output.extend(yhat.tolist())\n",
    "        i=i+1\n",
    "    \n",
    "\n",
    "print(lst_output)"
   ]
  },
  {
   "cell_type": "code",
   "execution_count": 54,
   "id": "54f00991",
   "metadata": {},
   "outputs": [],
   "source": [
    "day_new=np.arange(1,101)\n",
    "day_pred=np.arange(101,131)"
   ]
  },
  {
   "cell_type": "code",
   "execution_count": 55,
   "id": "2fcae7a7",
   "metadata": {},
   "outputs": [],
   "source": [
    "import matplotlib.pyplot as plt"
   ]
  },
  {
   "cell_type": "code",
   "execution_count": 56,
   "id": "b8519f24",
   "metadata": {},
   "outputs": [
    {
     "data": {
      "text/plain": [
       "2473"
      ]
     },
     "execution_count": 56,
     "metadata": {},
     "output_type": "execute_result"
    }
   ],
   "source": [
    "len(df1)"
   ]
  },
  {
   "cell_type": "code",
   "execution_count": 57,
   "id": "b0355fd1",
   "metadata": {},
   "outputs": [
    {
     "data": {
      "text/plain": [
       "[[0.892574667930603],\n",
       " [0.8696898221969604],\n",
       " [0.8372315168380737],\n",
       " [0.8032178282737732],\n",
       " [0.7702595591545105],\n",
       " [0.7390820384025574],\n",
       " [0.7098326086997986],\n",
       " [0.6824246048927307],\n",
       " [0.6566376090049744],\n",
       " [0.632178783416748],\n",
       " [0.6087362170219421],\n",
       " [0.5860248804092407],\n",
       " [0.5638154149055481],\n",
       " [0.5419525504112244],\n",
       " [0.520359218120575],\n",
       " [0.4990314245223999],\n",
       " [0.47802677750587463],\n",
       " [0.4574489891529083],\n",
       " [0.43742990493774414],\n",
       " [0.4181123673915863],\n",
       " [0.3996344804763794],\n",
       " [0.3821166753768921],\n",
       " [0.36565253138542175],\n",
       " [0.3503033518791199],\n",
       " [0.3360968232154846],\n",
       " [0.32302841544151306],\n",
       " [0.3110658824443817],\n",
       " [0.30015483498573303],\n",
       " [0.29022538661956787],\n",
       " [0.2811986804008484]]"
      ]
     },
     "execution_count": 57,
     "metadata": {},
     "output_type": "execute_result"
    }
   ],
   "source": [
    "lst_output"
   ]
  },
  {
   "cell_type": "code",
   "execution_count": 81,
   "id": "94f46721",
   "metadata": {},
   "outputs": [
    {
     "data": {
      "text/plain": [
       "[<matplotlib.lines.Line2D at 0x2a0ab7bd640>]"
      ]
     },
     "execution_count": 81,
     "metadata": {},
     "output_type": "execute_result"
    },
    {
     "data": {
      "image/png": "[encoded data removed]",
      "text/plain": [
       "<Figure size 432x288 with 1 Axes>"
      ]
     },
     "metadata": {
      "needs_background": "light"
     },
     "output_type": "display_data"
    }
   ],
   "source": [
    "plt.plot(day_new,scaler.inverse_transform(df1[2373:]))\n",
    "plt.plot(day_pred,scaler.inverse_transform(lst_output))"
   ]
  },
  {
   "cell_type": "code",
   "execution_count": 106,
   "id": "a388261e",
   "metadata": {},
   "outputs": [
    {
     "data": {
      "text/plain": [
       "[<matplotlib.lines.Line2D at 0x2a0b89970d0>]"
      ]
     },
     "execution_count": 106,
     "metadata": {},
     "output_type": "execute_result"
    },
    {
     "data": {
      "image/png": "[encoded data removed]",
      "text/plain": [
       "<Figure size 432x288 with 1 Axes>"
      ]
     },
     "metadata": {
      "needs_background": "light"
     },
     "output_type": "display_data"
    }
   ],
   "source": [
    "df3=df1.tolist()\n",
    "df3.extend(lst_output)\n",
    "plt.plot(df3[2400:])"
   ]
  },
  {
   "cell_type": "markdown",
   "id": "d2d95a0c",
   "metadata": {},
   "source": [
    "In this code, we perform hyperparameter tuning and analysis for the recurrent neural network code for stock price prediction using GridSearchCV from scikit-learn library. We define a parameter grid with values for units and dropout and create a KerasRegressor model using the create_model function. We then perform"
   ]
  },
  {
   "cell_type": "code",
   "execution_count": null,
   "id": "b1f5a58c",
   "metadata": {},
   "outputs": [],
   "source": []
  },
  {
   "cell_type": "markdown",
   "id": "4e0d5951",
   "metadata": {},
   "source": [
    "Prediction of opening price"
   ]
  },
  {
   "cell_type": "code",
   "execution_count": 59,
   "id": "30619515",
   "metadata": {},
   "outputs": [
    {
     "data": {
      "text/plain": [
       "0        165.00\n",
       "1        160.68\n",
       "2        158.78\n",
       "3        162.67\n",
       "4        162.45\n",
       "         ...   \n",
       "2468    3224.01\n",
       "2469    3170.31\n",
       "2470    3113.20\n",
       "2471    3108.00\n",
       "2472    3182.99\n",
       "Name: Open, Length: 2473, dtype: float64"
      ]
     },
     "execution_count": 59,
     "metadata": {},
     "output_type": "execute_result"
    }
   ],
   "source": [
    "df2=df['Open']\n",
    "df2"
   ]
  },
  {
   "cell_type": "code",
   "execution_count": 60,
   "id": "538835ee",
   "metadata": {},
   "outputs": [
    {
     "data": {
      "text/plain": [
       "[<matplotlib.lines.Line2D at 0x2a0ad7d8610>]"
      ]
     },
     "execution_count": 60,
     "metadata": {},
     "output_type": "execute_result"
    },
    {
     "data": {
      "image/png": "[encoded data removed]",
      "text/plain": [
       "<Figure size 432x288 with 1 Axes>"
      ]
     },
     "metadata": {
      "needs_background": "light"
     },
     "output_type": "display_data"
    }
   ],
   "source": [
    "import matplotlib.pyplot as plt\n",
    "plt.plot(df2)"
   ]
  },
  {
   "cell_type": "code",
   "execution_count": 61,
   "id": "3259d296",
   "metadata": {},
   "outputs": [],
   "source": [
    "from sklearn.preprocessing import MinMaxScaler\n",
    "scaler=MinMaxScaler(feature_range=(0,1))\n",
    "df2=scaler.fit_transform(np.array(df2).reshape(-1,1))"
   ]
  },
  {
   "cell_type": "code",
   "execution_count": 62,
   "id": "221f731d",
   "metadata": {},
   "outputs": [
    {
     "name": "stdout",
     "output_type": "stream",
     "text": [
      "[[2.31473998e-03]\n",
      " [9.18137087e-04]\n",
      " [3.03890444e-04]\n",
      " ...\n",
      " [9.55431557e-01]\n",
      " [9.53750461e-01]\n",
      " [9.77993806e-01]]\n"
     ]
    }
   ],
   "source": [
    "print(df2)"
   ]
  },
  {
   "cell_type": "code",
   "execution_count": 63,
   "id": "95230375",
   "metadata": {},
   "outputs": [
    {
     "data": {
      "text/plain": [
       "(2473, 1)"
      ]
     },
     "execution_count": 63,
     "metadata": {},
     "output_type": "execute_result"
    }
   ],
   "source": [
    "df2.shape"
   ]
  },
  {
   "cell_type": "code",
   "execution_count": 64,
   "id": "9d080473",
   "metadata": {},
   "outputs": [],
   "source": [
    "##splitting dataset into train and test split\n",
    "training_size_open=int(len(df2)*0.65)\n",
    "test_size_open=len(df2)-training_size_open\n",
    "train_data_open,test_data_open=df2[0:training_size_open,:],df2[training_size_open:len(df2),:1]"
   ]
  },
  {
   "cell_type": "code",
   "execution_count": 65,
   "id": "628f85ee",
   "metadata": {},
   "outputs": [
    {
     "data": {
      "text/plain": [
       "(1607, 866)"
      ]
     },
     "execution_count": 65,
     "metadata": {},
     "output_type": "execute_result"
    }
   ],
   "source": [
    "training_size_open,test_size_open\n"
   ]
  },
  {
   "cell_type": "code",
   "execution_count": 66,
   "id": "5a93ec33",
   "metadata": {},
   "outputs": [
    {
     "data": {
      "text/plain": [
       "array([[0.00231474],\n",
       "       [0.00091814],\n",
       "       [0.00030389],\n",
       "       ...,\n",
       "       [0.22286161],\n",
       "       [0.22222474],\n",
       "       [0.22230556]])"
      ]
     },
     "execution_count": 66,
     "metadata": {},
     "output_type": "execute_result"
    }
   ],
   "source": [
    "train_data_open"
   ]
  },
  {
   "cell_type": "code",
   "execution_count": 67,
   "id": "49e10d45",
   "metadata": {},
   "outputs": [
    {
     "data": {
      "text/plain": [
       "1607"
      ]
     },
     "execution_count": 67,
     "metadata": {},
     "output_type": "execute_result"
    }
   ],
   "source": [
    "len(train_data_open)"
   ]
  },
  {
   "cell_type": "code",
   "execution_count": 68,
   "id": "00281b27",
   "metadata": {},
   "outputs": [
    {
     "data": {
      "text/plain": [
       "array([0.00231474, 0.00091814, 0.00030389, 0.00156148, 0.00149036,\n",
       "       0.00443874, 0.00314559, 0.00357879, 0.00338482, 0.00257337,\n",
       "       0.00213693, 0.00191063, 0.00244406, 0.00388592, 0.00372104,\n",
       "       0.00420274, 0.00479436, 0.00412192, 0.00425447, 0.00396997,\n",
       "       0.00236647, 0.00029096, 0.        , 0.00093753, 0.00197529,\n",
       "       0.00234707, 0.00348181, 0.00442581, 0.00631058, 0.00716082,\n",
       "       0.00617803, 0.00689249, 0.00614893, 0.00570926, 0.00571573,\n",
       "       0.0073257 , 0.0063526 , 0.00644312, 0.00550882, 0.00597759,\n",
       "       0.00531485, 0.00513381, 0.00573512, 0.00665003, 0.00692806,\n",
       "       0.00841841, 0.00878049, 0.00856712, 0.0077783 , 0.00784296,\n",
       "       0.00774597, 0.00843134, 0.0077977 , 0.00760696, 0.00915227,\n",
       "       0.00848954, 0.00926543, 0.00971156, 0.00879343, 0.00891627,\n",
       "       0.00889688, 0.00832789, 0.00894214, 0.00996373, 0.01068789,\n",
       "       0.00887425, 0.00813392, 0.00650132, 0.00570926, 0.00635907,\n",
       "       0.00634937, 0.00439995, 0.0039829 , 0.00409929, 0.00439025,\n",
       "       0.00506269, 0.00522433, 0.0059194 , 0.00608427, 0.00818241,\n",
       "       0.00858329, 0.00896154, 0.01015447, 0.00998636, 0.01032258,\n",
       "       0.00902943, 0.00960164, 0.00835375, 0.00724488, 0.00614893,\n",
       "       0.0068246 , 0.00519523, 0.00507238, 0.00363699, 0.00513058,\n",
       "       0.00477819, 0.00455189, 0.00373397, 0.00285463, 0.00298395])"
      ]
     },
     "execution_count": 68,
     "metadata": {},
     "output_type": "execute_result"
    }
   ],
   "source": [
    "train_data_open[0:100,0]"
   ]
  },
  {
   "cell_type": "code",
   "execution_count": 69,
   "id": "04942e47",
   "metadata": {},
   "outputs": [],
   "source": [
    "import numpy\n",
    "# convert an array of values into a dataset matrix\n",
    "def create_dataset(dataset, time_step=1):\n",
    "    dataX_open, dataY_open = [], []\n",
    "    for i in range(len(dataset)-time_step-1):\n",
    "        a = dataset[i:(i+time_step), 0]   ###i=0, 0,1,2,3-----99   100 \n",
    "        dataX_open.append(a)\n",
    "        dataY_open.append(dataset[i + time_step, 0])\n",
    "    return numpy.array(dataX_open), numpy.array(dataY_open)"
   ]
  },
  {
   "cell_type": "code",
   "execution_count": 70,
   "id": "ecff4775",
   "metadata": {},
   "outputs": [],
   "source": [
    "# reshape into X=t,t+1,t+2,t+3 and Y=t+4\n",
    "time_step = 100\n",
    "X_train_open, y_train_open = create_dataset(train_data_open, time_step)\n",
    "X_test_open, ytest_open = create_dataset(test_data_open, time_step)"
   ]
  },
  {
   "cell_type": "code",
   "execution_count": 71,
   "id": "bdef7bf3",
   "metadata": {},
   "outputs": [
    {
     "data": {
      "text/plain": [
       "array([[0.22312024, 0.22409011, 0.22602983, ..., 0.286226  , 0.29474464,\n",
       "        0.27618469],\n",
       "       [0.22409011, 0.22602983, 0.22433904, ..., 0.29474464, 0.27618469,\n",
       "        0.27841861],\n",
       "       [0.22602983, 0.22433904, 0.22491449, ..., 0.27618469, 0.27841861,\n",
       "        0.27100239],\n",
       "       ...,\n",
       "       [0.51472576, 0.5502874 , 0.57172461, ..., 0.96531446, 0.98166959,\n",
       "        0.99125507],\n",
       "       [0.5502874 , 0.57172461, 0.53986137, ..., 0.98166959, 0.99125507,\n",
       "        0.97389452],\n",
       "       [0.57172461, 0.53986137, 0.57986823, ..., 0.99125507, 0.97389452,\n",
       "        0.95543156]])"
      ]
     },
     "execution_count": 71,
     "metadata": {},
     "output_type": "execute_result"
    }
   ],
   "source": [
    "X_test_open"
   ]
  },
  {
   "cell_type": "code",
   "execution_count": 72,
   "id": "02a3f13e",
   "metadata": {},
   "outputs": [
    {
     "name": "stdout",
     "output_type": "stream",
     "text": [
      "(1506, 100)\n",
      "(1506,)\n"
     ]
    },
    {
     "data": {
      "text/plain": [
       "(None, None)"
      ]
     },
     "execution_count": 72,
     "metadata": {},
     "output_type": "execute_result"
    }
   ],
   "source": [
    "print(X_train_open.shape), print(y_train_open.shape)"
   ]
  },
  {
   "cell_type": "code",
   "execution_count": 73,
   "id": "2fad91cb",
   "metadata": {},
   "outputs": [
    {
     "data": {
      "text/plain": [
       "1506"
      ]
     },
     "execution_count": 73,
     "metadata": {},
     "output_type": "execute_result"
    }
   ],
   "source": [
    "X_train_open.shape[0]"
   ]
  },
  {
   "cell_type": "code",
   "execution_count": 74,
   "id": "80796d34",
   "metadata": {},
   "outputs": [
    {
     "name": "stdout",
     "output_type": "stream",
     "text": [
      "(765, 100)\n",
      "(765,)\n"
     ]
    },
    {
     "data": {
      "text/plain": [
       "(None, None)"
      ]
     },
     "execution_count": 74,
     "metadata": {},
     "output_type": "execute_result"
    }
   ],
   "source": [
    "print(X_test_open.shape), print(ytest_open.shape)"
   ]
  },
  {
   "cell_type": "code",
   "execution_count": 75,
   "id": "f47a7ee5",
   "metadata": {},
   "outputs": [],
   "source": [
    "# reshape input to be [samples, time steps, features] which is required for LSTM\n",
    "X_train_open =X_train_open.reshape(X_train_open.shape[0],X_train_open.shape[1] , 1)\n",
    "X_test_open = X_test_open.reshape(X_test_open.shape[0],X_test_open.shape[1] , 1)"
   ]
  },
  {
   "cell_type": "code",
   "execution_count": 76,
   "id": "2348bfcf",
   "metadata": {},
   "outputs": [],
   "source": [
    "### Create the Stacked LSTM model\n",
    "\n",
    "from tensorflow.keras.models import Sequential\n",
    "from tensorflow.keras.layers import Dense\n",
    "from tensorflow.keras.layers import LSTM"
   ]
  },
  {
   "cell_type": "code",
   "execution_count": 77,
   "id": "98a00ba4",
   "metadata": {},
   "outputs": [],
   "source": [
    "model=Sequential()\n",
    "model.add(LSTM(50,return_sequences=True,input_shape=(100,1)))\n",
    "model.add(LSTM(50,return_sequences=True))\n",
    "model.add(LSTM(50))\n",
    "model.add(Dense(1))\n",
    "model.compile(loss='mean_squared_error',optimizer='adam')"
   ]
  },
  {
   "cell_type": "code",
   "execution_count": 78,
   "id": "f3e6cb9b",
   "metadata": {},
   "outputs": [
    {
     "name": "stdout",
     "output_type": "stream",
     "text": [
      "Model: \"sequential_1\"\n",
      "_________________________________________________________________\n",
      " Layer (type)                Output Shape              Param #   \n",
      "=================================================================\n",
      " lstm_3 (LSTM)               (None, 100, 50)           10400     \n",
      "                                                                 \n",
      " lstm_4 (LSTM)               (None, 100, 50)           20200     \n",
      "                                                                 \n",
      " lstm_5 (LSTM)               (None, 50)                20200     \n",
      "                                                                 \n",
      " dense_1 (Dense)             (None, 1)                 51        \n",
      "                                                                 \n",
      "=================================================================\n",
      "Total params: 50,851\n",
      "Trainable params: 50,851\n",
      "Non-trainable params: 0\n",
      "_________________________________________________________________\n"
     ]
    }
   ],
   "source": [
    "model.summary()"
   ]
  },
  {
   "cell_type": "code",
   "execution_count": 79,
   "id": "fdcef725",
   "metadata": {},
   "outputs": [
    {
     "name": "stdout",
     "output_type": "stream",
     "text": [
      "Epoch 1/100\n",
      "24/24 [==============================] - 11s 259ms/step - loss: 9.9034e-04 - val_loss: 0.0026\n",
      "Epoch 2/100\n",
      "24/24 [==============================] - 5s 195ms/step - loss: 7.6110e-05 - val_loss: 0.0019\n",
      "Epoch 3/100\n",
      "24/24 [==============================] - 5s 196ms/step - loss: 5.3080e-05 - val_loss: 0.0012\n",
      "Epoch 4/100\n",
      "24/24 [==============================] - 5s 191ms/step - loss: 5.2452e-05 - val_loss: 0.0012\n",
      "Epoch 5/100\n",
      "24/24 [==============================] - 5s 189ms/step - loss: 5.0201e-05 - val_loss: 0.0014\n",
      "Epoch 6/100\n",
      "24/24 [==============================] - 4s 188ms/step - loss: 4.5407e-05 - val_loss: 0.0013\n",
      "Epoch 7/100\n",
      "24/24 [==============================] - 5s 199ms/step - loss: 4.7806e-05 - val_loss: 0.0013\n",
      "Epoch 8/100\n",
      "24/24 [==============================] - 5s 194ms/step - loss: 4.5013e-05 - val_loss: 0.0016\n",
      "Epoch 9/100\n",
      "24/24 [==============================] - 5s 198ms/step - loss: 4.2602e-05 - val_loss: 0.0016\n",
      "Epoch 10/100\n",
      "24/24 [==============================] - 5s 200ms/step - loss: 4.2465e-05 - val_loss: 0.0019\n",
      "Epoch 11/100\n",
      "24/24 [==============================] - 5s 227ms/step - loss: 4.1066e-05 - val_loss: 0.0027\n",
      "Epoch 12/100\n",
      "24/24 [==============================] - 4s 177ms/step - loss: 3.9705e-05 - val_loss: 0.0020\n",
      "Epoch 13/100\n",
      "24/24 [==============================] - 5s 211ms/step - loss: 3.9375e-05 - val_loss: 0.0025\n",
      "Epoch 14/100\n",
      "24/24 [==============================] - 4s 177ms/step - loss: 3.6781e-05 - val_loss: 0.0016\n",
      "Epoch 15/100\n",
      "24/24 [==============================] - 5s 191ms/step - loss: 3.8222e-05 - val_loss: 0.0023\n",
      "Epoch 16/100\n",
      "24/24 [==============================] - 4s 188ms/step - loss: 3.5303e-05 - val_loss: 0.0015\n",
      "Epoch 17/100\n",
      "24/24 [==============================] - 5s 201ms/step - loss: 4.1848e-05 - val_loss: 0.0015\n",
      "Epoch 18/100\n",
      "24/24 [==============================] - 4s 184ms/step - loss: 3.9919e-05 - val_loss: 0.0014\n",
      "Epoch 19/100\n",
      "24/24 [==============================] - 5s 197ms/step - loss: 4.1331e-05 - val_loss: 0.0018\n",
      "Epoch 20/100\n",
      "24/24 [==============================] - 5s 196ms/step - loss: 3.4197e-05 - val_loss: 0.0014\n",
      "Epoch 21/100\n",
      "24/24 [==============================] - 4s 175ms/step - loss: 3.2135e-05 - val_loss: 0.0017\n",
      "Epoch 22/100\n",
      "24/24 [==============================] - 4s 183ms/step - loss: 3.1725e-05 - val_loss: 0.0013\n",
      "Epoch 23/100\n",
      "24/24 [==============================] - 5s 194ms/step - loss: 3.4115e-05 - val_loss: 0.0013\n",
      "Epoch 24/100\n",
      "24/24 [==============================] - 5s 207ms/step - loss: 4.3922e-05 - val_loss: 0.0011\n",
      "Epoch 25/100\n",
      "24/24 [==============================] - 4s 184ms/step - loss: 3.0890e-05 - val_loss: 0.0027\n",
      "Epoch 26/100\n",
      "24/24 [==============================] - 5s 191ms/step - loss: 3.4630e-05 - val_loss: 0.0017\n",
      "Epoch 27/100\n",
      "24/24 [==============================] - 4s 187ms/step - loss: 2.9831e-05 - val_loss: 0.0014\n",
      "Epoch 28/100\n",
      "24/24 [==============================] - 5s 190ms/step - loss: 2.8476e-05 - val_loss: 0.0018\n",
      "Epoch 29/100\n",
      "24/24 [==============================] - 4s 171ms/step - loss: 2.9900e-05 - val_loss: 9.7227e-04\n",
      "Epoch 30/100\n",
      "24/24 [==============================] - 4s 187ms/step - loss: 2.8564e-05 - val_loss: 0.0012\n",
      "Epoch 31/100\n",
      "24/24 [==============================] - 5s 194ms/step - loss: 3.0940e-05 - val_loss: 8.8233e-04\n",
      "Epoch 32/100\n",
      "24/24 [==============================] - 5s 204ms/step - loss: 2.9717e-05 - val_loss: 9.5312e-04\n",
      "Epoch 33/100\n",
      "24/24 [==============================] - 5s 203ms/step - loss: 2.8973e-05 - val_loss: 0.0012\n",
      "Epoch 34/100\n",
      "24/24 [==============================] - 5s 213ms/step - loss: 2.8526e-05 - val_loss: 0.0012\n",
      "Epoch 35/100\n",
      "24/24 [==============================] - 5s 193ms/step - loss: 2.6636e-05 - val_loss: 0.0012\n",
      "Epoch 36/100\n",
      "24/24 [==============================] - 4s 174ms/step - loss: 2.7360e-05 - val_loss: 9.6978e-04\n",
      "Epoch 37/100\n",
      "24/24 [==============================] - 4s 170ms/step - loss: 2.6681e-05 - val_loss: 6.2404e-04\n",
      "Epoch 38/100\n",
      "24/24 [==============================] - 4s 171ms/step - loss: 3.2955e-05 - val_loss: 0.0011\n",
      "Epoch 39/100\n",
      "24/24 [==============================] - 4s 177ms/step - loss: 2.8425e-05 - val_loss: 0.0012\n",
      "Epoch 40/100\n",
      "24/24 [==============================] - 4s 170ms/step - loss: 2.7563e-05 - val_loss: 0.0017\n",
      "Epoch 41/100\n",
      "24/24 [==============================] - 4s 184ms/step - loss: 2.5470e-05 - val_loss: 0.0011\n",
      "Epoch 42/100\n",
      "24/24 [==============================] - 5s 200ms/step - loss: 3.0493e-05 - val_loss: 0.0019\n",
      "Epoch 43/100\n",
      "24/24 [==============================] - 4s 179ms/step - loss: 3.4034e-05 - val_loss: 0.0013\n",
      "Epoch 44/100\n",
      "24/24 [==============================] - 4s 173ms/step - loss: 2.5959e-05 - val_loss: 0.0011\n",
      "Epoch 45/100\n",
      "24/24 [==============================] - 4s 172ms/step - loss: 2.5321e-05 - val_loss: 0.0013\n",
      "Epoch 46/100\n",
      "24/24 [==============================] - 4s 185ms/step - loss: 2.7796e-05 - val_loss: 0.0017\n",
      "Epoch 47/100\n",
      "24/24 [==============================] - 4s 182ms/step - loss: 2.7182e-05 - val_loss: 0.0016\n",
      "Epoch 48/100\n",
      "24/24 [==============================] - 5s 199ms/step - loss: 2.2715e-05 - val_loss: 8.0335e-04\n",
      "Epoch 49/100\n",
      "24/24 [==============================] - 5s 203ms/step - loss: 2.2631e-05 - val_loss: 7.2305e-04\n",
      "Epoch 50/100\n",
      "24/24 [==============================] - 5s 215ms/step - loss: 2.3540e-05 - val_loss: 0.0011\n",
      "Epoch 51/100\n",
      "24/24 [==============================] - 5s 210ms/step - loss: 2.6524e-05 - val_loss: 0.0012\n",
      "Epoch 52/100\n",
      "24/24 [==============================] - 5s 206ms/step - loss: 2.8170e-05 - val_loss: 9.1466e-04\n",
      "Epoch 53/100\n",
      "24/24 [==============================] - 5s 199ms/step - loss: 2.3740e-05 - val_loss: 0.0011\n",
      "Epoch 54/100\n",
      "24/24 [==============================] - 5s 210ms/step - loss: 2.2916e-05 - val_loss: 9.6088e-04\n",
      "Epoch 55/100\n",
      "24/24 [==============================] - 4s 173ms/step - loss: 2.3718e-05 - val_loss: 6.1070e-04\n",
      "Epoch 56/100\n",
      "24/24 [==============================] - 4s 170ms/step - loss: 2.4100e-05 - val_loss: 0.0013\n",
      "Epoch 57/100\n",
      "24/24 [==============================] - 4s 172ms/step - loss: 2.5781e-05 - val_loss: 0.0014\n",
      "Epoch 58/100\n",
      "24/24 [==============================] - 4s 166ms/step - loss: 2.3059e-05 - val_loss: 5.4355e-04\n",
      "Epoch 59/100\n",
      "24/24 [==============================] - 4s 173ms/step - loss: 2.1196e-05 - val_loss: 8.9140e-04\n",
      "Epoch 60/100\n",
      "24/24 [==============================] - 5s 221ms/step - loss: 2.1729e-05 - val_loss: 0.0010\n",
      "Epoch 61/100\n",
      "24/24 [==============================] - 5s 202ms/step - loss: 2.1495e-05 - val_loss: 0.0014\n",
      "Epoch 62/100\n",
      "24/24 [==============================] - 4s 181ms/step - loss: 2.4144e-05 - val_loss: 0.0012\n",
      "Epoch 63/100\n",
      "24/24 [==============================] - 4s 181ms/step - loss: 2.3988e-05 - val_loss: 9.9881e-04\n",
      "Epoch 64/100\n",
      "24/24 [==============================] - 4s 189ms/step - loss: 2.5227e-05 - val_loss: 8.0688e-04\n",
      "Epoch 65/100\n",
      "24/24 [==============================] - 4s 180ms/step - loss: 2.0225e-05 - val_loss: 0.0011\n",
      "Epoch 66/100\n",
      "24/24 [==============================] - 4s 188ms/step - loss: 2.2401e-05 - val_loss: 5.8099e-04\n",
      "Epoch 67/100\n",
      "24/24 [==============================] - 5s 213ms/step - loss: 2.5785e-05 - val_loss: 4.5034e-04\n",
      "Epoch 68/100\n",
      "24/24 [==============================] - 5s 188ms/step - loss: 2.0575e-05 - val_loss: 4.6758e-04\n",
      "Epoch 69/100\n",
      "24/24 [==============================] - 5s 194ms/step - loss: 2.0407e-05 - val_loss: 7.8724e-04\n",
      "Epoch 70/100\n",
      "24/24 [==============================] - 4s 181ms/step - loss: 2.1258e-05 - val_loss: 0.0013\n",
      "Epoch 71/100\n",
      "24/24 [==============================] - 5s 208ms/step - loss: 3.1399e-05 - val_loss: 5.5200e-04\n",
      "Epoch 72/100\n",
      "24/24 [==============================] - 4s 180ms/step - loss: 2.4517e-05 - val_loss: 5.0918e-04\n",
      "Epoch 73/100\n",
      "24/24 [==============================] - 4s 182ms/step - loss: 1.8663e-05 - val_loss: 4.5980e-04\n",
      "Epoch 74/100\n",
      "24/24 [==============================] - 4s 188ms/step - loss: 2.1037e-05 - val_loss: 7.7270e-04\n",
      "Epoch 75/100\n",
      "24/24 [==============================] - 4s 165ms/step - loss: 1.8731e-05 - val_loss: 5.2944e-04\n",
      "Epoch 76/100\n",
      "24/24 [==============================] - 4s 173ms/step - loss: 1.7199e-05 - val_loss: 0.0010\n",
      "Epoch 77/100\n",
      "24/24 [==============================] - 4s 170ms/step - loss: 1.7990e-05 - val_loss: 7.1523e-04\n",
      "Epoch 78/100\n",
      "24/24 [==============================] - 5s 205ms/step - loss: 1.6841e-05 - val_loss: 0.0011\n",
      "Epoch 79/100\n",
      "24/24 [==============================] - 5s 212ms/step - loss: 1.8084e-05 - val_loss: 6.7854e-04\n",
      "Epoch 80/100\n",
      "24/24 [==============================] - 5s 221ms/step - loss: 1.7423e-05 - val_loss: 8.5460e-04\n",
      "Epoch 81/100\n",
      "24/24 [==============================] - 6s 250ms/step - loss: 1.7458e-05 - val_loss: 4.6029e-04\n",
      "Epoch 82/100\n",
      "24/24 [==============================] - 5s 195ms/step - loss: 1.6400e-05 - val_loss: 6.9998e-04\n",
      "Epoch 83/100\n",
      "24/24 [==============================] - 5s 222ms/step - loss: 1.7674e-05 - val_loss: 6.2056e-04\n",
      "Epoch 84/100\n",
      "24/24 [==============================] - 5s 225ms/step - loss: 1.7512e-05 - val_loss: 8.6944e-04\n",
      "Epoch 85/100\n",
      "24/24 [==============================] - 6s 239ms/step - loss: 1.5920e-05 - val_loss: 6.4602e-04\n",
      "Epoch 86/100\n",
      "24/24 [==============================] - 6s 242ms/step - loss: 1.8131e-05 - val_loss: 5.6294e-04\n",
      "Epoch 87/100\n",
      "24/24 [==============================] - 6s 244ms/step - loss: 1.7779e-05 - val_loss: 3.8666e-04\n",
      "Epoch 88/100\n",
      "24/24 [==============================] - 4s 183ms/step - loss: 1.7728e-05 - val_loss: 5.9973e-04\n",
      "Epoch 89/100\n",
      "24/24 [==============================] - 5s 211ms/step - loss: 1.7499e-05 - val_loss: 6.5265e-04\n",
      "Epoch 90/100\n",
      "24/24 [==============================] - 5s 188ms/step - loss: 1.7529e-05 - val_loss: 4.1853e-04\n",
      "Epoch 91/100\n",
      "24/24 [==============================] - 5s 229ms/step - loss: 1.7378e-05 - val_loss: 4.5474e-04\n",
      "Epoch 92/100\n",
      "24/24 [==============================] - 4s 179ms/step - loss: 1.6924e-05 - val_loss: 4.8470e-04\n",
      "Epoch 93/100\n",
      "24/24 [==============================] - 5s 192ms/step - loss: 2.0895e-05 - val_loss: 4.2732e-04\n",
      "Epoch 94/100\n",
      "24/24 [==============================] - 5s 222ms/step - loss: 1.8563e-05 - val_loss: 3.7254e-04\n",
      "Epoch 95/100\n",
      "24/24 [==============================] - 5s 225ms/step - loss: 1.8505e-05 - val_loss: 3.2607e-04\n",
      "Epoch 96/100\n",
      "24/24 [==============================] - 5s 221ms/step - loss: 1.5085e-05 - val_loss: 3.0371e-04\n",
      "Epoch 97/100\n",
      "24/24 [==============================] - 6s 244ms/step - loss: 1.5798e-05 - val_loss: 6.0090e-04\n",
      "Epoch 98/100\n",
      "24/24 [==============================] - 5s 194ms/step - loss: 1.4733e-05 - val_loss: 4.5079e-04\n",
      "Epoch 99/100\n",
      "24/24 [==============================] - 5s 226ms/step - loss: 1.4973e-05 - val_loss: 3.2767e-04\n",
      "Epoch 100/100\n",
      "24/24 [==============================] - 5s 217ms/step - loss: 1.4510e-05 - val_loss: 3.8971e-04\n"
     ]
    },
    {
     "data": {
      "text/plain": [
       "<keras.callbacks.History at 0x2a0b1a112e0>"
      ]
     },
     "execution_count": 79,
     "metadata": {},
     "output_type": "execute_result"
    }
   ],
   "source": [
    "model.fit(X_train_open,y_train_open,validation_data=(X_test_open,ytest_open),epochs=100,batch_size=64,verbose=1)"
   ]
  },
  {
   "cell_type": "code",
   "execution_count": 82,
   "id": "edb39f81",
   "metadata": {},
   "outputs": [
    {
     "name": "stdout",
     "output_type": "stream",
     "text": [
      "48/48 [==============================] - 3s 42ms/step\n",
      "24/24 [==============================] - 1s 38ms/step\n"
     ]
    }
   ],
   "source": [
    "### Lets Do the prediction and check performance metrics\n",
    "train_predict_open=model.predict(X_train_open)\n",
    "test_predict_open=model.predict(X_test_open)"
   ]
  },
  {
   "cell_type": "code",
   "execution_count": 83,
   "id": "a9b7d271",
   "metadata": {},
   "outputs": [],
   "source": [
    "##Transformback to original form\n",
    "train_predict_open=scaler.inverse_transform(train_predict_open)\n",
    "test_predict_open=scaler.inverse_transform(test_predict_open)"
   ]
  },
  {
   "cell_type": "code",
   "execution_count": 84,
   "id": "776a0b82",
   "metadata": {},
   "outputs": [
    {
     "data": {
      "text/plain": [
       "437.13965457467106"
      ]
     },
     "execution_count": 84,
     "metadata": {},
     "output_type": "execute_result"
    }
   ],
   "source": [
    "### Calculate RMSE performance metrics\n",
    "import math\n",
    "from sklearn.metrics import mean_squared_error\n",
    "math.sqrt(mean_squared_error(y_train_open,train_predict_open))"
   ]
  },
  {
   "cell_type": "code",
   "execution_count": 85,
   "id": "7b2b1db9",
   "metadata": {},
   "outputs": [
    {
     "data": {
      "text/plain": [
       "1775.9812981205405"
      ]
     },
     "execution_count": 85,
     "metadata": {},
     "output_type": "execute_result"
    }
   ],
   "source": [
    "### Test Data RMSE\n",
    "math.sqrt(mean_squared_error(ytest_open,test_predict_open))"
   ]
  },
  {
   "cell_type": "code",
   "execution_count": 86,
   "id": "b73f3426",
   "metadata": {},
   "outputs": [
    {
     "data": {
      "image/png": "[encoded data removed]",
      "text/plain": [
       "<Figure size 432x288 with 1 Axes>"
      ]
     },
     "metadata": {
      "needs_background": "light"
     },
     "output_type": "display_data"
    }
   ],
   "source": [
    "### Plotting \n",
    "# shift train predictions for plotting\n",
    "look_back=100\n",
    "trainPredictPlot_open = numpy.empty_like(df2)\n",
    "trainPredictPlot_open[:, :] = np.nan\n",
    "trainPredictPlot_open[look_back:len(train_predict_open)+look_back, :] = train_predict_open\n",
    "# shift test predictions for plotting\n",
    "testPredictPlot_open = numpy.empty_like(df2)\n",
    "testPredictPlot_open[:, :] = numpy.nan\n",
    "testPredictPlot_open[len(train_predict_open)+(look_back*2)+1:len(df2)-1, :] = test_predict_open\n",
    "# plot baseline and predictions\n",
    "plt.plot(scaler.inverse_transform(df2))\n",
    "plt.plot(trainPredictPlot_open)\n",
    "plt.plot(testPredictPlot_open)\n",
    "plt.show()"
   ]
  },
  {
   "cell_type": "code",
   "execution_count": 89,
   "id": "57499690",
   "metadata": {},
   "outputs": [
    {
     "data": {
      "text/plain": [
       "866"
      ]
     },
     "execution_count": 89,
     "metadata": {},
     "output_type": "execute_result"
    }
   ],
   "source": [
    "len(test_data_open)\n"
   ]
  },
  {
   "cell_type": "code",
   "execution_count": 92,
   "id": "d420e653",
   "metadata": {},
   "outputs": [
    {
     "data": {
      "text/plain": [
       "(1, 100)"
      ]
     },
     "execution_count": 92,
     "metadata": {},
     "output_type": "execute_result"
    }
   ],
   "source": [
    "x_input_open=test_data_open[766:].reshape(1,-1)\n",
    "x_input_open.shape"
   ]
  },
  {
   "cell_type": "code",
   "execution_count": 93,
   "id": "b0b8f3e2",
   "metadata": {},
   "outputs": [
    {
     "data": {
      "text/plain": [
       "array([[0.57986823, 0.56990773, 0.56386549, 0.57319557, 0.57059957,\n",
       "        0.58402247, 0.57387771, 0.5637491 , 0.56682357, 0.57485727,\n",
       "        0.60107913, 0.60233672, 0.60986933, 0.60847919, 0.66035717,\n",
       "        0.67885246, 0.70740523, 0.71591739, 0.72161372, 0.73023257,\n",
       "        0.71484085, 0.7248563 , 0.73035866, 0.73882879, 0.71584304,\n",
       "        0.70223586, 0.73127679, 0.70443098, 0.67843218, 0.7054655 ,\n",
       "        0.70205158, 0.71670945, 0.71585597, 0.71668359, 0.72869372,\n",
       "        0.71412961, 0.71225778, 0.71468567, 0.72626907, 0.73450644,\n",
       "        0.75003718, 0.75719154, 0.74264682, 0.74361345, 0.72647597,\n",
       "        0.71979685, 0.73001597, 0.74038057, 0.74652304, 0.74684956,\n",
       "        0.74989493, 0.7392523 , 0.75725619, 0.76670913, 0.80406825,\n",
       "        0.79065181, 0.78991148, 0.76579099, 0.79598606, 0.80487647,\n",
       "        0.80471806, 0.81476261, 0.81683812, 0.83026102, 0.84771209,\n",
       "        0.83463511, 0.84611505, 0.81861943, 0.81702239, 0.84059653,\n",
       "        0.8903893 , 0.89781199, 0.93776388, 0.92614492, 0.95633353,\n",
       "        0.98082904, 1.        , 0.94760799, 0.94477276, 0.90947944,\n",
       "        0.92174498, 0.91890005, 0.99399655, 0.95924635, 0.95060487,\n",
       "        0.89620525, 0.93887923, 0.93638021, 0.92885407, 0.92336142,\n",
       "        0.99771759, 0.97719205, 0.95155534, 0.96531446, 0.98166959,\n",
       "        0.99125507, 0.97389452, 0.95543156, 0.95375046, 0.97799381]])"
      ]
     },
     "execution_count": 93,
     "metadata": {},
     "output_type": "execute_result"
    }
   ],
   "source": [
    "x_input_open"
   ]
  },
  {
   "cell_type": "code",
   "execution_count": 94,
   "id": "0e056afa",
   "metadata": {},
   "outputs": [],
   "source": [
    "temp_input_open=list(x_input_open)\n",
    "temp_input_open=temp_input_open[0].tolist()"
   ]
  },
  {
   "cell_type": "code",
   "execution_count": 95,
   "id": "e59a06f7",
   "metadata": {},
   "outputs": [
    {
     "data": {
      "text/plain": [
       "[0.5798682279307648,\n",
       " 0.5699077336885188,\n",
       " 0.5638654864510122,\n",
       " 0.573195569665268,\n",
       " 0.5705995693807747,\n",
       " 0.5840224749613672,\n",
       " 0.5738777067263241,\n",
       " 0.5637491028766141,\n",
       " 0.5668235689669665,\n",
       " 0.574857268477509,\n",
       " 0.6010791343648366,\n",
       " 0.6023367235437506,\n",
       " 0.6098693271089674,\n",
       " 0.6084791899703222,\n",
       " 0.6603571682583198,\n",
       " 0.6788524579564338,\n",
       " 0.7074052282087921,\n",
       " 0.7159173935251939,\n",
       " 0.7216137229165723,\n",
       " 0.7302325731761725,\n",
       " 0.7148408454620105,\n",
       " 0.7248562986143889,\n",
       " 0.7303586553817705,\n",
       " 0.7388287932963061,\n",
       " 0.7158430373526616,\n",
       " 0.7022358577792722,\n",
       " 0.7312767924686897,\n",
       " 0.7044309813075049,\n",
       " 0.6784321839377737,\n",
       " 0.7054655019688222,\n",
       " 0.702051583786475,\n",
       " 0.7167094484065151,\n",
       " 0.7158559688609281,\n",
       " 0.716683585389982,\n",
       " 0.7286937236924629,\n",
       " 0.714129612507355,\n",
       " 0.7122577766857838,\n",
       " 0.7146856673628129,\n",
       " 0.7262690658925004,\n",
       " 0.7345064366582397,\n",
       " 0.7500371780862661,\n",
       " 0.7571915350346888,\n",
       " 0.7426468211119805,\n",
       " 0.7436134513548989,\n",
       " 0.7264759700247638,\n",
       " 0.7197968460051338,\n",
       " 0.7300159704127092,\n",
       " 0.7403805742882822,\n",
       " 0.7465230407148539,\n",
       " 0.7468495612985822,\n",
       " 0.7498949314953349,\n",
       " 0.739252300192033,\n",
       " 0.7572561925760211,\n",
       " 0.7667091251188083,\n",
       " 0.8040682525006305,\n",
       " 0.7906518126741713,\n",
       " 0.7899114838259161,\n",
       " 0.7657909880318892,\n",
       " 0.7959860598340888,\n",
       " 0.8048764717672846,\n",
       " 0.8047180607910205,\n",
       " 0.8147626098369984,\n",
       " 0.8168381169137663,\n",
       " 0.8302610224943587,\n",
       " 0.8477120928999554,\n",
       " 0.8346351051654911,\n",
       " 0.8461150516290468,\n",
       " 0.8186194321774721,\n",
       " 0.8170223909065635,\n",
       " 0.8405965304763321,\n",
       " 0.8903893030563621,\n",
       " 0.8978119888013139,\n",
       " 0.9377638835905627,\n",
       " 0.9261449234131425,\n",
       " 0.9563335294612086,\n",
       " 0.9808290389949633,\n",
       " 1.0000000000000002,\n",
       " 0.9476079942584105,\n",
       " 0.9447727610709876,\n",
       " 0.9094794421347334,\n",
       " 0.9217449777254771,\n",
       " 0.9189000459068544,\n",
       " 0.9939965472872928,\n",
       " 0.9592463516982305,\n",
       " 0.950604871299164,\n",
       " 0.8962052488992055,\n",
       " 0.9388792261785455,\n",
       " 0.9363802122060507,\n",
       " 0.928854074394967,\n",
       " 0.9233614162587854,\n",
       " 0.9977175887909687,\n",
       " 0.9771920522950196,\n",
       " 0.9515553371567494,\n",
       " 0.9653144619522699,\n",
       " 0.9816695870322837,\n",
       " 0.9912550675348021,\n",
       " 0.9738945176870705,\n",
       " 0.9554315567596227,\n",
       " 0.9537504606849821,\n",
       " 0.9779938058075405]"
      ]
     },
     "execution_count": 95,
     "metadata": {},
     "output_type": "execute_result"
    }
   ],
   "source": [
    "temp_input_open"
   ]
  },
  {
   "cell_type": "code",
   "execution_count": 96,
   "id": "5008c229",
   "metadata": {},
   "outputs": [
    {
     "name": "stdout",
     "output_type": "stream",
     "text": [
      "[0.93007326]\n",
      "101\n",
      "1 day input [0.56990773 0.56386549 0.57319557 0.57059957 0.58402247 0.57387771\n",
      " 0.5637491  0.56682357 0.57485727 0.60107913 0.60233672 0.60986933\n",
      " 0.60847919 0.66035717 0.67885246 0.70740523 0.71591739 0.72161372\n",
      " 0.73023257 0.71484085 0.7248563  0.73035866 0.73882879 0.71584304\n",
      " 0.70223586 0.73127679 0.70443098 0.67843218 0.7054655  0.70205158\n",
      " 0.71670945 0.71585597 0.71668359 0.72869372 0.71412961 0.71225778\n",
      " 0.71468567 0.72626907 0.73450644 0.75003718 0.75719154 0.74264682\n",
      " 0.74361345 0.72647597 0.71979685 0.73001597 0.74038057 0.74652304\n",
      " 0.74684956 0.74989493 0.7392523  0.75725619 0.76670913 0.80406825\n",
      " 0.79065181 0.78991148 0.76579099 0.79598606 0.80487647 0.80471806\n",
      " 0.81476261 0.81683812 0.83026102 0.84771209 0.83463511 0.84611505\n",
      " 0.81861943 0.81702239 0.84059653 0.8903893  0.89781199 0.93776388\n",
      " 0.92614492 0.95633353 0.98082904 1.         0.94760799 0.94477276\n",
      " 0.90947944 0.92174498 0.91890005 0.99399655 0.95924635 0.95060487\n",
      " 0.89620525 0.93887923 0.93638021 0.92885407 0.92336142 0.99771759\n",
      " 0.97719205 0.95155534 0.96531446 0.98166959 0.99125507 0.97389452\n",
      " 0.95543156 0.95375046 0.97799381 0.93007326]\n",
      "1 day output [[0.92191005]]\n",
      "2 day input [0.56386549 0.57319557 0.57059957 0.58402247 0.57387771 0.5637491\n",
      " 0.56682357 0.57485727 0.60107913 0.60233672 0.60986933 0.60847919\n",
      " 0.66035717 0.67885246 0.70740523 0.71591739 0.72161372 0.73023257\n",
      " 0.71484085 0.7248563  0.73035866 0.73882879 0.71584304 0.70223586\n",
      " 0.73127679 0.70443098 0.67843218 0.7054655  0.70205158 0.71670945\n",
      " 0.71585597 0.71668359 0.72869372 0.71412961 0.71225778 0.71468567\n",
      " 0.72626907 0.73450644 0.75003718 0.75719154 0.74264682 0.74361345\n",
      " 0.72647597 0.71979685 0.73001597 0.74038057 0.74652304 0.74684956\n",
      " 0.74989493 0.7392523  0.75725619 0.76670913 0.80406825 0.79065181\n",
      " 0.78991148 0.76579099 0.79598606 0.80487647 0.80471806 0.81476261\n",
      " 0.81683812 0.83026102 0.84771209 0.83463511 0.84611505 0.81861943\n",
      " 0.81702239 0.84059653 0.8903893  0.89781199 0.93776388 0.92614492\n",
      " 0.95633353 0.98082904 1.         0.94760799 0.94477276 0.90947944\n",
      " 0.92174498 0.91890005 0.99399655 0.95924635 0.95060487 0.89620525\n",
      " 0.93887923 0.93638021 0.92885407 0.92336142 0.99771759 0.97719205\n",
      " 0.95155534 0.96531446 0.98166959 0.99125507 0.97389452 0.95543156\n",
      " 0.95375046 0.97799381 0.93007326 0.92191005]\n",
      "2 day output [[0.90982807]]\n",
      "3 day input [0.57319557 0.57059957 0.58402247 0.57387771 0.5637491  0.56682357\n",
      " 0.57485727 0.60107913 0.60233672 0.60986933 0.60847919 0.66035717\n",
      " 0.67885246 0.70740523 0.71591739 0.72161372 0.73023257 0.71484085\n",
      " 0.7248563  0.73035866 0.73882879 0.71584304 0.70223586 0.73127679\n",
      " 0.70443098 0.67843218 0.7054655  0.70205158 0.71670945 0.71585597\n",
      " 0.71668359 0.72869372 0.71412961 0.71225778 0.71468567 0.72626907\n",
      " 0.73450644 0.75003718 0.75719154 0.74264682 0.74361345 0.72647597\n",
      " 0.71979685 0.73001597 0.74038057 0.74652304 0.74684956 0.74989493\n",
      " 0.7392523  0.75725619 0.76670913 0.80406825 0.79065181 0.78991148\n",
      " 0.76579099 0.79598606 0.80487647 0.80471806 0.81476261 0.81683812\n",
      " 0.83026102 0.84771209 0.83463511 0.84611505 0.81861943 0.81702239\n",
      " 0.84059653 0.8903893  0.89781199 0.93776388 0.92614492 0.95633353\n",
      " 0.98082904 1.         0.94760799 0.94477276 0.90947944 0.92174498\n",
      " 0.91890005 0.99399655 0.95924635 0.95060487 0.89620525 0.93887923\n",
      " 0.93638021 0.92885407 0.92336142 0.99771759 0.97719205 0.95155534\n",
      " 0.96531446 0.98166959 0.99125507 0.97389452 0.95543156 0.95375046\n",
      " 0.97799381 0.93007326 0.92191005 0.90982807]\n",
      "3 day output [[0.8961947]]\n",
      "4 day input [0.57059957 0.58402247 0.57387771 0.5637491  0.56682357 0.57485727\n",
      " 0.60107913 0.60233672 0.60986933 0.60847919 0.66035717 0.67885246\n",
      " 0.70740523 0.71591739 0.72161372 0.73023257 0.71484085 0.7248563\n",
      " 0.73035866 0.73882879 0.71584304 0.70223586 0.73127679 0.70443098\n",
      " 0.67843218 0.7054655  0.70205158 0.71670945 0.71585597 0.71668359\n",
      " 0.72869372 0.71412961 0.71225778 0.71468567 0.72626907 0.73450644\n",
      " 0.75003718 0.75719154 0.74264682 0.74361345 0.72647597 0.71979685\n",
      " 0.73001597 0.74038057 0.74652304 0.74684956 0.74989493 0.7392523\n",
      " 0.75725619 0.76670913 0.80406825 0.79065181 0.78991148 0.76579099\n",
      " 0.79598606 0.80487647 0.80471806 0.81476261 0.81683812 0.83026102\n",
      " 0.84771209 0.83463511 0.84611505 0.81861943 0.81702239 0.84059653\n",
      " 0.8903893  0.89781199 0.93776388 0.92614492 0.95633353 0.98082904\n",
      " 1.         0.94760799 0.94477276 0.90947944 0.92174498 0.91890005\n",
      " 0.99399655 0.95924635 0.95060487 0.89620525 0.93887923 0.93638021\n",
      " 0.92885407 0.92336142 0.99771759 0.97719205 0.95155534 0.96531446\n",
      " 0.98166959 0.99125507 0.97389452 0.95543156 0.95375046 0.97799381\n",
      " 0.93007326 0.92191005 0.90982807 0.8961947 ]\n",
      "4 day output [[0.8824898]]\n",
      "5 day input [0.58402247 0.57387771 0.5637491  0.56682357 0.57485727 0.60107913\n",
      " 0.60233672 0.60986933 0.60847919 0.66035717 0.67885246 0.70740523\n",
      " 0.71591739 0.72161372 0.73023257 0.71484085 0.7248563  0.73035866\n",
      " 0.73882879 0.71584304 0.70223586 0.73127679 0.70443098 0.67843218\n",
      " 0.7054655  0.70205158 0.71670945 0.71585597 0.71668359 0.72869372\n",
      " 0.71412961 0.71225778 0.71468567 0.72626907 0.73450644 0.75003718\n",
      " 0.75719154 0.74264682 0.74361345 0.72647597 0.71979685 0.73001597\n",
      " 0.74038057 0.74652304 0.74684956 0.74989493 0.7392523  0.75725619\n",
      " 0.76670913 0.80406825 0.79065181 0.78991148 0.76579099 0.79598606\n",
      " 0.80487647 0.80471806 0.81476261 0.81683812 0.83026102 0.84771209\n",
      " 0.83463511 0.84611505 0.81861943 0.81702239 0.84059653 0.8903893\n",
      " 0.89781199 0.93776388 0.92614492 0.95633353 0.98082904 1.\n",
      " 0.94760799 0.94477276 0.90947944 0.92174498 0.91890005 0.99399655\n",
      " 0.95924635 0.95060487 0.89620525 0.93887923 0.93638021 0.92885407\n",
      " 0.92336142 0.99771759 0.97719205 0.95155534 0.96531446 0.98166959\n",
      " 0.99125507 0.97389452 0.95543156 0.95375046 0.97799381 0.93007326\n",
      " 0.92191005 0.90982807 0.8961947  0.8824898 ]\n",
      "5 day output [[0.869393]]\n",
      "6 day input [0.57387771 0.5637491  0.56682357 0.57485727 0.60107913 0.60233672\n",
      " 0.60986933 0.60847919 0.66035717 0.67885246 0.70740523 0.71591739\n",
      " 0.72161372 0.73023257 0.71484085 0.7248563  0.73035866 0.73882879\n",
      " 0.71584304 0.70223586 0.73127679 0.70443098 0.67843218 0.7054655\n",
      " 0.70205158 0.71670945 0.71585597 0.71668359 0.72869372 0.71412961\n",
      " 0.71225778 0.71468567 0.72626907 0.73450644 0.75003718 0.75719154\n",
      " 0.74264682 0.74361345 0.72647597 0.71979685 0.73001597 0.74038057\n",
      " 0.74652304 0.74684956 0.74989493 0.7392523  0.75725619 0.76670913\n",
      " 0.80406825 0.79065181 0.78991148 0.76579099 0.79598606 0.80487647\n",
      " 0.80471806 0.81476261 0.81683812 0.83026102 0.84771209 0.83463511\n",
      " 0.84611505 0.81861943 0.81702239 0.84059653 0.8903893  0.89781199\n",
      " 0.93776388 0.92614492 0.95633353 0.98082904 1.         0.94760799\n",
      " 0.94477276 0.90947944 0.92174498 0.91890005 0.99399655 0.95924635\n",
      " 0.95060487 0.89620525 0.93887923 0.93638021 0.92885407 0.92336142\n",
      " 0.99771759 0.97719205 0.95155534 0.96531446 0.98166959 0.99125507\n",
      " 0.97389452 0.95543156 0.95375046 0.97799381 0.93007326 0.92191005\n",
      " 0.90982807 0.8961947  0.8824898  0.86939299]\n",
      "6 day output [[0.85713494]]\n",
      "7 day input [0.5637491  0.56682357 0.57485727 0.60107913 0.60233672 0.60986933\n",
      " 0.60847919 0.66035717 0.67885246 0.70740523 0.71591739 0.72161372\n",
      " 0.73023257 0.71484085 0.7248563  0.73035866 0.73882879 0.71584304\n",
      " 0.70223586 0.73127679 0.70443098 0.67843218 0.7054655  0.70205158\n",
      " 0.71670945 0.71585597 0.71668359 0.72869372 0.71412961 0.71225778\n",
      " 0.71468567 0.72626907 0.73450644 0.75003718 0.75719154 0.74264682\n",
      " 0.74361345 0.72647597 0.71979685 0.73001597 0.74038057 0.74652304\n",
      " 0.74684956 0.74989493 0.7392523  0.75725619 0.76670913 0.80406825\n",
      " 0.79065181 0.78991148 0.76579099 0.79598606 0.80487647 0.80471806\n",
      " 0.81476261 0.81683812 0.83026102 0.84771209 0.83463511 0.84611505\n",
      " 0.81861943 0.81702239 0.84059653 0.8903893  0.89781199 0.93776388\n",
      " 0.92614492 0.95633353 0.98082904 1.         0.94760799 0.94477276\n",
      " 0.90947944 0.92174498 0.91890005 0.99399655 0.95924635 0.95060487\n",
      " 0.89620525 0.93887923 0.93638021 0.92885407 0.92336142 0.99771759\n",
      " 0.97719205 0.95155534 0.96531446 0.98166959 0.99125507 0.97389452\n",
      " 0.95543156 0.95375046 0.97799381 0.93007326 0.92191005 0.90982807\n",
      " 0.8961947  0.8824898  0.86939299 0.85713494]\n",
      "7 day output [[0.84573233]]\n",
      "8 day input [0.56682357 0.57485727 0.60107913 0.60233672 0.60986933 0.60847919\n",
      " 0.66035717 0.67885246 0.70740523 0.71591739 0.72161372 0.73023257\n",
      " 0.71484085 0.7248563  0.73035866 0.73882879 0.71584304 0.70223586\n",
      " 0.73127679 0.70443098 0.67843218 0.7054655  0.70205158 0.71670945\n",
      " 0.71585597 0.71668359 0.72869372 0.71412961 0.71225778 0.71468567\n",
      " 0.72626907 0.73450644 0.75003718 0.75719154 0.74264682 0.74361345\n",
      " 0.72647597 0.71979685 0.73001597 0.74038057 0.74652304 0.74684956\n",
      " 0.74989493 0.7392523  0.75725619 0.76670913 0.80406825 0.79065181\n",
      " 0.78991148 0.76579099 0.79598606 0.80487647 0.80471806 0.81476261\n",
      " 0.81683812 0.83026102 0.84771209 0.83463511 0.84611505 0.81861943\n",
      " 0.81702239 0.84059653 0.8903893  0.89781199 0.93776388 0.92614492\n",
      " 0.95633353 0.98082904 1.         0.94760799 0.94477276 0.90947944\n",
      " 0.92174498 0.91890005 0.99399655 0.95924635 0.95060487 0.89620525\n",
      " 0.93887923 0.93638021 0.92885407 0.92336142 0.99771759 0.97719205\n",
      " 0.95155534 0.96531446 0.98166959 0.99125507 0.97389452 0.95543156\n",
      " 0.95375046 0.97799381 0.93007326 0.92191005 0.90982807 0.8961947\n",
      " 0.8824898  0.86939299 0.85713494 0.84573233]\n",
      "8 day output [[0.8351011]]\n",
      "9 day input [0.57485727 0.60107913 0.60233672 0.60986933 0.60847919 0.66035717\n",
      " 0.67885246 0.70740523 0.71591739 0.72161372 0.73023257 0.71484085\n",
      " 0.7248563  0.73035866 0.73882879 0.71584304 0.70223586 0.73127679\n",
      " 0.70443098 0.67843218 0.7054655  0.70205158 0.71670945 0.71585597\n",
      " 0.71668359 0.72869372 0.71412961 0.71225778 0.71468567 0.72626907\n",
      " 0.73450644 0.75003718 0.75719154 0.74264682 0.74361345 0.72647597\n",
      " 0.71979685 0.73001597 0.74038057 0.74652304 0.74684956 0.74989493\n",
      " 0.7392523  0.75725619 0.76670913 0.80406825 0.79065181 0.78991148\n",
      " 0.76579099 0.79598606 0.80487647 0.80471806 0.81476261 0.81683812\n",
      " 0.83026102 0.84771209 0.83463511 0.84611505 0.81861943 0.81702239\n",
      " 0.84059653 0.8903893  0.89781199 0.93776388 0.92614492 0.95633353\n",
      " 0.98082904 1.         0.94760799 0.94477276 0.90947944 0.92174498\n",
      " 0.91890005 0.99399655 0.95924635 0.95060487 0.89620525 0.93887923\n",
      " 0.93638021 0.92885407 0.92336142 0.99771759 0.97719205 0.95155534\n",
      " 0.96531446 0.98166959 0.99125507 0.97389452 0.95543156 0.95375046\n",
      " 0.97799381 0.93007326 0.92191005 0.90982807 0.8961947  0.8824898\n",
      " 0.86939299 0.85713494 0.84573233 0.83510113]\n",
      "9 day output [[0.8251074]]\n",
      "10 day input [0.60107913 0.60233672 0.60986933 0.60847919 0.66035717 0.67885246\n",
      " 0.70740523 0.71591739 0.72161372 0.73023257 0.71484085 0.7248563\n",
      " 0.73035866 0.73882879 0.71584304 0.70223586 0.73127679 0.70443098\n",
      " 0.67843218 0.7054655  0.70205158 0.71670945 0.71585597 0.71668359\n",
      " 0.72869372 0.71412961 0.71225778 0.71468567 0.72626907 0.73450644\n",
      " 0.75003718 0.75719154 0.74264682 0.74361345 0.72647597 0.71979685\n",
      " 0.73001597 0.74038057 0.74652304 0.74684956 0.74989493 0.7392523\n",
      " 0.75725619 0.76670913 0.80406825 0.79065181 0.78991148 0.76579099\n",
      " 0.79598606 0.80487647 0.80471806 0.81476261 0.81683812 0.83026102\n",
      " 0.84771209 0.83463511 0.84611505 0.81861943 0.81702239 0.84059653\n",
      " 0.8903893  0.89781199 0.93776388 0.92614492 0.95633353 0.98082904\n",
      " 1.         0.94760799 0.94477276 0.90947944 0.92174498 0.91890005\n",
      " 0.99399655 0.95924635 0.95060487 0.89620525 0.93887923 0.93638021\n",
      " 0.92885407 0.92336142 0.99771759 0.97719205 0.95155534 0.96531446\n",
      " 0.98166959 0.99125507 0.97389452 0.95543156 0.95375046 0.97799381\n",
      " 0.93007326 0.92191005 0.90982807 0.8961947  0.8824898  0.86939299\n",
      " 0.85713494 0.84573233 0.83510113 0.8251074 ]\n",
      "10 day output [[0.815594]]\n",
      "11 day input [0.60233672 0.60986933 0.60847919 0.66035717 0.67885246 0.70740523\n",
      " 0.71591739 0.72161372 0.73023257 0.71484085 0.7248563  0.73035866\n",
      " 0.73882879 0.71584304 0.70223586 0.73127679 0.70443098 0.67843218\n",
      " 0.7054655  0.70205158 0.71670945 0.71585597 0.71668359 0.72869372\n",
      " 0.71412961 0.71225778 0.71468567 0.72626907 0.73450644 0.75003718\n",
      " 0.75719154 0.74264682 0.74361345 0.72647597 0.71979685 0.73001597\n",
      " 0.74038057 0.74652304 0.74684956 0.74989493 0.7392523  0.75725619\n",
      " 0.76670913 0.80406825 0.79065181 0.78991148 0.76579099 0.79598606\n",
      " 0.80487647 0.80471806 0.81476261 0.81683812 0.83026102 0.84771209\n",
      " 0.83463511 0.84611505 0.81861943 0.81702239 0.84059653 0.8903893\n",
      " 0.89781199 0.93776388 0.92614492 0.95633353 0.98082904 1.\n",
      " 0.94760799 0.94477276 0.90947944 0.92174498 0.91890005 0.99399655\n",
      " 0.95924635 0.95060487 0.89620525 0.93887923 0.93638021 0.92885407\n",
      " 0.92336142 0.99771759 0.97719205 0.95155534 0.96531446 0.98166959\n",
      " 0.99125507 0.97389452 0.95543156 0.95375046 0.97799381 0.93007326\n",
      " 0.92191005 0.90982807 0.8961947  0.8824898  0.86939299 0.85713494\n",
      " 0.84573233 0.83510113 0.8251074  0.81559402]\n",
      "11 day output [[0.80640066]]\n",
      "12 day input [0.60986933 0.60847919 0.66035717 0.67885246 0.70740523 0.71591739\n",
      " 0.72161372 0.73023257 0.71484085 0.7248563  0.73035866 0.73882879\n",
      " 0.71584304 0.70223586 0.73127679 0.70443098 0.67843218 0.7054655\n",
      " 0.70205158 0.71670945 0.71585597 0.71668359 0.72869372 0.71412961\n",
      " 0.71225778 0.71468567 0.72626907 0.73450644 0.75003718 0.75719154\n",
      " 0.74264682 0.74361345 0.72647597 0.71979685 0.73001597 0.74038057\n",
      " 0.74652304 0.74684956 0.74989493 0.7392523  0.75725619 0.76670913\n",
      " 0.80406825 0.79065181 0.78991148 0.76579099 0.79598606 0.80487647\n",
      " 0.80471806 0.81476261 0.81683812 0.83026102 0.84771209 0.83463511\n",
      " 0.84611505 0.81861943 0.81702239 0.84059653 0.8903893  0.89781199\n",
      " 0.93776388 0.92614492 0.95633353 0.98082904 1.         0.94760799\n",
      " 0.94477276 0.90947944 0.92174498 0.91890005 0.99399655 0.95924635\n",
      " 0.95060487 0.89620525 0.93887923 0.93638021 0.92885407 0.92336142\n",
      " 0.99771759 0.97719205 0.95155534 0.96531446 0.98166959 0.99125507\n",
      " 0.97389452 0.95543156 0.95375046 0.97799381 0.93007326 0.92191005\n",
      " 0.90982807 0.8961947  0.8824898  0.86939299 0.85713494 0.84573233\n",
      " 0.83510113 0.8251074  0.81559402 0.80640066]\n",
      "12 day output [[0.79737896]]\n",
      "13 day input [0.60847919 0.66035717 0.67885246 0.70740523 0.71591739 0.72161372\n",
      " 0.73023257 0.71484085 0.7248563  0.73035866 0.73882879 0.71584304\n",
      " 0.70223586 0.73127679 0.70443098 0.67843218 0.7054655  0.70205158\n",
      " 0.71670945 0.71585597 0.71668359 0.72869372 0.71412961 0.71225778\n",
      " 0.71468567 0.72626907 0.73450644 0.75003718 0.75719154 0.74264682\n",
      " 0.74361345 0.72647597 0.71979685 0.73001597 0.74038057 0.74652304\n",
      " 0.74684956 0.74989493 0.7392523  0.75725619 0.76670913 0.80406825\n",
      " 0.79065181 0.78991148 0.76579099 0.79598606 0.80487647 0.80471806\n",
      " 0.81476261 0.81683812 0.83026102 0.84771209 0.83463511 0.84611505\n",
      " 0.81861943 0.81702239 0.84059653 0.8903893  0.89781199 0.93776388\n",
      " 0.92614492 0.95633353 0.98082904 1.         0.94760799 0.94477276\n",
      " 0.90947944 0.92174498 0.91890005 0.99399655 0.95924635 0.95060487\n",
      " 0.89620525 0.93887923 0.93638021 0.92885407 0.92336142 0.99771759\n",
      " 0.97719205 0.95155534 0.96531446 0.98166959 0.99125507 0.97389452\n",
      " 0.95543156 0.95375046 0.97799381 0.93007326 0.92191005 0.90982807\n",
      " 0.8961947  0.8824898  0.86939299 0.85713494 0.84573233 0.83510113\n",
      " 0.8251074  0.81559402 0.80640066 0.79737896]\n",
      "13 day output [[0.7884058]]\n",
      "14 day input [0.66035717 0.67885246 0.70740523 0.71591739 0.72161372 0.73023257\n",
      " 0.71484085 0.7248563  0.73035866 0.73882879 0.71584304 0.70223586\n",
      " 0.73127679 0.70443098 0.67843218 0.7054655  0.70205158 0.71670945\n",
      " 0.71585597 0.71668359 0.72869372 0.71412961 0.71225778 0.71468567\n",
      " 0.72626907 0.73450644 0.75003718 0.75719154 0.74264682 0.74361345\n",
      " 0.72647597 0.71979685 0.73001597 0.74038057 0.74652304 0.74684956\n",
      " 0.74989493 0.7392523  0.75725619 0.76670913 0.80406825 0.79065181\n",
      " 0.78991148 0.76579099 0.79598606 0.80487647 0.80471806 0.81476261\n",
      " 0.81683812 0.83026102 0.84771209 0.83463511 0.84611505 0.81861943\n",
      " 0.81702239 0.84059653 0.8903893  0.89781199 0.93776388 0.92614492\n",
      " 0.95633353 0.98082904 1.         0.94760799 0.94477276 0.90947944\n",
      " 0.92174498 0.91890005 0.99399655 0.95924635 0.95060487 0.89620525\n",
      " 0.93887923 0.93638021 0.92885407 0.92336142 0.99771759 0.97719205\n",
      " 0.95155534 0.96531446 0.98166959 0.99125507 0.97389452 0.95543156\n",
      " 0.95375046 0.97799381 0.93007326 0.92191005 0.90982807 0.8961947\n",
      " 0.8824898  0.86939299 0.85713494 0.84573233 0.83510113 0.8251074\n",
      " 0.81559402 0.80640066 0.79737896 0.78840578]\n",
      "14 day output [[0.7793895]]\n",
      "15 day input [0.67885246 0.70740523 0.71591739 0.72161372 0.73023257 0.71484085\n",
      " 0.7248563  0.73035866 0.73882879 0.71584304 0.70223586 0.73127679\n",
      " 0.70443098 0.67843218 0.7054655  0.70205158 0.71670945 0.71585597\n",
      " 0.71668359 0.72869372 0.71412961 0.71225778 0.71468567 0.72626907\n",
      " 0.73450644 0.75003718 0.75719154 0.74264682 0.74361345 0.72647597\n",
      " 0.71979685 0.73001597 0.74038057 0.74652304 0.74684956 0.74989493\n",
      " 0.7392523  0.75725619 0.76670913 0.80406825 0.79065181 0.78991148\n",
      " 0.76579099 0.79598606 0.80487647 0.80471806 0.81476261 0.81683812\n",
      " 0.83026102 0.84771209 0.83463511 0.84611505 0.81861943 0.81702239\n",
      " 0.84059653 0.8903893  0.89781199 0.93776388 0.92614492 0.95633353\n",
      " 0.98082904 1.         0.94760799 0.94477276 0.90947944 0.92174498\n",
      " 0.91890005 0.99399655 0.95924635 0.95060487 0.89620525 0.93887923\n",
      " 0.93638021 0.92885407 0.92336142 0.99771759 0.97719205 0.95155534\n",
      " 0.96531446 0.98166959 0.99125507 0.97389452 0.95543156 0.95375046\n",
      " 0.97799381 0.93007326 0.92191005 0.90982807 0.8961947  0.8824898\n",
      " 0.86939299 0.85713494 0.84573233 0.83510113 0.8251074  0.81559402\n",
      " 0.80640066 0.79737896 0.78840578 0.7793895 ]\n",
      "15 day output [[0.7702731]]\n",
      "16 day input [0.70740523 0.71591739 0.72161372 0.73023257 0.71484085 0.7248563\n",
      " 0.73035866 0.73882879 0.71584304 0.70223586 0.73127679 0.70443098\n",
      " 0.67843218 0.7054655  0.70205158 0.71670945 0.71585597 0.71668359\n",
      " 0.72869372 0.71412961 0.71225778 0.71468567 0.72626907 0.73450644\n",
      " 0.75003718 0.75719154 0.74264682 0.74361345 0.72647597 0.71979685\n",
      " 0.73001597 0.74038057 0.74652304 0.74684956 0.74989493 0.7392523\n",
      " 0.75725619 0.76670913 0.80406825 0.79065181 0.78991148 0.76579099\n",
      " 0.79598606 0.80487647 0.80471806 0.81476261 0.81683812 0.83026102\n",
      " 0.84771209 0.83463511 0.84611505 0.81861943 0.81702239 0.84059653\n",
      " 0.8903893  0.89781199 0.93776388 0.92614492 0.95633353 0.98082904\n",
      " 1.         0.94760799 0.94477276 0.90947944 0.92174498 0.91890005\n",
      " 0.99399655 0.95924635 0.95060487 0.89620525 0.93887923 0.93638021\n",
      " 0.92885407 0.92336142 0.99771759 0.97719205 0.95155534 0.96531446\n",
      " 0.98166959 0.99125507 0.97389452 0.95543156 0.95375046 0.97799381\n",
      " 0.93007326 0.92191005 0.90982807 0.8961947  0.8824898  0.86939299\n",
      " 0.85713494 0.84573233 0.83510113 0.8251074  0.81559402 0.80640066\n",
      " 0.79737896 0.78840578 0.7793895  0.77027309]\n",
      "16 day output [[0.7610328]]\n",
      "17 day input [0.71591739 0.72161372 0.73023257 0.71484085 0.7248563  0.73035866\n",
      " 0.73882879 0.71584304 0.70223586 0.73127679 0.70443098 0.67843218\n",
      " 0.7054655  0.70205158 0.71670945 0.71585597 0.71668359 0.72869372\n",
      " 0.71412961 0.71225778 0.71468567 0.72626907 0.73450644 0.75003718\n",
      " 0.75719154 0.74264682 0.74361345 0.72647597 0.71979685 0.73001597\n",
      " 0.74038057 0.74652304 0.74684956 0.74989493 0.7392523  0.75725619\n",
      " 0.76670913 0.80406825 0.79065181 0.78991148 0.76579099 0.79598606\n",
      " 0.80487647 0.80471806 0.81476261 0.81683812 0.83026102 0.84771209\n",
      " 0.83463511 0.84611505 0.81861943 0.81702239 0.84059653 0.8903893\n",
      " 0.89781199 0.93776388 0.92614492 0.95633353 0.98082904 1.\n",
      " 0.94760799 0.94477276 0.90947944 0.92174498 0.91890005 0.99399655\n",
      " 0.95924635 0.95060487 0.89620525 0.93887923 0.93638021 0.92885407\n",
      " 0.92336142 0.99771759 0.97719205 0.95155534 0.96531446 0.98166959\n",
      " 0.99125507 0.97389452 0.95543156 0.95375046 0.97799381 0.93007326\n",
      " 0.92191005 0.90982807 0.8961947  0.8824898  0.86939299 0.85713494\n",
      " 0.84573233 0.83510113 0.8251074  0.81559402 0.80640066 0.79737896\n",
      " 0.78840578 0.7793895  0.77027309 0.76103282]\n",
      "17 day output [[0.7516741]]\n",
      "18 day input [0.72161372 0.73023257 0.71484085 0.7248563  0.73035866 0.73882879\n",
      " 0.71584304 0.70223586 0.73127679 0.70443098 0.67843218 0.7054655\n",
      " 0.70205158 0.71670945 0.71585597 0.71668359 0.72869372 0.71412961\n",
      " 0.71225778 0.71468567 0.72626907 0.73450644 0.75003718 0.75719154\n",
      " 0.74264682 0.74361345 0.72647597 0.71979685 0.73001597 0.74038057\n",
      " 0.74652304 0.74684956 0.74989493 0.7392523  0.75725619 0.76670913\n",
      " 0.80406825 0.79065181 0.78991148 0.76579099 0.79598606 0.80487647\n",
      " 0.80471806 0.81476261 0.81683812 0.83026102 0.84771209 0.83463511\n",
      " 0.84611505 0.81861943 0.81702239 0.84059653 0.8903893  0.89781199\n",
      " 0.93776388 0.92614492 0.95633353 0.98082904 1.         0.94760799\n",
      " 0.94477276 0.90947944 0.92174498 0.91890005 0.99399655 0.95924635\n",
      " 0.95060487 0.89620525 0.93887923 0.93638021 0.92885407 0.92336142\n",
      " 0.99771759 0.97719205 0.95155534 0.96531446 0.98166959 0.99125507\n",
      " 0.97389452 0.95543156 0.95375046 0.97799381 0.93007326 0.92191005\n",
      " 0.90982807 0.8961947  0.8824898  0.86939299 0.85713494 0.84573233\n",
      " 0.83510113 0.8251074  0.81559402 0.80640066 0.79737896 0.78840578\n",
      " 0.7793895  0.77027309 0.76103282 0.75167412]\n",
      "18 day output [[0.7422256]]\n",
      "19 day input [0.73023257 0.71484085 0.7248563  0.73035866 0.73882879 0.71584304\n",
      " 0.70223586 0.73127679 0.70443098 0.67843218 0.7054655  0.70205158\n",
      " 0.71670945 0.71585597 0.71668359 0.72869372 0.71412961 0.71225778\n",
      " 0.71468567 0.72626907 0.73450644 0.75003718 0.75719154 0.74264682\n",
      " 0.74361345 0.72647597 0.71979685 0.73001597 0.74038057 0.74652304\n",
      " 0.74684956 0.74989493 0.7392523  0.75725619 0.76670913 0.80406825\n",
      " 0.79065181 0.78991148 0.76579099 0.79598606 0.80487647 0.80471806\n",
      " 0.81476261 0.81683812 0.83026102 0.84771209 0.83463511 0.84611505\n",
      " 0.81861943 0.81702239 0.84059653 0.8903893  0.89781199 0.93776388\n",
      " 0.92614492 0.95633353 0.98082904 1.         0.94760799 0.94477276\n",
      " 0.90947944 0.92174498 0.91890005 0.99399655 0.95924635 0.95060487\n",
      " 0.89620525 0.93887923 0.93638021 0.92885407 0.92336142 0.99771759\n",
      " 0.97719205 0.95155534 0.96531446 0.98166959 0.99125507 0.97389452\n",
      " 0.95543156 0.95375046 0.97799381 0.93007326 0.92191005 0.90982807\n",
      " 0.8961947  0.8824898  0.86939299 0.85713494 0.84573233 0.83510113\n",
      " 0.8251074  0.81559402 0.80640066 0.79737896 0.78840578 0.7793895\n",
      " 0.77027309 0.76103282 0.75167412 0.74222559]\n",
      "19 day output [[0.7327316]]\n",
      "20 day input [0.71484085 0.7248563  0.73035866 0.73882879 0.71584304 0.70223586\n",
      " 0.73127679 0.70443098 0.67843218 0.7054655  0.70205158 0.71670945\n",
      " 0.71585597 0.71668359 0.72869372 0.71412961 0.71225778 0.71468567\n",
      " 0.72626907 0.73450644 0.75003718 0.75719154 0.74264682 0.74361345\n",
      " 0.72647597 0.71979685 0.73001597 0.74038057 0.74652304 0.74684956\n",
      " 0.74989493 0.7392523  0.75725619 0.76670913 0.80406825 0.79065181\n",
      " 0.78991148 0.76579099 0.79598606 0.80487647 0.80471806 0.81476261\n",
      " 0.81683812 0.83026102 0.84771209 0.83463511 0.84611505 0.81861943\n",
      " 0.81702239 0.84059653 0.8903893  0.89781199 0.93776388 0.92614492\n",
      " 0.95633353 0.98082904 1.         0.94760799 0.94477276 0.90947944\n",
      " 0.92174498 0.91890005 0.99399655 0.95924635 0.95060487 0.89620525\n",
      " 0.93887923 0.93638021 0.92885407 0.92336142 0.99771759 0.97719205\n",
      " 0.95155534 0.96531446 0.98166959 0.99125507 0.97389452 0.95543156\n",
      " 0.95375046 0.97799381 0.93007326 0.92191005 0.90982807 0.8961947\n",
      " 0.8824898  0.86939299 0.85713494 0.84573233 0.83510113 0.8251074\n",
      " 0.81559402 0.80640066 0.79737896 0.78840578 0.7793895  0.77027309\n",
      " 0.76103282 0.75167412 0.74222559 0.73273158]\n",
      "20 day output [[0.7232448]]\n",
      "21 day input [0.7248563  0.73035866 0.73882879 0.71584304 0.70223586 0.73127679\n",
      " 0.70443098 0.67843218 0.7054655  0.70205158 0.71670945 0.71585597\n",
      " 0.71668359 0.72869372 0.71412961 0.71225778 0.71468567 0.72626907\n",
      " 0.73450644 0.75003718 0.75719154 0.74264682 0.74361345 0.72647597\n",
      " 0.71979685 0.73001597 0.74038057 0.74652304 0.74684956 0.74989493\n",
      " 0.7392523  0.75725619 0.76670913 0.80406825 0.79065181 0.78991148\n",
      " 0.76579099 0.79598606 0.80487647 0.80471806 0.81476261 0.81683812\n",
      " 0.83026102 0.84771209 0.83463511 0.84611505 0.81861943 0.81702239\n",
      " 0.84059653 0.8903893  0.89781199 0.93776388 0.92614492 0.95633353\n",
      " 0.98082904 1.         0.94760799 0.94477276 0.90947944 0.92174498\n",
      " 0.91890005 0.99399655 0.95924635 0.95060487 0.89620525 0.93887923\n",
      " 0.93638021 0.92885407 0.92336142 0.99771759 0.97719205 0.95155534\n",
      " 0.96531446 0.98166959 0.99125507 0.97389452 0.95543156 0.95375046\n",
      " 0.97799381 0.93007326 0.92191005 0.90982807 0.8961947  0.8824898\n",
      " 0.86939299 0.85713494 0.84573233 0.83510113 0.8251074  0.81559402\n",
      " 0.80640066 0.79737896 0.78840578 0.7793895  0.77027309 0.76103282\n",
      " 0.75167412 0.74222559 0.73273158 0.72324479]\n",
      "21 day output [[0.7138206]]\n",
      "22 day input [0.73035866 0.73882879 0.71584304 0.70223586 0.73127679 0.70443098\n",
      " 0.67843218 0.7054655  0.70205158 0.71670945 0.71585597 0.71668359\n",
      " 0.72869372 0.71412961 0.71225778 0.71468567 0.72626907 0.73450644\n",
      " 0.75003718 0.75719154 0.74264682 0.74361345 0.72647597 0.71979685\n",
      " 0.73001597 0.74038057 0.74652304 0.74684956 0.74989493 0.7392523\n",
      " 0.75725619 0.76670913 0.80406825 0.79065181 0.78991148 0.76579099\n",
      " 0.79598606 0.80487647 0.80471806 0.81476261 0.81683812 0.83026102\n",
      " 0.84771209 0.83463511 0.84611505 0.81861943 0.81702239 0.84059653\n",
      " 0.8903893  0.89781199 0.93776388 0.92614492 0.95633353 0.98082904\n",
      " 1.         0.94760799 0.94477276 0.90947944 0.92174498 0.91890005\n",
      " 0.99399655 0.95924635 0.95060487 0.89620525 0.93887923 0.93638021\n",
      " 0.92885407 0.92336142 0.99771759 0.97719205 0.95155534 0.96531446\n",
      " 0.98166959 0.99125507 0.97389452 0.95543156 0.95375046 0.97799381\n",
      " 0.93007326 0.92191005 0.90982807 0.8961947  0.8824898  0.86939299\n",
      " 0.85713494 0.84573233 0.83510113 0.8251074  0.81559402 0.80640066\n",
      " 0.79737896 0.78840578 0.7793895  0.77027309 0.76103282 0.75167412\n",
      " 0.74222559 0.73273158 0.72324479 0.71382058]\n",
      "22 day output [[0.70451033]]\n",
      "23 day input [0.73882879 0.71584304 0.70223586 0.73127679 0.70443098 0.67843218\n",
      " 0.7054655  0.70205158 0.71670945 0.71585597 0.71668359 0.72869372\n",
      " 0.71412961 0.71225778 0.71468567 0.72626907 0.73450644 0.75003718\n",
      " 0.75719154 0.74264682 0.74361345 0.72647597 0.71979685 0.73001597\n",
      " 0.74038057 0.74652304 0.74684956 0.74989493 0.7392523  0.75725619\n",
      " 0.76670913 0.80406825 0.79065181 0.78991148 0.76579099 0.79598606\n",
      " 0.80487647 0.80471806 0.81476261 0.81683812 0.83026102 0.84771209\n",
      " 0.83463511 0.84611505 0.81861943 0.81702239 0.84059653 0.8903893\n",
      " 0.89781199 0.93776388 0.92614492 0.95633353 0.98082904 1.\n",
      " 0.94760799 0.94477276 0.90947944 0.92174498 0.91890005 0.99399655\n",
      " 0.95924635 0.95060487 0.89620525 0.93887923 0.93638021 0.92885407\n",
      " 0.92336142 0.99771759 0.97719205 0.95155534 0.96531446 0.98166959\n",
      " 0.99125507 0.97389452 0.95543156 0.95375046 0.97799381 0.93007326\n",
      " 0.92191005 0.90982807 0.8961947  0.8824898  0.86939299 0.85713494\n",
      " 0.84573233 0.83510113 0.8251074  0.81559402 0.80640066 0.79737896\n",
      " 0.78840578 0.7793895  0.77027309 0.76103282 0.75167412 0.74222559\n",
      " 0.73273158 0.72324479 0.71382058 0.70451033]\n",
      "23 day output [[0.69535905]]\n",
      "24 day input [0.71584304 0.70223586 0.73127679 0.70443098 0.67843218 0.7054655\n",
      " 0.70205158 0.71670945 0.71585597 0.71668359 0.72869372 0.71412961\n",
      " 0.71225778 0.71468567 0.72626907 0.73450644 0.75003718 0.75719154\n",
      " 0.74264682 0.74361345 0.72647597 0.71979685 0.73001597 0.74038057\n",
      " 0.74652304 0.74684956 0.74989493 0.7392523  0.75725619 0.76670913\n",
      " 0.80406825 0.79065181 0.78991148 0.76579099 0.79598606 0.80487647\n",
      " 0.80471806 0.81476261 0.81683812 0.83026102 0.84771209 0.83463511\n",
      " 0.84611505 0.81861943 0.81702239 0.84059653 0.8903893  0.89781199\n",
      " 0.93776388 0.92614492 0.95633353 0.98082904 1.         0.94760799\n",
      " 0.94477276 0.90947944 0.92174498 0.91890005 0.99399655 0.95924635\n",
      " 0.95060487 0.89620525 0.93887923 0.93638021 0.92885407 0.92336142\n",
      " 0.99771759 0.97719205 0.95155534 0.96531446 0.98166959 0.99125507\n",
      " 0.97389452 0.95543156 0.95375046 0.97799381 0.93007326 0.92191005\n",
      " 0.90982807 0.8961947  0.8824898  0.86939299 0.85713494 0.84573233\n",
      " 0.83510113 0.8251074  0.81559402 0.80640066 0.79737896 0.78840578\n",
      " 0.7793895  0.77027309 0.76103282 0.75167412 0.74222559 0.73273158\n",
      " 0.72324479 0.71382058 0.70451033 0.69535905]\n",
      "24 day output [[0.6864012]]\n",
      "25 day input [0.70223586 0.73127679 0.70443098 0.67843218 0.7054655  0.70205158\n",
      " 0.71670945 0.71585597 0.71668359 0.72869372 0.71412961 0.71225778\n",
      " 0.71468567 0.72626907 0.73450644 0.75003718 0.75719154 0.74264682\n",
      " 0.74361345 0.72647597 0.71979685 0.73001597 0.74038057 0.74652304\n",
      " 0.74684956 0.74989493 0.7392523  0.75725619 0.76670913 0.80406825\n",
      " 0.79065181 0.78991148 0.76579099 0.79598606 0.80487647 0.80471806\n",
      " 0.81476261 0.81683812 0.83026102 0.84771209 0.83463511 0.84611505\n",
      " 0.81861943 0.81702239 0.84059653 0.8903893  0.89781199 0.93776388\n",
      " 0.92614492 0.95633353 0.98082904 1.         0.94760799 0.94477276\n",
      " 0.90947944 0.92174498 0.91890005 0.99399655 0.95924635 0.95060487\n",
      " 0.89620525 0.93887923 0.93638021 0.92885407 0.92336142 0.99771759\n",
      " 0.97719205 0.95155534 0.96531446 0.98166959 0.99125507 0.97389452\n",
      " 0.95543156 0.95375046 0.97799381 0.93007326 0.92191005 0.90982807\n",
      " 0.8961947  0.8824898  0.86939299 0.85713494 0.84573233 0.83510113\n",
      " 0.8251074  0.81559402 0.80640066 0.79737896 0.78840578 0.7793895\n",
      " 0.77027309 0.76103282 0.75167412 0.74222559 0.73273158 0.72324479\n",
      " 0.71382058 0.70451033 0.69535905 0.68640119]\n",
      "25 day output [[0.67766076]]\n",
      "26 day input [0.73127679 0.70443098 0.67843218 0.7054655  0.70205158 0.71670945\n",
      " 0.71585597 0.71668359 0.72869372 0.71412961 0.71225778 0.71468567\n",
      " 0.72626907 0.73450644 0.75003718 0.75719154 0.74264682 0.74361345\n",
      " 0.72647597 0.71979685 0.73001597 0.74038057 0.74652304 0.74684956\n",
      " 0.74989493 0.7392523  0.75725619 0.76670913 0.80406825 0.79065181\n",
      " 0.78991148 0.76579099 0.79598606 0.80487647 0.80471806 0.81476261\n",
      " 0.81683812 0.83026102 0.84771209 0.83463511 0.84611505 0.81861943\n",
      " 0.81702239 0.84059653 0.8903893  0.89781199 0.93776388 0.92614492\n",
      " 0.95633353 0.98082904 1.         0.94760799 0.94477276 0.90947944\n",
      " 0.92174498 0.91890005 0.99399655 0.95924635 0.95060487 0.89620525\n",
      " 0.93887923 0.93638021 0.92885407 0.92336142 0.99771759 0.97719205\n",
      " 0.95155534 0.96531446 0.98166959 0.99125507 0.97389452 0.95543156\n",
      " 0.95375046 0.97799381 0.93007326 0.92191005 0.90982807 0.8961947\n",
      " 0.8824898  0.86939299 0.85713494 0.84573233 0.83510113 0.8251074\n",
      " 0.81559402 0.80640066 0.79737896 0.78840578 0.7793895  0.77027309\n",
      " 0.76103282 0.75167412 0.74222559 0.73273158 0.72324479 0.71382058\n",
      " 0.70451033 0.69535905 0.68640119 0.67766076]\n",
      "26 day output [[0.6691503]]\n",
      "27 day input [0.70443098 0.67843218 0.7054655  0.70205158 0.71670945 0.71585597\n",
      " 0.71668359 0.72869372 0.71412961 0.71225778 0.71468567 0.72626907\n",
      " 0.73450644 0.75003718 0.75719154 0.74264682 0.74361345 0.72647597\n",
      " 0.71979685 0.73001597 0.74038057 0.74652304 0.74684956 0.74989493\n",
      " 0.7392523  0.75725619 0.76670913 0.80406825 0.79065181 0.78991148\n",
      " 0.76579099 0.79598606 0.80487647 0.80471806 0.81476261 0.81683812\n",
      " 0.83026102 0.84771209 0.83463511 0.84611505 0.81861943 0.81702239\n",
      " 0.84059653 0.8903893  0.89781199 0.93776388 0.92614492 0.95633353\n",
      " 0.98082904 1.         0.94760799 0.94477276 0.90947944 0.92174498\n",
      " 0.91890005 0.99399655 0.95924635 0.95060487 0.89620525 0.93887923\n",
      " 0.93638021 0.92885407 0.92336142 0.99771759 0.97719205 0.95155534\n",
      " 0.96531446 0.98166959 0.99125507 0.97389452 0.95543156 0.95375046\n",
      " 0.97799381 0.93007326 0.92191005 0.90982807 0.8961947  0.8824898\n",
      " 0.86939299 0.85713494 0.84573233 0.83510113 0.8251074  0.81559402\n",
      " 0.80640066 0.79737896 0.78840578 0.7793895  0.77027309 0.76103282\n",
      " 0.75167412 0.74222559 0.73273158 0.72324479 0.71382058 0.70451033\n",
      " 0.69535905 0.68640119 0.67766076 0.66915029]\n",
      "27 day output [[0.6608738]]\n",
      "28 day input [0.67843218 0.7054655  0.70205158 0.71670945 0.71585597 0.71668359\n",
      " 0.72869372 0.71412961 0.71225778 0.71468567 0.72626907 0.73450644\n",
      " 0.75003718 0.75719154 0.74264682 0.74361345 0.72647597 0.71979685\n",
      " 0.73001597 0.74038057 0.74652304 0.74684956 0.74989493 0.7392523\n",
      " 0.75725619 0.76670913 0.80406825 0.79065181 0.78991148 0.76579099\n",
      " 0.79598606 0.80487647 0.80471806 0.81476261 0.81683812 0.83026102\n",
      " 0.84771209 0.83463511 0.84611505 0.81861943 0.81702239 0.84059653\n",
      " 0.8903893  0.89781199 0.93776388 0.92614492 0.95633353 0.98082904\n",
      " 1.         0.94760799 0.94477276 0.90947944 0.92174498 0.91890005\n",
      " 0.99399655 0.95924635 0.95060487 0.89620525 0.93887923 0.93638021\n",
      " 0.92885407 0.92336142 0.99771759 0.97719205 0.95155534 0.96531446\n",
      " 0.98166959 0.99125507 0.97389452 0.95543156 0.95375046 0.97799381\n",
      " 0.93007326 0.92191005 0.90982807 0.8961947  0.8824898  0.86939299\n",
      " 0.85713494 0.84573233 0.83510113 0.8251074  0.81559402 0.80640066\n",
      " 0.79737896 0.78840578 0.7793895  0.77027309 0.76103282 0.75167412\n",
      " 0.74222559 0.73273158 0.72324479 0.71382058 0.70451033 0.69535905\n",
      " 0.68640119 0.67766076 0.66915029 0.66087377]\n",
      "28 day output [[0.65282595]]\n",
      "29 day input [0.7054655  0.70205158 0.71670945 0.71585597 0.71668359 0.72869372\n",
      " 0.71412961 0.71225778 0.71468567 0.72626907 0.73450644 0.75003718\n",
      " 0.75719154 0.74264682 0.74361345 0.72647597 0.71979685 0.73001597\n",
      " 0.74038057 0.74652304 0.74684956 0.74989493 0.7392523  0.75725619\n",
      " 0.76670913 0.80406825 0.79065181 0.78991148 0.76579099 0.79598606\n",
      " 0.80487647 0.80471806 0.81476261 0.81683812 0.83026102 0.84771209\n",
      " 0.83463511 0.84611505 0.81861943 0.81702239 0.84059653 0.8903893\n",
      " 0.89781199 0.93776388 0.92614492 0.95633353 0.98082904 1.\n",
      " 0.94760799 0.94477276 0.90947944 0.92174498 0.91890005 0.99399655\n",
      " 0.95924635 0.95060487 0.89620525 0.93887923 0.93638021 0.92885407\n",
      " 0.92336142 0.99771759 0.97719205 0.95155534 0.96531446 0.98166959\n",
      " 0.99125507 0.97389452 0.95543156 0.95375046 0.97799381 0.93007326\n",
      " 0.92191005 0.90982807 0.8961947  0.8824898  0.86939299 0.85713494\n",
      " 0.84573233 0.83510113 0.8251074  0.81559402 0.80640066 0.79737896\n",
      " 0.78840578 0.7793895  0.77027309 0.76103282 0.75167412 0.74222559\n",
      " 0.73273158 0.72324479 0.71382058 0.70451033 0.69535905 0.68640119\n",
      " 0.67766076 0.66915029 0.66087377 0.65282595]\n",
      "29 day output [[0.6449967]]\n",
      "[[0.9300732612609863], [0.9219100475311279], [0.9098280668258667], [0.8961946964263916], [0.882489800453186], [0.869392991065979], [0.8571349382400513], [0.8457323312759399], [0.8351011276245117], [0.8251073956489563], [0.8155940175056458], [0.8064006567001343], [0.7973789572715759], [0.7884057760238647], [0.779389500617981], [0.7702730894088745], [0.7610328197479248], [0.7516741156578064], [0.7422255873680115], [0.7327315807342529], [0.7232447862625122], [0.7138205766677856], [0.7045103311538696], [0.6953590512275696], [0.6864011883735657], [0.6776607632637024], [0.6691502928733826], [0.6608737707138062], [0.6528259515762329], [0.644996702671051]]\n"
     ]
    }
   ],
   "source": [
    "# demonstrate prediction for next 10 days\n",
    "from numpy import array\n",
    "\n",
    "lst_output_open=[]\n",
    "n_steps=100\n",
    "i=0\n",
    "while(i<30):\n",
    "    \n",
    "    if(len(temp_input_open)>100):\n",
    "        #print(temp_input)\n",
    "        x_input_open=np.array(temp_input_open[1:])\n",
    "        print(\"{} day input {}\".format(i,x_input_open))\n",
    "        x_input_open=x_input_open.reshape(1,-1)\n",
    "        x_input_open = x_input_open.reshape((1, n_steps, 1))\n",
    "        #print(x_input)\n",
    "        yhat_open = model.predict(x_input_open, verbose=0)\n",
    "        print(\"{} day output {}\".format(i,yhat_open))\n",
    "        temp_input_open.extend(yhat_open[0].tolist())\n",
    "        temp_input_open=temp_input_open[1:]\n",
    "        #print(temp_input)\n",
    "        lst_output_open.extend(yhat_open.tolist())\n",
    "        i=i+1\n",
    "    else:\n",
    "        x_input_open = x_input_open.reshape((1, n_steps,1))\n",
    "        yhat_open = model.predict(x_input_open, verbose=0)\n",
    "        print(yhat_open[0])\n",
    "        temp_input_open.extend(yhat_open[0].tolist())\n",
    "        print(len(temp_input_open))\n",
    "        lst_output_open.extend(yhat_open.tolist())\n",
    "        i=i+1\n",
    "    \n",
    "\n",
    "print(lst_output_open)"
   ]
  },
  {
   "cell_type": "code",
   "execution_count": 97,
   "id": "e8e57d85",
   "metadata": {},
   "outputs": [],
   "source": [
    "day_new_open=np.arange(1,101)\n",
    "day_pred_open=np.arange(101,131)"
   ]
  },
  {
   "cell_type": "code",
   "execution_count": 98,
   "id": "b0975515",
   "metadata": {},
   "outputs": [],
   "source": [
    "import matplotlib.pyplot as plt"
   ]
  },
  {
   "cell_type": "code",
   "execution_count": 99,
   "id": "64367139",
   "metadata": {},
   "outputs": [
    {
     "data": {
      "text/plain": [
       "2473"
      ]
     },
     "execution_count": 99,
     "metadata": {},
     "output_type": "execute_result"
    }
   ],
   "source": [
    "len(df2)"
   ]
  },
  {
   "cell_type": "code",
   "execution_count": 101,
   "id": "2853d7e8",
   "metadata": {},
   "outputs": [
    {
     "data": {
      "text/plain": [
       "[<matplotlib.lines.Line2D at 0x2a0b89f94c0>]"
      ]
     },
     "execution_count": 101,
     "metadata": {},
     "output_type": "execute_result"
    },
    {
     "data": {
      "image/png": "[encoded data removed]",
      "text/plain": [
       "<Figure size 432x288 with 1 Axes>"
      ]
     },
     "metadata": {
      "needs_background": "light"
     },
     "output_type": "display_data"
    }
   ],
   "source": [
    "plt.plot(day_new_open,scaler.inverse_transform(df2[2373:]))\n",
    "plt.plot(day_pred_open,scaler.inverse_transform(lst_output_open))"
   ]
  },
  {
   "cell_type": "code",
   "execution_count": 105,
   "id": "a8c3cd82",
   "metadata": {},
   "outputs": [
    {
     "data": {
      "text/plain": [
       "[<matplotlib.lines.Line2D at 0x2a0b8bfed60>]"
      ]
     },
     "execution_count": 105,
     "metadata": {},
     "output_type": "execute_result"
    },
    {
     "data": {
      "image/png": "[encoded data removed]",
      "text/plain": [
       "<Figure size 432x288 with 1 Axes>"
      ]
     },
     "metadata": {
      "needs_background": "light"
     },
     "output_type": "display_data"
    }
   ],
   "source": [
    "df4=df2.tolist()\n",
    "df4.extend(lst_output_open)\n",
    "plt.plot(df4[2400:])"
   ]
  },
  {
   "cell_type": "code",
   "execution_count": null,
   "id": "989983d4",
   "metadata": {},
   "outputs": [],
   "source": []
  }
 ],
 "metadata": {
  "kernelspec": {
   "display_name": "Python 3 (ipykernel)",
   "language": "python",
   "name": "python3"
  },
  "language_info": {
   "codemirror_mode": {
    "name": "ipython",
    "version": 3
   },
   "file_extension": ".py",
   "mimetype": "text/x-python",
   "name": "python",
   "nbconvert_exporter": "python",
   "pygments_lexer": "ipython3",
   "version": "3.9.7"
  }
 },
 "nbformat": 4,
 "nbformat_minor": 5
}
